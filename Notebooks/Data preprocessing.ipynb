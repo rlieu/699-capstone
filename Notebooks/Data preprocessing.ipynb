{
 "cells": [
  {
   "cell_type": "code",
   "execution_count": 31,
   "id": "90343d33",
   "metadata": {},
   "outputs": [
    {
     "name": "stderr",
     "output_type": "stream",
     "text": [
      "[nltk_data] Downloading package punkt to\n",
      "[nltk_data]     C:\\Users\\qfu88\\AppData\\Roaming\\nltk_data...\n",
      "[nltk_data]   Package punkt is already up-to-date!\n",
      "[nltk_data] Downloading package stopwords to\n",
      "[nltk_data]     C:\\Users\\qfu88\\AppData\\Roaming\\nltk_data...\n",
      "[nltk_data]   Package stopwords is already up-to-date!\n",
      "[nltk_data] Downloading package wordnet to\n",
      "[nltk_data]     C:\\Users\\qfu88\\AppData\\Roaming\\nltk_data...\n"
     ]
    },
    {
     "data": {
      "text/plain": [
       "True"
      ]
     },
     "execution_count": 31,
     "metadata": {},
     "output_type": "execute_result"
    }
   ],
   "source": [
    "import pandas as pd\n",
    "import nltk\n",
    "from nltk.corpus import stopwords\n",
    "from nltk.tokenize import word_tokenize\n",
    "from nltk.stem import WordNetLemmatizer\n",
    "import spacy\n",
    "import re\n",
    "nltk.download('punkt')\n",
    "nltk.download('stopwords')\n",
    "nltk.download('wordnet')"
   ]
  },
  {
   "cell_type": "code",
   "execution_count": 2,
   "id": "6d4f63cc",
   "metadata": {},
   "outputs": [],
   "source": [
    "# # condense into one df \n",
    "df1 = pd.read_csv('Datasets/aspergers.csv', parse_dates=True)\n",
    "df2 = pd.read_csv('Datasets/depression.csv', parse_dates=True)\n",
    "df3 = pd.read_csv('Datasets/ocd.csv', parse_dates=True)\n",
    "df4 = pd.read_csv('Datasets/ptsd.csv', parse_dates=True)\n",
    "df5 = pd.read_csv('Datasets/adhd.csv', parse_dates=True)\n",
    "\n",
    "df = pd.concat([df1, df2, df3, df4,df5], ignore_index=True)\n"
   ]
  },
  {
   "cell_type": "code",
   "execution_count": 3,
   "id": "ac5634dc",
   "metadata": {},
   "outputs": [
    {
     "data": {
      "text/plain": [
       "(151288, 10)"
      ]
     },
     "execution_count": 3,
     "metadata": {},
     "output_type": "execute_result"
    }
   ],
   "source": [
    "df.shape"
   ]
  },
  {
   "cell_type": "code",
   "execution_count": 4,
   "id": "73247620",
   "metadata": {},
   "outputs": [],
   "source": [
    "## remove all rows with missing values\n",
    "df = df.dropna()"
   ]
  },
  {
   "cell_type": "code",
   "execution_count": 5,
   "id": "ef27b7b0",
   "metadata": {},
   "outputs": [
    {
     "data": {
      "text/plain": [
       "(149679, 10)"
      ]
     },
     "execution_count": 5,
     "metadata": {},
     "output_type": "execute_result"
    }
   ],
   "source": [
    "df.shape"
   ]
  },
  {
   "cell_type": "markdown",
   "id": "52c6c24a",
   "metadata": {},
   "source": [
    "### Check \"body\" column"
   ]
  },
  {
   "cell_type": "code",
   "execution_count": 6,
   "id": "9d439045",
   "metadata": {},
   "outputs": [
    {
     "data": {
      "text/plain": [
       "body\n",
       "[deleted]                                                                                                                                                                                                                                                                                                                                                                                                                                                                                                                                                                                                                                                                                                                                                                                                                                                                                                                                                                                                                                                                                                                                                                                                                                  38575\n",
       "[removed]                                                                                                                                                                                                                                                                                                                                                                                                                                                                                                                                                                                                                                                                                                                                                                                                                                                                                                                                                                                                                                                                                                                                                                                                                                  24026\n",
       ".                                                                                                                                                                                                                                                                                                                                                                                                                                                                                                                                                                                                                                                                                                                                                                                                                                                                                                                                                                                                                                                                                                                                                                                                                                            114\n",
       "?                                                                                                                                                                                                                                                                                                                                                                                                                                                                                                                                                                                                                                                                                                                                                                                                                                                                                                                                                                                                                                                                                                                                                                                                                                             15\n",
       "Title                                                                                                                                                                                                                                                                                                                                                                                                                                                                                                                                                                                                                                                                                                                                                                                                                                                                                                                                                                                                                                                                                                                                                                                                                                         12\n",
       "                                                                                                                                                                                                                                                                                                                                                                                                                                                                                                                                                                                                                                                                                                                                                                                                                                                                                                                                                                                                                                                                                                                                                                                                                                           ...  \n",
       "Hi! I (25F) am wondering if anyone has some advice related to the title of my post.  \\n\\nEver since my workplace has come back into the office full time, at least once a week one of three different coworkers uses OCD as an adjective when speaking/in emails. \\n\\nWe work in an environment where the majority of employees are have perfectionist tendencies and have to stay organized to succeed at the job. And I get it, it’s an easy cop-out to use for these traits in the moment. \\n\\nBut today was especially tough - my boss referred to himself as “totally OCD” over zoom chat and I didn’t know what to do. I ended up saying “no worries” or something of the sort. This has bothered me all day and I can’t seem to stop thinking about it and what I should have said in the moment. \\n\\nHas anyone here ever politely confronted a coworker about not using OCD in this context? I’m thinking I could talk about my own experience (diagnosed 2 years ago but have had it since I was 7; on meds and doing ERP)\\n\\nThanks so much!!                                                                                                                                                                                       1\n",
       "I have ocd themed around my fear of eating uncooked meat. Normally I buy ready made chicken from the store or cook it in my crockpot because I know that will evenly cook the chicken and make it very well done. I watched this video on Instagram on how to cook chicken on the stove and it inspired me to do it tonight. I was so nervous and was scared while eating it that I was going to get sick but I didn’t! I feel perfectly fine! I am so proud of myself :)                                                                                                                                                                                                                                                                                                                                                                                                                                                                                                                                                                                                                                                                                                                                                                      1\n",
       "So earlier this year I discovered what OCD *actually* is. I admit, I had no idea until I researched it. Anyway, a lot of what I had read explained what I thought were quirks of mine. Some of the things I just thought were normal. I’m talking back to when I was 4-5. I am 28 now. While I do have the anxiety and perceived threats and such coupled with compulsions, I don’t feel like it’s “enough” to warrant talking to someone because I’ve learned to just accept it. Remember that I thought it was all normal for 24 years. \\n\\nThere are some things I would like to get help with in regards to some of the thoughts I have, but I feel like I’m only after the answer of whether or not it’s actually OCD. So I’ll start analyzing things which will lead to doubting it and then ultimately convincing myself I don’t have OCD and I should let it go. The doubt remains but I can move on with my life if I have other things to occupy my mind. That is until this entire cycle repeats. \\n\\nI don’t want to waste someone’s time if it’s not necessary. So here I am. Been stuck in this loop since January and I can not make up my mind. Any of y’all have a similar issue? How did you fix it?                         1\n",
       "So the last two days have been “better”.\\n\\nThe weird sexual gay thoughts come, but they don’t give me anxiety, and they are coming up less. And they feel less real. The only “intrusive” thoughts that feel real is when my mind goes “oh he’s attractive”. Those thoughts don’t bother me well, because finding some men handsome isn’t a bad thing, it just means I have functioning eyeballs. So those don’t really bother me.\\n\\nA new issue that I’ve found:\\n\\nThe thought of vagina is grossing me out sometimes? Has this happened to anyone? Wtf happened? I love vagina. I love having sex with my girlfriend. But it’s like every time I say that in my head that, I do like having sex with girls my mind goes “no you dont”. Wtf happened? Just a couple of months ago I was a girl crazy pussy loving guy. How can this just happen after 19 years? It might be notable to mention that me and my girlfriend were having sex 7 months straight before this happened. And I know for certain that I loved having sex with her. I still do, but my mind says I don’t? Wtf is going on? And I had a girlfriend before my current girlfriend and I was also sexually active with her. Is my mind just playing tricks on me?        1\n",
       "I am supposed to be taking 18Mg Concerta but I remember long time ago taking 27Mg and getting terrible heart palpitations, sweating and ended up in the ER where they just gave me a calming pill…I am now wanting to take my medicine just to concentrate and study since it’s extremely difficult for me to sit and study the whole day. I’m just scared of a sudden dead since I read Ritalin and stimulants in general can kill you from a heart attack in rare cases.                                                                                                                                                                                                                                                                                                                                                                                                                                                                                                                                                                                                                                                                                                                                                                     1\n",
       "Name: count, Length: 86609, dtype: int64"
      ]
     },
     "execution_count": 6,
     "metadata": {},
     "output_type": "execute_result"
    }
   ],
   "source": [
    "df[\"body\"].value_counts()"
   ]
  },
  {
   "cell_type": "markdown",
   "id": "022e3351",
   "metadata": {},
   "source": [
    "## Preprocessing the text used for Sentiment Analysis model"
   ]
  },
  {
   "cell_type": "code",
   "execution_count": 7,
   "id": "16c50cf0",
   "metadata": {},
   "outputs": [],
   "source": [
    "## Remove \"[deleted]\" or \"[removed]\"\n",
    "\n",
    "df = df[~df[\"body\"].isin([\"[deleted]\", \"[removed]\"])]"
   ]
  },
  {
   "cell_type": "code",
   "execution_count": 8,
   "id": "fd09aabf",
   "metadata": {},
   "outputs": [
    {
     "data": {
      "text/plain": [
       "(87078, 10)"
      ]
     },
     "execution_count": 8,
     "metadata": {},
     "output_type": "execute_result"
    }
   ],
   "source": [
    "df.shape"
   ]
  },
  {
   "cell_type": "code",
   "execution_count": 9,
   "id": "114cc446",
   "metadata": {},
   "outputs": [],
   "source": [
    "# remove rows with very short responses, less than 3 characters\n",
    "df = df[df[\"body\"].str.len() > 2]\n"
   ]
  },
  {
   "cell_type": "code",
   "execution_count": 10,
   "id": "b464fa91",
   "metadata": {},
   "outputs": [
    {
     "data": {
      "text/plain": [
       "(86899, 10)"
      ]
     },
     "execution_count": 10,
     "metadata": {},
     "output_type": "execute_result"
    }
   ],
   "source": [
    "df.shape"
   ]
  },
  {
   "cell_type": "code",
   "execution_count": 11,
   "id": "7e8b9eb5",
   "metadata": {},
   "outputs": [],
   "source": [
    "## remove URL\n",
    "df['body'] = df['body'].replace(to_replace=r'http\\S+|www.\\S+', value='', regex=True)\n"
   ]
  },
  {
   "cell_type": "code",
   "execution_count": 12,
   "id": "5c3c4793",
   "metadata": {},
   "outputs": [
    {
     "data": {
      "text/plain": [
       "body\n",
       "[deleted]\\n\\n[View Poll](                                                                                                                                                                                                                                                                                                                                                                                                                                                                                                                                                                                                                                                                                                                                                                                                                                                                                                                                                                                                                                                                                                                                                                                                                                                                                                                                                                                                                                                                                                                                                                                                                                                                                                                                                                                                                                                                                                                                                                                                                                                                                                                                                                                                                                                                                                                       50\n",
       "[Here's last week's thread](\\n\\nSuggestions are ALWAYS welcome on how to improve the threads I post at any time. After all, I do this because the community wants these threads to exist, and I take the time out of my day (every Thursday and Saturday) to post the weekly threads, to ensure the community gets what it feels it needs.\\n\\n**So, continuing with the theme... /r/aspergers, How is your week going so far?** :)                                                                                                                                                                                                                                                                                                                                                                                                                                                                                                                                                                                                                                                                                                                                                                                                                                                                                                                                                                                                                                                                                                                                                                                                                                                                                                                                                                                                                                                                                                                                                                                                                                                                                                                                                                                                                                                                                                              45\n",
       "[Here's last week's Solitude Project Saturday](\\n\\n**So, /r/aspergers, what projects do you have on the go right now? Any ideas on the backburner for one reason or another? Any ideas just in the planning phase?** Even if you are working on them with someone else, they still apply here. If you can mention the interest that you have that relates to the project, that would be great; it may help others.                                                                                                                                                                                                                                                                                                                                                                                                                                                                                                                                                                                                                                                                                                                                                                                                                                                                                                                                                                                                                                                                                                                                                                                                                                                                                                                                                                                                                                                                                                                                                                                                                                                                                                                                                                                                                                                                                                                              43\n",
       "[                                                                                                                                                                                                                                                                                                                                                                                                                                                                                                                                                                                                                                                                                                                                                                                                                                                                                                                                                                                                                                                                                                                                                                                                                                                                                                                                                                                                                                                                                                                                                                                                                                                                                                                                                                                                                                                                                                                                                                                                                                                                                                                                                                                                                                                                                                                                               32\n",
       "                                                                                                                                                                                                                                                                                                                                                                                                                                                                                                                                                                                                                                                                                                                                                                                                                                                                                                                                                                                                                                                                                                                                                                                                                                                                                                                                                                                                                                                                                                                                                                                                                                                                                                                                                                                                                                                                                                                                                                                                                                                                                                                                                                                                                                                                                                                                                29\n",
       "                                                                                                                                                                                                                                                                                                                                                                                                                                                                                                                                                                                                                                                                                                                                                                                                                                                                                                                                                                                                                                                                                                                                                                                                                                                                                                                                                                                                                                                                                                                                                                                                                                                                                                                                                                                                                                                                                                                                                                                                                                                                                                                                                                                                                                                                                                                                                ..\n",
       "I know this would probably go under rOCD, but the subreddit is less active than here, and I just wanted to feel less alone with this issue. I know my partner isn’t going to cheat on me or anything like that, but I keep going through bursts where I can only think of a purely sexual fling they had. I know I shouldn’t be so hurt or upset about it because we weren’t on good terms or talking anymore at that point in time, but every time I think of it I feel like everything we’ve done together must not mean that much to him. Sometimes when we’re together I’ll remember it and it’ll just be a thought lingering in the back of my mind. I know logically that it didn’t mean much to them and that my partner loves me deeply, but I haven’t been able to go a day without thinking about it through at least one burst. I just wanted to come on here and at least feel a little less alone in this while I look for a therapist                                                                                                                                                                                                                                                                                                                                                                                                                                                                                                                                                                                                                                                                                                                                                                                                                                                                                                                                                                                                                                                                                                                                                                                                                                                                                                                                                                                              1\n",
       "TW: disturbing OCD themes\\n\\n>!Anyone else get this? I mean like anyone got a theme that stops them from going outside? I've got a theme at the moment where I can't look at women in certain outfits, like if they are in a bikini or even wearing leggings because what if somebody forced them to wear that and they didn't want to. I know it's dumb but yanno. I can't look at women and when I hear a woman I just look at the ground it sucks. I only go out for short walks. Sucks there isn't a cure for this thing and \"just live with the uncertainty\" is shit advice (cue all the comments going \"ItS tHe OnLy CuRe\").!<\\n\\n>!Also I made this post because I was on a selfie subreddit and saw a woman with cleavage and then clicked away but then kept looking at the subreddit and saw another woman with cleavage and I feel so damn bad about it.!<                                                                                                                                                                                                                                                                                                                                                                                                                                                                                                                                                                                                                                                                                                                                                                                                                                                                                                                                                                                                                                                                                                                                                                                                                                                                                                                                                                                                                                                                            1\n",
       "It was bad enough that i had to quit my job that i used to love because my OCD was becoming unmanageable at work but now it's making me gain weight pretty fast. I used to be 270 pounds a couple years ago but i dropped that down to around 240-235 just by dieting and counting calories and i was so proud of myself and happy that i was losing weight. After that however a lot of personal things happened including my OCD getting much worse than it was. I ended up going off my diet because i didn't need the added stress of watching what i eat and regained my old weight about half a year after. Then fairly recently i had to quit my job that i loved because i couldn't manage my OCD at work anymore and the stress was giving me daily panic attacks. But i decided that while i'm stuck home and able to relax more i'd go back on my diet and try and lose all that weight again. It was going slower than the last time at first but i figured that was fine since i was just starting and i was still losing a little bit going from 278 to 273. Because i was going slow i upped my diet and started eating less calories to try and speed things up. This morning i weighed myself only to find that i had gained weight and am now sitting at 280, a weight i'd never been before. i didn't know why i was gaining so much weight until it struck me. I had recently started taking a new pill for my OCD and Depression that was really starting to work and help along with my usual medication. And i realized that it must be connected. I was just starting the new medication when i started to diet which explains why i was losing weight so slowly and i had recently just upped it since it was working so well and that coincides with when i started to gain instead of lose weight. I finally looked it up to be sure and sure enough, weight gain was one of the side effects. \\n\\nSo now i have no idea what to do. On one hand i absolutely want and need to lose weight since i'm currently obese at 280 pounds. But on the other hand the medicine i'm taking is working and making me better and happier so i feel like i can't just stop taking it. Just when i thought my ocd was finally getting better it has to kick me down again by making me gain more weight than i'v ever weighed.     1\n",
       "I've been really struggling with the taboo theme of \"Race OCD\" & I'm finding it hard to function/find myself avoiding people out of fear of being perceived as racist.\\n\\nI constantly worry that I'm being perceived as racist. I'm white, I consider myself to be an ally to BIPOC and to work on being anti-racist. Lately though, I get hit with a ton of intrusive thoughts about coming across as racist when I speak to BIPOC, which causes anxiety, which my anxiety probably then appears racist to the other person. I can't imagine what BIPOC have to endure on a daily basis just because of their skin color, so I'm not trying to make this about me. It's pretty severe and it's attacking my core, because this \"theme\" feels opposite to what I value (being an ally, fighting to be anti-racist & dismantle racism) & who I am. I can tell that other people notice I'm anxious when I interact with them, and I just hate that I'm displaying nervousness because I'm sure it makes the other person uncomfortable.\\n\\nI know I'm coming off as anxious to other people. I know it because I'm trying so hard not to be perceived as racist, to get the interaction \"right\", that interactions just get weird, anxiety filled & awkward & I'm sure the other person is like WTF, this person is a racist.\\n\\nThis just recently became a problem too. I haven't always had this problem, a year ago is when it started. I dont know why this is happening, but it makes me feel awful.                                                                                                                                                                                                                                                                                                                                                                                                                                                                                                                                                                                                                                                                                                                                                                                                                                       1\n",
       "I am supposed to be taking 18Mg Concerta but I remember long time ago taking 27Mg and getting terrible heart palpitations, sweating and ended up in the ER where they just gave me a calming pill…I am now wanting to take my medicine just to concentrate and study since it’s extremely difficult for me to sit and study the whole day. I’m just scared of a sudden dead since I read Ritalin and stimulants in general can kill you from a heart attack in rare cases.                                                                                                                                                                                                                                                                                                                                                                                                                                                                                                                                                                                                                                                                                                                                                                                                                                                                                                                                                                                                                                                                                                                                                                                                                                                                                                                                                                                                                                                                                                                                                                                                                                                                                                                                                                                                                                                                       1\n",
       "Name: count, Length: 86341, dtype: int64"
      ]
     },
     "execution_count": 12,
     "metadata": {},
     "output_type": "execute_result"
    }
   ],
   "source": [
    "df[\"body\"].value_counts()"
   ]
  },
  {
   "cell_type": "code",
   "execution_count": 13,
   "id": "c8dc8f9b",
   "metadata": {},
   "outputs": [],
   "source": [
    "## continue cleaning\n",
    "\n",
    "# remove specific structured placeholders\n",
    "df['body'] = df['body'].replace(to_replace=r'\\[deleted\\]\\n\\n\\[View Poll\\]', value='', regex=True)\n",
    "\n",
    "# remove markdown and keep only the descriptive text\n",
    "df['body'] = df['body'].replace(to_replace=r'\\[([^\\]]+)\\]\\([^)]*\\)', value=r'\\1', regex=True)\n",
    "\n",
    "\n",
    "\n",
    "df['body'] = df['body'].str.strip()  #whitespace\n",
    "df = df[df['body'] != '']  # remove empty rows\n"
   ]
  },
  {
   "cell_type": "code",
   "execution_count": 14,
   "id": "08abf014",
   "metadata": {},
   "outputs": [
    {
     "data": {
      "text/plain": [
       "(86868, 10)"
      ]
     },
     "execution_count": 14,
     "metadata": {},
     "output_type": "execute_result"
    }
   ],
   "source": [
    "df.shape"
   ]
  },
  {
   "cell_type": "code",
   "execution_count": 15,
   "id": "46678cf9",
   "metadata": {},
   "outputs": [
    {
     "data": {
      "text/plain": [
       "body\n",
       "(                                                                                                                                                                                                                                                                                                                                                                                                                                                                                                                                                                                                                                                                                                                                                                                                                                                                                                                                                                                                                                                                                                                                       50\n",
       "Here's last week's thread to post the weekly threads, to ensure the community gets what it feels it needs.\\n\\n**So, continuing with the theme... /r/aspergers, How is your week going so far?** :)                                                                                                                                                                                                                                                                                                                                                                                                                                                                                                                                                                                                                                                                                                                                                                                                                                                                                                                                      45\n",
       "[Here's last week's Solitude Project Saturday](\\n\\n**So, /r/aspergers, what projects do you have on the go right now? Any ideas on the backburner for one reason or another? Any ideas just in the planning phase?** Even if you are working on them with someone else, they still apply here. If you can mention the interest that you have that relates to the project, that would be great; it may help others.                                                                                                                                                                                                                                                                                                                                                                                                                                                                                                                                                                                                                                                                                                                      43\n",
       "[                                                                                                                                                                                                                                                                                                                                                                                                                                                                                                                                                                                                                                                                                                                                                                                                                                                                                                                                                                                                                                                                                                                                       33\n",
       "[removed]\\n\\n[View Poll](                                                                                                                                                                                                                                                                                                                                                                                                                                                                                                                                                                                                                                                                                                                                                                                                                                                                                                                                                                                                                                                                                                               18\n",
       "                                                                                                                                                                                                                                                                                                                                                                                                                                                                                                                                                                                                                                                                                                                                                                                                                                                                                                                                                                                                                                                                                                                                        ..\n",
       "At first, it was just extra-hygiene, nothing to worry about  (washing hands, taking showers excessively). But it's getting worse day by day. It's not about items sorted by order, or getting diseases from outside. It's about my germs spreading to anyone else. Like i have no problem if someone outside touches me, but if my germs that i think are \"dirty\" gets somewhere, i clean everywhere in the house and ask everyone to wash their hands, change their clothes. For example i cleaned every light switch and doorknob in the house at 3AM because i thought it was dirty. Or washing the clean dishes again. I don't really have a problem with me being dirty but it's about my family touching my things and being contaminated by me. Anyway can someone tell me what to do, can i stop this without it getting worse??                                                                                                                                                                                                                                                                                                 1\n",
       "Hi all! Happy to be a part of the group. I’ve been dealing with OCD for as long as I can remember. I’ve been in recovery for the last few years and I’ve made a lot of progress. However, what I noticed recently is that when my anxiety is really high I start to do what I like to call “little rituals”. Nothing long and drawn out like I used to do, but I’m still doing repetitive things. I really think that it’s completely subconscious because I rarely notice that I’m doing it until I catch myself. Some of the things that I do is that I’ll touch the corners of the walls, I’ll tap the bottom of my cup a couple times on the table, I’ll start skin picking or fidgeting with the tips of my fingers until I feel calm. Sometimes I’ll count even numbers in my head when doing these things but not all the time. This all has become a normal form of emotional regulation for me that again, it’s usually something I don’t even realize I’m doing. Is this something that I should be trying to stop? Is this something that is prolonging my recovery? I’d love to hear your thoughts and opinions. Thanks!     1\n",
       "I’ve had the most horrendous intrusive thoughts. The most threatening themes that made me question my humanity and core values. I attacked myself over and over and ran in circles fighting it, questioning myself. I even dredged up old memories from the depth of my mind to prove OCD right.\\n\\nI want to tell you it’s all bullshit. You are a good person. Trust yourself. I’ve learnt from this forum that reassurance seeking is a type of compulsion and to just sit with the discomfort. Even when it feels like “this time is different”. I am here to tell you that it’s not. It’s all the same, it’s all OCD up to its usual tricks. This too shall pass, friend. I promise you. I sat with my anxiety and let the thoughts pass and sure enough, I made it out on the other side and felt the fog clear. \\n\\nIf you’re battling with this, trust yourself and trust the process.\\n\\nEdit: grammar                                                                                                                                                                                                                          1\n",
       "I keep ruminating and it’s impairing my functioning. How do I get myself to let go of this even for a while?\\n\\nThank you                                                                                                                                                                                                                                                                                                                                                                                                                                                                                                                                                                                                                                                                                                                                                                                                                                                                                                                                                                                                                1\n",
       "I am supposed to be taking 18Mg Concerta but I remember long time ago taking 27Mg and getting terrible heart palpitations, sweating and ended up in the ER where they just gave me a calming pill…I am now wanting to take my medicine just to concentrate and study since it’s extremely difficult for me to sit and study the whole day. I’m just scared of a sudden dead since I read Ritalin and stimulants in general can kill you from a heart attack in rare cases.                                                                                                                                                                                                                                                                                                                                                                                                                                                                                                                                                                                                                                                               1\n",
       "Name: count, Length: 86302, dtype: int64"
      ]
     },
     "execution_count": 15,
     "metadata": {},
     "output_type": "execute_result"
    }
   ],
   "source": [
    "df[\"body\"].value_counts()"
   ]
  },
  {
   "cell_type": "code",
   "execution_count": 16,
   "id": "f6c3c5e6",
   "metadata": {},
   "outputs": [],
   "source": [
    "## further cleaning\n",
    "# remove more specific structured placeholders\n",
    "df['body'] = df['body'].replace(to_replace=r'\\[removed\\].*?\\[View Poll\\]\\(', value='', regex=True)\n",
    "df['body'] = df['body'].replace(to_replace=r'\\[.*?\\]\\(.*?\\)', value='', regex=True)  \n",
    "df['body'] = df['body'].replace(to_replace=r'\\[|\\]', value='', regex=True)  \n",
    "\n",
    "# remove entries that only consist of punctuation or are extremely short after previous cleanings\n",
    "df['body'] = df['body'].replace(to_replace=r'^\\s*\\W*\\s*$', value='', regex=True)\n",
    "\n",
    "\n",
    "df['body'] = df['body'].str.strip()  # remove whitespace\n",
    "df = df[df['body'] != '']  # remove empty rows\n"
   ]
  },
  {
   "cell_type": "code",
   "execution_count": 17,
   "id": "536e02c8",
   "metadata": {},
   "outputs": [
    {
     "data": {
      "text/plain": [
       "(86762, 10)"
      ]
     },
     "execution_count": 17,
     "metadata": {},
     "output_type": "execute_result"
    }
   ],
   "source": [
    "df.shape"
   ]
  },
  {
   "cell_type": "code",
   "execution_count": 18,
   "id": "e8d8c9bf",
   "metadata": {},
   "outputs": [
    {
     "data": {
      "text/plain": [
       "body\n",
       "Here's last week's thread to post the weekly threads, to ensure the community gets what it feels it needs.\\n\\n**So, continuing with the theme... /r/aspergers, How is your week going so far?** :)                                                                                                                                                                                                                                                                                                                                                                                                                                                                                                                                                                                                                                                                                                                                                                                                                                                                                                                                                                                                                                                                                                                                                                                                                                                                                                                                                                                                                                                                                                                                                                                                                                                                                                                                                                                                                                                                                                                                                                                                                                                                                                                                                                                                     45\n",
       "Here's last week's Solitude Project Saturday(\\n\\n**So, /r/aspergers, what projects do you have on the go right now? Any ideas on the backburner for one reason or another? Any ideas just in the planning phase?** Even if you are working on them with someone else, they still apply here. If you can mention the interest that you have that relates to the project, that would be great; it may help others.                                                                                                                                                                                                                                                                                                                                                                                                                                                                                                                                                                                                                                                                                                                                                                                                                                                                                                                                                                                                                                                                                                                                                                                                                                                                                                                                                                                                                                                                                                                                                                                                                                                                                                                                                                                                                                                                                                                                                                                       43\n",
       "removed\\n\\nView Poll(                                                                                                                                                                                                                                                                                                                                                                                                                                                                                                                                                                                                                                                                                                                                                                                                                                                                                                                                                                                                                                                                                                                                                                                                                                                                                                                                                                                                                                                                                                                                                                                                                                                                                                                                                                                                                                                                                                                                                                                                                                                                                                                                                                                                                                                                                                                                                                                  18\n",
       "View Poll(                                                                                                                                                                                                                                                                                                                                                                                                                                                                                                                                                                                                                                                                                                                                                                                                                                                                                                                                                                                                                                                                                                                                                                                                                                                                                                                                                                                                                                                                                                                                                                                                                                                                                                                                                                                                                                                                                                                                                                                                                                                                                                                                                                                                                                                                                                                                                                                             14\n",
       "Just started meds? Talk about it here. Please remember that we don't allow asking for or giving medical advice.                                                                                                                                                                                                                                                                                                                                                                                                                                                                                                                                                                                                                                                                                                                                                                                                                                                                                                                                                                                                                                                                                                                                                                                                                                                                                                                                                                                                                                                                                                                                                                                                                                                                                                                                                                                                                                                                                                                                                                                                                                                                                                                                                                                                                                                                                        12\n",
       "                                                                                                                                                                                                                                                                                                                                                                                                                                                                                                                                                                                                                                                                                                                                                                                                                                                                                                                                                                                                                                                                                                                                                                                                                                                                                                                                                                                                                                                                                                                                                                                                                                                                                                                                                                                                                                                                                                                                                                                                                                                                                                                                                                                                                                                                                                                                                                                                       ..\n",
       "I keep ruminating and it’s impairing my functioning. How do I get myself to let go of this even for a while?\\n\\nThank you                                                                                                                                                                                                                                                                                                                                                                                                                                                                                                                                                                                                                                                                                                                                                                                                                                                                                                                                                                                                                                                                                                                                                                                                                                                                                                                                                                                                                                                                                                                                                                                                                                                                                                                                                                                                                                                                                                                                                                                                                                                                                                                                                                                                                                                                               1\n",
       "everybody here seems to know that their obessions are irrational. But I don't feel like mine are \"unbelievable\" because there's a fair chance they are real. so I have no idea what is real and what is not  because there's nothing stopping it from being real.\\n\\nI feel like this type of obsessions is way harder to treat idk.\\n\\nanyone else?                                                                                                                                                                                                                                                                                                                                                                                                                                                                                                                                                                                                                                                                                                                                                                                                                                                                                                                                                                                                                                                                                                                                                                                                                                                                                                                                                                                                                                                                                                                                                                                                                                                                                                                                                                                                                                                                                                                                                                                                                                                    1\n",
       "My OCD has gotten horrendous lately bc the stress of exams, I have one left which is good but I am in a very difficult scenario right now. I am supposed to hu with someone tomorrow but my theme is orgasm manifestation and I am worried I might think of something wrong and sabotage myself. What do I do?                                                                                                                                                                                                                                                                                                                                                                                                                                                                                                                                                                                                                                                                                                                                                                                                                                                                                                                                                                                                                                                                                                                                                                                                                                                                                                                                                                                                                                                                                                                                                                                                                                                                                                                                                                                                                                                                                                                                                                                                                                                                                          1\n",
       "Hi, \\nI just recently had a baby and I'm starting to notice some things about myself that I'm not comfortable with. A short backstory, I've always had depression and anxiety, was diagnosed with GAD and my therapist said what seemed to be minor OCD. I don't recall having any of these issues back then so I don't know what he saw that made him say that. But now, here are some things I have come to realize and it quite honestly is very inconvenient, uncomfortable, and increasing....\\n\\n-I CONSTANTLY twiddle my hair. I literally cannot stop if I'm not doing something with my hands. I physically have to stop myself from doing it because it breaks my hair off so bad. But when I make myself stop doing it, it's like this addictive urge that I have to keep going \\n\\n-Constantly picking at my skin on my thumbs If I'm not messing with my hair\\n\\n- I have to take drinks in increments of 6 or 10\\n\\n- I have to pump my soap in increments of 4 or 12 unless it's the face soap then it has to be 2\\n\\n-TV has to be at volume 8,10,15, 20, or 35\\n\\n-I have to keep my house clean or I feel like I'm going to lose control\\n\\n-I have to make my bed in the morning or I feel like my baby will die\\n\\n-horrible intrusive thoughts about someone violently killing my baby\\n\\n-constant sexual ideation. Like not a single day goes by I don't think about sex and it's very annoying.\\n\\nI have noticed since I had my baby (4 months pp) it's just out of control and new things crop up every week it seems that I latch on to and feel like I have to do or feel like I'm going to break or someone will die. I am on medication for PPD but I don't feel like it's working anymore. I'm so stressed out and feel like I'm losing control over everything. \\nMost of these things that I do I have been doing for years like the hair and skin picking, I used to do this annoying thing where I'd say \"get to the room or up the stairs in 10 seconds or someone will die\" but I managed to counter that and stop. But the bed, the soap, tv, and intrusive baby death thoughts have been within the last 4-6 months.\\n\\nWhat do I do? How can I get better? How can I actively stop doing these things? I have been trying to find a therapist for months and having a very hard time. I'm at my wits end. I feel like my mind doesn't belong to me anymore.     1\n",
       "I am supposed to be taking 18Mg Concerta but I remember long time ago taking 27Mg and getting terrible heart palpitations, sweating and ended up in the ER where they just gave me a calming pill…I am now wanting to take my medicine just to concentrate and study since it’s extremely difficult for me to sit and study the whole day. I’m just scared of a sudden dead since I read Ritalin and stimulants in general can kill you from a heart attack in rare cases.                                                                                                                                                                                                                                                                                                                                                                                                                                                                                                                                                                                                                                                                                                                                                                                                                                                                                                                                                                                                                                                                                                                                                                                                                                                                                                                                                                                                                                                                                                                                                                                                                                                                                                                                                                                                                                                                                                                              1\n",
       "Name: count, Length: 86282, dtype: int64"
      ]
     },
     "execution_count": 18,
     "metadata": {},
     "output_type": "execute_result"
    }
   ],
   "source": [
    "df[\"body\"].value_counts()"
   ]
  },
  {
   "cell_type": "code",
   "execution_count": 22,
   "id": "5fd9e9ad",
   "metadata": {},
   "outputs": [],
   "source": [
    "# Normalize whitespace by replacing multiple spaces with a single space\n",
    "df['body'] = df['body'].apply(lambda x: re.sub(r'\\s+', ' ', x).strip())\n"
   ]
  },
  {
   "cell_type": "code",
   "execution_count": 27,
   "id": "9ade2a96",
   "metadata": {},
   "outputs": [],
   "source": [
    "# convert text data to lowercase\n",
    "df['body'] = df['body'].str.lower()\n"
   ]
  },
  {
   "cell_type": "code",
   "execution_count": 29,
   "id": "6f4e256b",
   "metadata": {},
   "outputs": [],
   "source": [
    "# save only the preprocessed 'body' column to a new CSV file\n",
    "df['body'].to_csv('Datasets/preprocessed_texts.csv', index=False, header=True)\n"
   ]
  },
  {
   "cell_type": "markdown",
   "id": "d022569a",
   "metadata": {},
   "source": [
    "## Further Preprocessing the Text for Classification Model"
   ]
  },
  {
   "cell_type": "code",
   "execution_count": 30,
   "id": "90c136b4",
   "metadata": {},
   "outputs": [],
   "source": [
    "## reduce datasize by randomly sample a subset data\n",
    "sampled_df = df.sample(n=20000, random_state=1)"
   ]
  },
  {
   "cell_type": "code",
   "execution_count": 34,
   "id": "231fc5e9",
   "metadata": {},
   "outputs": [],
   "source": [
    "nlp = spacy.load('en_core_web_sm')\n",
    "# preprocessing function:\n",
    "def preprocess_text(text):\n",
    "   \n",
    "    # remove special characters, punctuation, and numbers\n",
    "    text = re.sub(r'[^a-zA-Z\\s]', '', text)\n",
    "    # tokenize and lemmatize the text\n",
    "    doc = nlp(text)\n",
    "    tokens = [token.lemma_ for token in doc if token.text not in stopwords.words('english')]\n",
    "    # join the tokens back into a string\n",
    "    return ' '.join(tokens)"
   ]
  },
  {
   "cell_type": "code",
   "execution_count": 35,
   "id": "0c93d0a0",
   "metadata": {},
   "outputs": [],
   "source": [
    "sampled_df['preprocessed_text'] = sampled_df['body'].apply(preprocess_text)"
   ]
  },
  {
   "cell_type": "code",
   "execution_count": 36,
   "id": "1c2f82e8",
   "metadata": {},
   "outputs": [],
   "source": [
    "sampled_df = sampled_df.drop('body', axis=1)"
   ]
  },
  {
   "cell_type": "code",
   "execution_count": 38,
   "id": "0d8b8d7e",
   "metadata": {},
   "outputs": [
    {
     "data": {
      "text/html": [
       "<div>\n",
       "<style scoped>\n",
       "    .dataframe tbody tr th:only-of-type {\n",
       "        vertical-align: middle;\n",
       "    }\n",
       "\n",
       "    .dataframe tbody tr th {\n",
       "        vertical-align: top;\n",
       "    }\n",
       "\n",
       "    .dataframe thead th {\n",
       "        text-align: right;\n",
       "    }\n",
       "</style>\n",
       "<table border=\"1\" class=\"dataframe\">\n",
       "  <thead>\n",
       "    <tr style=\"text-align: right;\">\n",
       "      <th></th>\n",
       "      <th>author</th>\n",
       "      <th>created_utc</th>\n",
       "      <th>id</th>\n",
       "      <th>num_comments</th>\n",
       "      <th>score</th>\n",
       "      <th>subreddit</th>\n",
       "      <th>title</th>\n",
       "      <th>upvote_ratio</th>\n",
       "      <th>url</th>\n",
       "      <th>preprocessed_text</th>\n",
       "    </tr>\n",
       "  </thead>\n",
       "  <tbody>\n",
       "    <tr>\n",
       "      <th>130939</th>\n",
       "      <td>beegpotatatos</td>\n",
       "      <td>2021-11-16T17:50:37.000Z</td>\n",
       "      <td>qvdkud</td>\n",
       "      <td>6</td>\n",
       "      <td>2</td>\n",
       "      <td>ADHD</td>\n",
       "      <td>How has being diagnosed helped you? apart from...</td>\n",
       "      <td>1.0</td>\n",
       "      <td>https://www.reddit.com/r/ADHD/comments/qvdkud/...</td>\n",
       "      <td>hello undiagnosed strongly feel add want get t...</td>\n",
       "    </tr>\n",
       "  </tbody>\n",
       "</table>\n",
       "</div>"
      ],
      "text/plain": [
       "               author               created_utc      id  num_comments  score  \\\n",
       "130939  beegpotatatos  2021-11-16T17:50:37.000Z  qvdkud             6      2   \n",
       "\n",
       "       subreddit                                              title  \\\n",
       "130939      ADHD  How has being diagnosed helped you? apart from...   \n",
       "\n",
       "        upvote_ratio                                                url  \\\n",
       "130939           1.0  https://www.reddit.com/r/ADHD/comments/qvdkud/...   \n",
       "\n",
       "                                        preprocessed_text  \n",
       "130939  hello undiagnosed strongly feel add want get t...  "
      ]
     },
     "execution_count": 38,
     "metadata": {},
     "output_type": "execute_result"
    }
   ],
   "source": [
    "sampled_df.head(1)"
   ]
  },
  {
   "cell_type": "code",
   "execution_count": 39,
   "id": "cb1e1a22",
   "metadata": {},
   "outputs": [],
   "source": [
    "from sklearn.feature_extraction.text import TfidfVectorizer\n",
    "\n",
    "\n",
    "tfidf_vect = TfidfVectorizer(max_df=0.95, min_df=2, max_features=1000)\n",
    "\n",
    "# apply it to preprocessed text\n",
    "tfidf_matrix = tfidf_vect.fit_transform(sampled_df['preprocessed_text'])"
   ]
  },
  {
   "cell_type": "code",
   "execution_count": 40,
   "id": "56081a16",
   "metadata": {},
   "outputs": [
    {
     "name": "stdout",
     "output_type": "stream",
     "text": [
      "Shape of tfidf_matrix: (20000, 1000)\n"
     ]
    }
   ],
   "source": [
    "# display the shape of the matrix\n",
    "print(\"Shape of tfidf_matrix:\", tfidf_matrix.shape)"
   ]
  },
  {
   "cell_type": "code",
   "execution_count": 41,
   "id": "86533d98",
   "metadata": {},
   "outputs": [],
   "source": [
    "from scipy import sparse\n",
    "\n",
    "# save tfidf_matrix\n",
    "sparse.save_npz(\"Datasets/tfidf_matrix.npz\", tfidf_matrix)"
   ]
  },
  {
   "cell_type": "code",
   "execution_count": null,
   "id": "12eaffd6",
   "metadata": {},
   "outputs": [],
   "source": []
  }
 ],
 "metadata": {
  "kernelspec": {
   "display_name": "Python 3 (ipykernel)",
   "language": "python",
   "name": "python3"
  },
  "language_info": {
   "codemirror_mode": {
    "name": "ipython",
    "version": 3
   },
   "file_extension": ".py",
   "mimetype": "text/x-python",
   "name": "python",
   "nbconvert_exporter": "python",
   "pygments_lexer": "ipython3",
   "version": "3.8.13"
  },
  "toc": {
   "base_numbering": 1,
   "nav_menu": {},
   "number_sections": false,
   "sideBar": true,
   "skip_h1_title": false,
   "title_cell": "Table of Contents",
   "title_sidebar": "Contents",
   "toc_cell": false,
   "toc_position": {},
   "toc_section_display": true,
   "toc_window_display": false
  }
 },
 "nbformat": 4,
 "nbformat_minor": 5
}
