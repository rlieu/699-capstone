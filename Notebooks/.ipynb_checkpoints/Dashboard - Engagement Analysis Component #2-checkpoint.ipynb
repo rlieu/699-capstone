{
 "cells": [
  {
   "cell_type": "code",
   "execution_count": 1,
   "id": "852ca5e5",
   "metadata": {},
   "outputs": [],
   "source": [
    "import pandas as pd\n",
    "from jupyter_dash import JupyterDash\n",
    "from dash import dcc, html\n",
    "from dash.dependencies import Input, Output\n",
    "import plotly.express as px  \n",
    "\n",
    "from dash import dash_table\n",
    "\n",
    "app = JupyterDash(__name__)\n"
   ]
  },
  {
   "cell_type": "markdown",
   "id": "e31d2772",
   "metadata": {},
   "source": [
    "## Interactive Scatter Plot and Bubble Chart for Community Interaction Analysis\n",
    "\n",
    "Scatter Plot: Visualize the relationship between the number of comments (num_comments) and post score (score) to see if there's a correlation between engagement and the community's reception of a post. Each point could represent a post, with the subreddit as the color category.\n",
    "\n",
    "Bubble Chart: Extend the scatter plot by incorporating the upvote_ratio as the size of each bubble. This would give insight into not only the engagement and reception but also how divisive or universally liked the posts are within each subreddit."
   ]
  },
  {
   "cell_type": "markdown",
   "id": "9ce6fa38",
   "metadata": {},
   "source": [
    "### Get Datasets Ready"
   ]
  },
  {
   "cell_type": "code",
   "execution_count": 2,
   "id": "be38ae94",
   "metadata": {},
   "outputs": [],
   "source": [
    "sampled_ptsd_df = pd.read_csv('../Engagement Analysis Datasets/sampled_ptsd.csv', parse_dates=['created_utc'], index_col='created_utc')\n",
    "sampled_adhd_df = pd.read_csv('../Engagement Analysis Datasets/sampled_adhd.csv', parse_dates=['created_utc'], index_col='created_utc')\n",
    "sampled_apg_df = pd.read_csv('../Engagement Analysis Datasets/sampled_apg.csv', parse_dates=['created_utc'], index_col='created_utc')\n",
    "sampled_dps_df = pd.read_csv('../Engagement Analysis Datasets/sampled_dps.csv', parse_dates=['created_utc'], index_col='created_utc')\n",
    "sampled_ocd_df = pd.read_csv('../Engagement Analysis Datasets/sampled_ocd.csv', parse_dates=['created_utc'], index_col='created_utc')"
   ]
  },
  {
   "cell_type": "code",
   "execution_count": 3,
   "id": "9b4d8252",
   "metadata": {},
   "outputs": [
    {
     "name": "stdout",
     "output_type": "stream",
     "text": [
      "Statistics for PTSD subreddit:\n",
      "count    10000.000000\n",
      "mean         7.203900\n",
      "std         13.116849\n",
      "min          0.000000\n",
      "25%          1.000000\n",
      "50%          3.000000\n",
      "75%          7.000000\n",
      "max        245.000000\n",
      "Name: num_comments, dtype: float64 \n",
      "\n",
      "Statistics for ADHD subreddit:\n",
      "count    10000.000000\n",
      "mean        14.051400\n",
      "std         64.373999\n",
      "min          0.000000\n",
      "25%          2.000000\n",
      "50%          4.000000\n",
      "75%          7.000000\n",
      "max       1909.000000\n",
      "Name: num_comments, dtype: float64 \n",
      "\n",
      "Statistics for OCD subreddit:\n",
      "count    10000.000000\n",
      "mean         4.984800\n",
      "std         12.424162\n",
      "min          0.000000\n",
      "25%          1.000000\n",
      "50%          2.000000\n",
      "75%          5.000000\n",
      "max        466.000000\n",
      "Name: num_comments, dtype: float64 \n",
      "\n",
      "Statistics for Depression subreddit:\n",
      "count    10000.000000\n",
      "mean         3.099700\n",
      "std          9.834634\n",
      "min          0.000000\n",
      "25%          0.000000\n",
      "50%          1.000000\n",
      "75%          3.000000\n",
      "max        362.000000\n",
      "Name: num_comments, dtype: float64 \n",
      "\n",
      "Statistics for Aspergers subreddit:\n",
      "count    10000.000000\n",
      "mean        16.655700\n",
      "std         30.772742\n",
      "min          0.000000\n",
      "25%          3.000000\n",
      "50%          7.000000\n",
      "75%         16.000000\n",
      "max        560.000000\n",
      "Name: num_comments, dtype: float64 \n",
      "\n"
     ]
    }
   ],
   "source": [
    "datasets = {\n",
    "    'PTSD': sampled_ptsd_df,\n",
    "    'ADHD': sampled_adhd_df,\n",
    "    'OCD': sampled_ocd_df,\n",
    "    'Depression': sampled_dps_df,\n",
    "    'Aspergers': sampled_apg_df\n",
    "}\n",
    "\n",
    "#print the stat for the 'num_comments' column\n",
    "for subreddit, df in datasets.items():\n",
    "    print(f\"Statistics for {subreddit} subreddit:\")\n",
    "    print(df['num_comments'].describe(), '\\n')\n"
   ]
  },
  {
   "cell_type": "markdown",
   "id": "8255eec6",
   "metadata": {},
   "source": [
    "Filtering for comments above 75% threshold\n",
    "\n",
    "PTSD: More than 7 comments\n",
    "\n",
    "ADHD: More than 7 comments\n",
    "\n",
    "OCD: More than 5 comments\n",
    "\n",
    "Depression: More than 3 comments\n",
    "\n",
    "Aspergers: More than 16 comments\n"
   ]
  },
  {
   "cell_type": "code",
   "execution_count": 4,
   "id": "4f2e92f2",
   "metadata": {},
   "outputs": [],
   "source": [
    "## Filtering\n",
    "\n",
    "filtered_ptsd_df = sampled_ptsd_df[sampled_ptsd_df['num_comments'] > 7]\n",
    "filtered_adhd_df = sampled_adhd_df[sampled_adhd_df['num_comments'] > 7]\n",
    "filtered_ocd_df = sampled_ocd_df[sampled_ocd_df['num_comments'] > 5]\n",
    "filtered_dps_df = sampled_dps_df[sampled_dps_df['num_comments'] > 3]\n",
    "filtered_apg_df = sampled_apg_df[sampled_apg_df['num_comments'] > 16]"
   ]
  },
  {
   "cell_type": "code",
   "execution_count": 5,
   "id": "917cfac3",
   "metadata": {},
   "outputs": [],
   "source": [
    "#then combine\n",
    "combined_filtered_df = pd.concat([\n",
    "    filtered_ptsd_df,\n",
    "    filtered_adhd_df,\n",
    "    filtered_ocd_df,\n",
    "    filtered_dps_df,\n",
    "    filtered_apg_df\n",
    "])\n"
   ]
  },
  {
   "cell_type": "code",
   "execution_count": 6,
   "id": "2bdd8f07",
   "metadata": {},
   "outputs": [
    {
     "data": {
      "text/html": [
       "\n",
       "        <iframe\n",
       "            width=\"100%\"\n",
       "            height=\"650\"\n",
       "            src=\"http://127.0.0.1:8051/\"\n",
       "            frameborder=\"0\"\n",
       "            allowfullscreen\n",
       "            \n",
       "        ></iframe>\n",
       "        "
      ],
      "text/plain": [
       "<IPython.lib.display.IFrame at 0x1ee4e61e8b0>"
      ]
     },
     "metadata": {},
     "output_type": "display_data"
    }
   ],
   "source": [
    "app.layout = html.Div([\n",
    "    dcc.Dropdown(\n",
    "        id='subreddit-dropdown',\n",
    "        options=[{'label': i, 'value': i} for i in combined_filtered_df['subreddit'].unique()],\n",
    "        value=combined_filtered_df['subreddit'].unique().tolist(),  # default value\n",
    "        multi=True\n",
    "    ),\n",
    "    dcc.Graph(id='interaction-scatter-plot')\n",
    "])\n",
    "\n",
    "\n",
    "@app.callback(\n",
    "    Output('interaction-scatter-plot', 'figure'),\n",
    "    [Input('subreddit-dropdown', 'value')]\n",
    ")\n",
    "def update_figure(selected_subreddits):\n",
    "    filtered_df = combined_filtered_df[combined_filtered_df['subreddit'].isin(selected_subreddits)]\n",
    "    \n",
    "    fig = px.scatter(\n",
    "        filtered_df, \n",
    "        x='num_comments', \n",
    "        y='score', \n",
    "        size='upvote_ratio',\n",
    "        color='subreddit', \n",
    "        hover_name='title',\n",
    "        title='Community Interaction Analysis'\n",
    "    )\n",
    "    \n",
    "    fig.update_layout(transition_duration=500)\n",
    "    return fig\n",
    "\n",
    "\n",
    "if __name__ == '__main__':\n",
    "    app.run_server(mode='inline', debug=True, port=8051) \n"
   ]
  },
  {
   "cell_type": "code",
   "execution_count": null,
   "id": "7576dafe",
   "metadata": {},
   "outputs": [],
   "source": []
  }
 ],
 "metadata": {
  "kernelspec": {
   "display_name": "Python 3 (ipykernel)",
   "language": "python",
   "name": "python3"
  },
  "language_info": {
   "codemirror_mode": {
    "name": "ipython",
    "version": 3
   },
   "file_extension": ".py",
   "mimetype": "text/x-python",
   "name": "python",
   "nbconvert_exporter": "python",
   "pygments_lexer": "ipython3",
   "version": "3.8.13"
  },
  "toc": {
   "base_numbering": 1,
   "nav_menu": {},
   "number_sections": false,
   "sideBar": true,
   "skip_h1_title": false,
   "title_cell": "Table of Contents",
   "title_sidebar": "Contents",
   "toc_cell": false,
   "toc_position": {},
   "toc_section_display": true,
   "toc_window_display": false
  }
 },
 "nbformat": 4,
 "nbformat_minor": 5
}
