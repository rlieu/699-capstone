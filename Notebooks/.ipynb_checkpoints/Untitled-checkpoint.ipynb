{
 "cells": [
  {
   "cell_type": "code",
   "execution_count": 20,
   "id": "bbf5f307",
   "metadata": {},
   "outputs": [],
   "source": [
    "#Import necessary libraries\n",
    "import numpy as np\n",
    "import pandas as pd\n",
    "import scipy.sparse as sp\n",
    "from sklearn.decomposition import NMF\n",
    "from sklearn.feature_extraction.text import TfidfVectorizer\n",
    "from sklearn.metrics.pairwise import cosine_similarity\n",
    "import seaborn as sns\n",
    "import matplotlib.pyplot as plt\n",
    "import pickle\n",
    "from gensim.models.coherencemodel import CoherenceModel\n",
    "from gensim.corpora.dictionary import Dictionary\n",
    "from gensim import corpora, models"
   ]
  },
  {
   "cell_type": "code",
   "execution_count": 21,
   "id": "666761c8",
   "metadata": {},
   "outputs": [],
   "source": [
    "df = pd.read_csv('../Datasets/preprocessed_df.csv')"
   ]
  },
  {
   "cell_type": "code",
   "execution_count": 22,
   "id": "81c82db6",
   "metadata": {},
   "outputs": [],
   "source": [
    "df.dropna(inplace=True)"
   ]
  },
  {
   "cell_type": "code",
   "execution_count": 23,
   "id": "69c6ec4b",
   "metadata": {},
   "outputs": [],
   "source": [
    "vec = TfidfVectorizer(max_df=0.95, min_df=2, max_features=1000)\n",
    "tfidf = vec.fit_transform(df['preprocessed_text'])"
   ]
  },
  {
   "cell_type": "code",
   "execution_count": 26,
   "id": "7410c683",
   "metadata": {},
   "outputs": [],
   "source": [
    "feature_names = vec.get_feature_names_out()"
   ]
  },
  {
   "cell_type": "code",
   "execution_count": 24,
   "id": "42091fab",
   "metadata": {},
   "outputs": [],
   "source": [
    "#Set random state\n",
    "random_state = 696"
   ]
  },
  {
   "cell_type": "code",
   "execution_count": 25,
   "id": "af25139e",
   "metadata": {},
   "outputs": [],
   "source": [
    "#get the feature ready for the coherence model\n",
    "\n",
    "df['preprocessed_text'] = df['preprocessed_text'].apply(lambda x: x.split())\n",
    "texts = df['preprocessed_text'].tolist()\n",
    "dictionary = corpora.Dictionary(texts)"
   ]
  },
  {
   "cell_type": "markdown",
   "id": "7782c727",
   "metadata": {},
   "source": [
    "### Do hyperparameter tuning with different number of topics to determine which model has the highest coherence score"
   ]
  },
  {
   "cell_type": "code",
   "execution_count": null,
   "id": "9452e147",
   "metadata": {},
   "outputs": [],
   "source": [
    "num_top_words = 50\n",
    "coherence_scores = []\n",
    "best_avg_coherence = 0\n",
    "best_model = None\n",
    "best_W = None\n",
    "best_H = None\n",
    "\n",
    "for num_topics in range(2,11):\n",
    "    nmf = NMF(n_components = num_topics, \n",
    "                  max_iter = 200, init = 'nndsvd', random_state = random_state)\n",
    "    W = nmf.fit_transform(tfidf)\n",
    "    H = nmf.components_\n",
    "    \n",
    "    topics = []\n",
    "    for topic_idx, topic in enumerate(H):\n",
    "        top_features_ind = topic.argsort()[-num_top_words:][::-1]\n",
    "        top_features = [feature_names[i] for i in top_features_ind]\n",
    "        topics.append(top_features)\n",
    "        \n",
    "    coherence_model = CoherenceModel(topics=topics, texts=texts, dictionary=dictionary, coherence='c_v')\n",
    "    avg_c = coherence_model.get_coherence()\n",
    "    coherence_scores.append(avg_c)\n",
    "    \n",
    "    if avg_c > best_avg_coherence:\n",
    "        best_avg_coherence = avg_c\n",
    "        best_model = nmf\n",
    "        best_W = W\n",
    "        best_H = H"
   ]
  },
  {
   "cell_type": "code",
   "execution_count": null,
   "id": "c6a73bb5",
   "metadata": {},
   "outputs": [],
   "source": [
    "best_model"
   ]
  }
 ],
 "metadata": {
  "kernelspec": {
   "display_name": "Python 3 (ipykernel)",
   "language": "python",
   "name": "python3"
  },
  "language_info": {
   "codemirror_mode": {
    "name": "ipython",
    "version": 3
   },
   "file_extension": ".py",
   "mimetype": "text/x-python",
   "name": "python",
   "nbconvert_exporter": "python",
   "pygments_lexer": "ipython3",
   "version": "3.8.13"
  },
  "toc": {
   "base_numbering": 1,
   "nav_menu": {},
   "number_sections": false,
   "sideBar": true,
   "skip_h1_title": false,
   "title_cell": "Table of Contents",
   "title_sidebar": "Contents",
   "toc_cell": false,
   "toc_position": {},
   "toc_section_display": true,
   "toc_window_display": false
  }
 },
 "nbformat": 4,
 "nbformat_minor": 5
}
