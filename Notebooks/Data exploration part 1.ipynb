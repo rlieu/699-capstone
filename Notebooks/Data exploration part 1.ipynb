{
 "cells": [
  {
   "cell_type": "code",
   "execution_count": 1,
   "id": "6eb8da1d",
   "metadata": {},
   "outputs": [],
   "source": [
    "import pandas as pd"
   ]
  },
  {
   "cell_type": "code",
   "execution_count": 2,
   "id": "401af8c9",
   "metadata": {},
   "outputs": [],
   "source": [
    "df = pd.read_csv(\"Datasets/adhd.csv\")"
   ]
  },
  {
   "cell_type": "code",
   "execution_count": 3,
   "id": "3f0035c1",
   "metadata": {},
   "outputs": [
    {
     "data": {
      "text/html": [
       "<div>\n",
       "<style scoped>\n",
       "    .dataframe tbody tr th:only-of-type {\n",
       "        vertical-align: middle;\n",
       "    }\n",
       "\n",
       "    .dataframe tbody tr th {\n",
       "        vertical-align: top;\n",
       "    }\n",
       "\n",
       "    .dataframe thead th {\n",
       "        text-align: right;\n",
       "    }\n",
       "</style>\n",
       "<table border=\"1\" class=\"dataframe\">\n",
       "  <thead>\n",
       "    <tr style=\"text-align: right;\">\n",
       "      <th></th>\n",
       "      <th>author</th>\n",
       "      <th>body</th>\n",
       "      <th>created_utc</th>\n",
       "      <th>id</th>\n",
       "      <th>num_comments</th>\n",
       "      <th>score</th>\n",
       "      <th>subreddit</th>\n",
       "      <th>title</th>\n",
       "      <th>upvote_ratio</th>\n",
       "      <th>url</th>\n",
       "    </tr>\n",
       "  </thead>\n",
       "  <tbody>\n",
       "    <tr>\n",
       "      <th>0</th>\n",
       "      <td>HotConversation1273</td>\n",
       "      <td>A few months ago I was accepted into this full...</td>\n",
       "      <td>2021-12-22T18:32:56.000Z</td>\n",
       "      <td>rmbjwb</td>\n",
       "      <td>1</td>\n",
       "      <td>1</td>\n",
       "      <td>ADHD</td>\n",
       "      <td>I get extremely anxious if I’m not working 24/7</td>\n",
       "      <td>1.0</td>\n",
       "      <td>https://www.reddit.com/r/ADHD/comments/rmbjwb/...</td>\n",
       "    </tr>\n",
       "    <tr>\n",
       "      <th>1</th>\n",
       "      <td>snorefestt</td>\n",
       "      <td>Hey guys, I was curious if anyone else has the...</td>\n",
       "      <td>2021-12-22T18:24:25.000Z</td>\n",
       "      <td>rmbd1y</td>\n",
       "      <td>3</td>\n",
       "      <td>5</td>\n",
       "      <td>ADHD</td>\n",
       "      <td>I can't will myself to clean my own house, but...</td>\n",
       "      <td>1.0</td>\n",
       "      <td>https://www.reddit.com/r/ADHD/comments/rmbd1y/...</td>\n",
       "    </tr>\n",
       "    <tr>\n",
       "      <th>2</th>\n",
       "      <td>etyf12</td>\n",
       "      <td>\\n\\ni have 6 exams in the next 2 weeks one of...</td>\n",
       "      <td>2021-12-22T18:22:52.000Z</td>\n",
       "      <td>rmbbvu</td>\n",
       "      <td>1</td>\n",
       "      <td>2</td>\n",
       "      <td>ADHD</td>\n",
       "      <td>i need some help</td>\n",
       "      <td>1.0</td>\n",
       "      <td>https://www.reddit.com/r/ADHD/comments/rmbbvu/...</td>\n",
       "    </tr>\n",
       "    <tr>\n",
       "      <th>3</th>\n",
       "      <td>GetHairOrDieTryin</td>\n",
       "      <td>Is there anyone out there that is struggling w...</td>\n",
       "      <td>2021-12-22T18:20:35.000Z</td>\n",
       "      <td>rmba1t</td>\n",
       "      <td>3</td>\n",
       "      <td>2</td>\n",
       "      <td>ADHD</td>\n",
       "      <td>Anyone up for a chat?</td>\n",
       "      <td>1.0</td>\n",
       "      <td>https://www.reddit.com/r/ADHD/comments/rmba1t/...</td>\n",
       "    </tr>\n",
       "    <tr>\n",
       "      <th>4</th>\n",
       "      <td>ZeroTransPat</td>\n",
       "      <td>Whenever I get hungry, I never eat because I d...</td>\n",
       "      <td>2021-12-22T18:18:47.000Z</td>\n",
       "      <td>rmb8lm</td>\n",
       "      <td>2</td>\n",
       "      <td>1</td>\n",
       "      <td>ADHD</td>\n",
       "      <td>Figuring out what to eat sucks</td>\n",
       "      <td>1.0</td>\n",
       "      <td>https://www.reddit.com/r/ADHD/comments/rmb8lm/...</td>\n",
       "    </tr>\n",
       "  </tbody>\n",
       "</table>\n",
       "</div>"
      ],
      "text/plain": [
       "                author                                               body  \\\n",
       "0  HotConversation1273  A few months ago I was accepted into this full...   \n",
       "1           snorefestt  Hey guys, I was curious if anyone else has the...   \n",
       "2               etyf12   \\n\\ni have 6 exams in the next 2 weeks one of...   \n",
       "3    GetHairOrDieTryin  Is there anyone out there that is struggling w...   \n",
       "4         ZeroTransPat  Whenever I get hungry, I never eat because I d...   \n",
       "\n",
       "                created_utc      id  num_comments  score subreddit  \\\n",
       "0  2021-12-22T18:32:56.000Z  rmbjwb             1      1      ADHD   \n",
       "1  2021-12-22T18:24:25.000Z  rmbd1y             3      5      ADHD   \n",
       "2  2021-12-22T18:22:52.000Z  rmbbvu             1      2      ADHD   \n",
       "3  2021-12-22T18:20:35.000Z  rmba1t             3      2      ADHD   \n",
       "4  2021-12-22T18:18:47.000Z  rmb8lm             2      1      ADHD   \n",
       "\n",
       "                                               title  upvote_ratio  \\\n",
       "0    I get extremely anxious if I’m not working 24/7           1.0   \n",
       "1  I can't will myself to clean my own house, but...           1.0   \n",
       "2                                   i need some help           1.0   \n",
       "3                              Anyone up for a chat?           1.0   \n",
       "4                     Figuring out what to eat sucks           1.0   \n",
       "\n",
       "                                                 url  \n",
       "0  https://www.reddit.com/r/ADHD/comments/rmbjwb/...  \n",
       "1  https://www.reddit.com/r/ADHD/comments/rmbd1y/...  \n",
       "2  https://www.reddit.com/r/ADHD/comments/rmbbvu/...  \n",
       "3  https://www.reddit.com/r/ADHD/comments/rmba1t/...  \n",
       "4  https://www.reddit.com/r/ADHD/comments/rmb8lm/...  "
      ]
     },
     "execution_count": 3,
     "metadata": {},
     "output_type": "execute_result"
    }
   ],
   "source": [
    "df.head()"
   ]
  },
  {
   "cell_type": "code",
   "execution_count": 7,
   "id": "b8bfe005",
   "metadata": {},
   "outputs": [
    {
     "data": {
      "text/plain": [
       "(37109, 10)"
      ]
     },
     "execution_count": 7,
     "metadata": {},
     "output_type": "execute_result"
    }
   ],
   "source": [
    "df.shape"
   ]
  },
  {
   "cell_type": "code",
   "execution_count": 8,
   "id": "d102cffd",
   "metadata": {},
   "outputs": [],
   "source": [
    "df2 = pd.read_csv(\"Datasets/aspergers.csv\")"
   ]
  },
  {
   "cell_type": "code",
   "execution_count": 9,
   "id": "d6a6d85b",
   "metadata": {},
   "outputs": [
    {
     "data": {
      "text/plain": [
       "(23294, 10)"
      ]
     },
     "execution_count": 9,
     "metadata": {},
     "output_type": "execute_result"
    }
   ],
   "source": [
    "df2.shape"
   ]
  },
  {
   "cell_type": "code",
   "execution_count": 11,
   "id": "e9025f6f",
   "metadata": {},
   "outputs": [],
   "source": [
    "df3 = pd.read_csv(\"Datasets/depression.csv\")"
   ]
  },
  {
   "cell_type": "code",
   "execution_count": 12,
   "id": "95744645",
   "metadata": {},
   "outputs": [
    {
     "data": {
      "text/plain": [
       "(24031, 10)"
      ]
     },
     "execution_count": 12,
     "metadata": {},
     "output_type": "execute_result"
    }
   ],
   "source": [
    "df3.shape"
   ]
  },
  {
   "cell_type": "code",
   "execution_count": 15,
   "id": "534bb7b4",
   "metadata": {},
   "outputs": [
    {
     "data": {
      "text/plain": [
       "(42826, 10)"
      ]
     },
     "execution_count": 15,
     "metadata": {},
     "output_type": "execute_result"
    }
   ],
   "source": [
    "df4 = pd.read_csv(\"Datasets/ocd.csv\")\n",
    "df4.shape"
   ]
  },
  {
   "cell_type": "code",
   "execution_count": 16,
   "id": "78818456",
   "metadata": {},
   "outputs": [
    {
     "data": {
      "text/plain": [
       "(24028, 10)"
      ]
     },
     "execution_count": 16,
     "metadata": {},
     "output_type": "execute_result"
    }
   ],
   "source": [
    "df5 = pd.read_csv(\"Datasets/ptsd.csv\")\n",
    "df5.shape"
   ]
  },
  {
   "cell_type": "markdown",
   "id": "3d302539",
   "metadata": {},
   "source": [
    "### Data Dictionary"
   ]
  },
  {
   "cell_type": "markdown",
   "id": "c4ca1a2b",
   "metadata": {},
   "source": [
    "These are 5 common mental health conditions: \n",
    "\n",
    "ADHD - Attention Deficit Hyperactivity Disorder\n",
    "\n",
    "Aspergers - A condition on the autism spectrum with generally higher functioning\n",
    "\n",
    "Depression - A common mental health condition characterized by persistent feelings of sadness and loss of interest\n",
    "\n",
    "OCD - Obsessive-Compulsive Disorder, characterized by compulsive behaviors and intrusive thoughts\n",
    "\n",
    "PTSD - Post-Traumatic Stress Disorder, which can occur after experiencing or witnessing a traumatic event"
   ]
  },
  {
   "cell_type": "markdown",
   "id": "94fd1ec6",
   "metadata": {},
   "source": [
    "What each feature represents:\n",
    "\n",
    "author: The username of the individual who posted the entry on Reddit.\n",
    "\n",
    "body: The main text content of the post.\n",
    "\n",
    "created_utc: The timestamp for when the post was created.\n",
    "\n",
    "id: A unique identifier for the post.\n",
    "\n",
    "num_comments: The number of comments that this particular post has received.\n",
    "\n",
    "score: The net score of the post, which is the number of upvotes minus the number of downvotes.\n",
    "\n",
    "subreddit: The specific subreddit where the post was made.\n",
    "\n",
    "title: The title of the post.\n",
    "\n",
    "upvote_ratio: The ratio of upvotes to the total number of votes the post has received. A ratio of 1.0 suggests that there are no downvotes.\n",
    "\n",
    "url: The direct link to the post."
   ]
  },
  {
   "cell_type": "code",
   "execution_count": null,
   "id": "863ebf97",
   "metadata": {},
   "outputs": [],
   "source": []
  }
 ],
 "metadata": {
  "kernelspec": {
   "display_name": "Python 3 (ipykernel)",
   "language": "python",
   "name": "python3"
  },
  "language_info": {
   "codemirror_mode": {
    "name": "ipython",
    "version": 3
   },
   "file_extension": ".py",
   "mimetype": "text/x-python",
   "name": "python",
   "nbconvert_exporter": "python",
   "pygments_lexer": "ipython3",
   "version": "3.8.13"
  },
  "toc": {
   "base_numbering": 1,
   "nav_menu": {},
   "number_sections": false,
   "sideBar": true,
   "skip_h1_title": false,
   "title_cell": "Table of Contents",
   "title_sidebar": "Contents",
   "toc_cell": false,
   "toc_position": {},
   "toc_section_display": true,
   "toc_window_display": false
  }
 },
 "nbformat": 4,
 "nbformat_minor": 5
}
