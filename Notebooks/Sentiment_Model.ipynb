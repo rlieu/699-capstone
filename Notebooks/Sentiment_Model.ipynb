{
 "cells": [
  {
   "cell_type": "code",
   "execution_count": 15,
   "metadata": {},
   "outputs": [],
   "source": [
    "from statsmodels.tsa.stattools import adfuller\n",
    "import statsmodels.api as sm\n",
    "from pmdarima.arima import auto_arima\n",
    "import pandas as pd\n",
    "from sklearn.metrics import mean_squared_error, mean_absolute_error\n",
    "import numpy as np\n",
    "from statsmodels.tsa.arima.model import ARIMA\n",
    "from statsmodels.tsa.api import VAR\n",
    "import matplotlib.pyplot as plt\n",
    "import itertools\n",
    "import warnings\n",
    "import seaborn as sns\n",
    "from sklearn.ensemble import RandomForestRegressor\n",
    "from sklearn.model_selection import train_test_split\n",
    "#from tqdm import tqdm\n",
    "#import itertools\n",
    "from pandas.plotting import parallel_coordinates\n",
    "from sklearn.preprocessing import scale\n",
    "from sklearn.model_selection import GridSearchCV\n",
    "from sklearn.model_selection import train_test_split\n",
    "from sklearn.ensemble import ExtraTreesClassifier,RandomForestClassifier\n",
    "from sklearn.tree import DecisionTreeClassifier\n",
    "from sklearn.metrics import classification_report, confusion_matrix\n",
    "from tpot import TPOTClassifier\n",
    "from tpot import TPOTRegressor\n",
    "from sklearn.pipeline import make_pipeline, make_union\n",
    "from tpot.builtins import StackingEstimator\n",
    "from tpot.export_utils import set_param_recursive\n",
    "from sklearn.neighbors import KNeighborsClassifier\n",
    "from sklearn.preprocessing import MaxAbsScaler\n",
    "from sklearn.ensemble import GradientBoostingRegressor\n",
    "from xgboost import XGBClassifier\n",
    "from sklearn.preprocessing import StandardScaler\n",
    "warnings.filterwarnings(\"ignore\")\n",
    "from sklearn.decomposition import PCA\n",
    "from sklearn.linear_model import LinearRegression\n",
    "import statsmodels.api as sm\n",
    "import matplotlib.pyplot as plt\n",
    "from statsmodels.tsa.stattools import adfuller\n",
    "from textblob import TextBlob\n",
    "import re\n",
    "from typing import List\n",
    "from sklearn.datasets import make_hastie_10_2\n",
    "from sklearn.ensemble import GradientBoostingClassifier\n"
   ]
  },
  {
   "cell_type": "markdown",
   "metadata": {},
   "source": [
    "LOCALLY"
   ]
  },
  {
   "cell_type": "markdown",
   "metadata": {},
   "source": [
    "GitHub"
   ]
  },
  {
   "cell_type": "code",
   "execution_count": 34,
   "metadata": {},
   "outputs": [],
   "source": [
    "# # condense into one df \n",
    "df1 = pd.read_csv('Datasets/aspergers.csv', parse_dates=True)\n",
    "df2 = pd.read_csv('Datasets/depression.csv', parse_dates=True)\n",
    "df3 = pd.read_csv('Datasets/ocd.csv', parse_dates=True)\n",
    "df4 = pd.read_csv('Datasets/ptsd.csv', parse_dates=True)\n",
    "df5 = pd.read_csv('Datasets/adhd.csv', parse_dates=True)\n",
    "\n",
    "df = pd.concat([df1, df2, df3, df4,df5], ignore_index=True)\n",
    "#LOWER ALL subreddit \n",
    "df['subreddit'] = df['subreddit'].str.lower()\n",
    "df.head()"
   ]
  },
  {
   "cell_type": "code",
   "execution_count": 33,
   "metadata": {},
   "outputs": [
    {
     "data": {
      "text/plain": [
       "array(['aspergers', 'depression', 'ocd', 'ptsd', 'adhd'], dtype=object)"
      ]
     },
     "execution_count": 33,
     "metadata": {},
     "output_type": "execute_result"
    }
   ],
   "source": [
    "null_subreddit_count = df['subreddit'].isnull().sum()\n",
    "print(null_subreddit_count)\n",
    "\n",
    "df['subreddit'].unique()"
   ]
  },
  {
   "cell_type": "markdown",
   "metadata": {},
   "source": [
    "Exported sample size of post for external regex validation "
   ]
  },
  {
   "cell_type": "code",
   "execution_count": 41,
   "metadata": {},
   "outputs": [
    {
     "data": {
      "text/plain": [
       "(37109, 10)"
      ]
     },
     "execution_count": 41,
     "metadata": {},
     "output_type": "execute_result"
    }
   ],
   "source": [
    "df_testy = df['body'].sample(n=50, random_state=1)\n",
    "df_testy_df = df_testy.to_frame()"
   ]
  },
  {
   "cell_type": "markdown",
   "metadata": {},
   "source": [
    "Next we will need to hot encode text variables we want to include in the model. For example Body is a post that is text based will convert this in to a sentiment score \n",
    "Also subreddit will be our target variable so we need to preform mapping on this column and then excluded the columns we will not use"
   ]
  },
  {
   "cell_type": "code",
   "execution_count": 46,
   "metadata": {},
   "outputs": [],
   "source": [
    "#clean the text before performing sentiment analysis my hope is to improve optimization and accuracy improvement\n",
    "\n",
    "def clean_text(text: str, slang_map: dict = None, stopwords: List[str] = None) -> str:\n",
    "    # Remove URLs\n",
    "    text = re.sub(r'http\\S+|www\\S+|https\\S+', '', text, flags=re.MULTILINE)\n",
    "    # Remove user mentions (@username)\n",
    "    text = re.sub(r'\\@\\w+', '', text)\n",
    "    # Remove hashtags (but keep the text)\n",
    "    text = re.sub(r'\\#\\w+', '', text)\n",
    "    # Remove HTML entities (e.g., &amp;, &lt;, etc.)\n",
    "    text = re.sub(r'\\&\\w+;', '', text)\n",
    "    # Remove emojis\n",
    "    emoji_pattern = re.compile(\"[\" \n",
    "                               u\"\\U0001F600-\\U0001F64F\"  # emoticons\n",
    "                               u\"\\U0001F300-\\U0001F5FF\"  # symbols & pictographs\n",
    "                               u\"\\U0001F680-\\U0001F6FF\"  # transport & map symbols\n",
    "                               u\"\\U0001F1E0-\\U0001F1FF\"  # flags (iOS)\n",
    "                               u\"\\U00002702-\\U000027B0\"\n",
    "                               u\"\\U000024C2-\\U0001F251\"\n",
    "                               \"]+\", flags=re.UNICODE)\n",
    "    text = emoji_pattern.sub(r'', text)\n",
    "    # whitespace\n",
    "    text = re.sub(r'\\s+', ' ', text).strip()\n",
    "    # Optional: Convert slang or shorthand notations to full form\n",
    "    if slang_map:\n",
    "        for slang, full_form in slang_map.items():\n",
    "            text = text.replace(slang, full_form)\n",
    "    # Optional: Remove punctuations\n",
    "    text = re.sub(r'[^\\w\\s]', '', text)\n",
    "    # Optional: Remove stopwords\n",
    "    if stopwords:\n",
    "        text = ' '.join([word for word in text.split() if word not in stopwords])\n",
    "    # Optional: Convert text to lowercase\n",
    "    text = text.lower()\n",
    "    return text"
   ]
  },
  {
   "cell_type": "code",
   "execution_count": 47,
   "metadata": {},
   "outputs": [
    {
     "data": {
      "text/html": [
       "<div>\n",
       "<style scoped>\n",
       "    .dataframe tbody tr th:only-of-type {\n",
       "        vertical-align: middle;\n",
       "    }\n",
       "\n",
       "    .dataframe tbody tr th {\n",
       "        vertical-align: top;\n",
       "    }\n",
       "\n",
       "    .dataframe thead th {\n",
       "        text-align: right;\n",
       "    }\n",
       "</style>\n",
       "<table border=\"1\" class=\"dataframe\">\n",
       "  <thead>\n",
       "    <tr style=\"text-align: right;\">\n",
       "      <th></th>\n",
       "      <th>target</th>\n",
       "      <th>num_comments</th>\n",
       "      <th>score</th>\n",
       "      <th>upvote_ratio</th>\n",
       "      <th>sentiment_score</th>\n",
       "      <th>target</th>\n",
       "    </tr>\n",
       "  </thead>\n",
       "  <tbody>\n",
       "    <tr>\n",
       "      <th>0</th>\n",
       "      <td>1</td>\n",
       "      <td>0</td>\n",
       "      <td>1</td>\n",
       "      <td>1.0</td>\n",
       "      <td>0.412500</td>\n",
       "      <td>1</td>\n",
       "    </tr>\n",
       "    <tr>\n",
       "      <th>1</th>\n",
       "      <td>1</td>\n",
       "      <td>1</td>\n",
       "      <td>1</td>\n",
       "      <td>1.0</td>\n",
       "      <td>-0.063263</td>\n",
       "      <td>1</td>\n",
       "    </tr>\n",
       "    <tr>\n",
       "      <th>2</th>\n",
       "      <td>1</td>\n",
       "      <td>2</td>\n",
       "      <td>3</td>\n",
       "      <td>1.0</td>\n",
       "      <td>0.021373</td>\n",
       "      <td>1</td>\n",
       "    </tr>\n",
       "    <tr>\n",
       "      <th>3</th>\n",
       "      <td>1</td>\n",
       "      <td>3</td>\n",
       "      <td>1</td>\n",
       "      <td>1.0</td>\n",
       "      <td>0.013254</td>\n",
       "      <td>1</td>\n",
       "    </tr>\n",
       "    <tr>\n",
       "      <th>4</th>\n",
       "      <td>1</td>\n",
       "      <td>0</td>\n",
       "      <td>1</td>\n",
       "      <td>1.0</td>\n",
       "      <td>0.000000</td>\n",
       "      <td>1</td>\n",
       "    </tr>\n",
       "  </tbody>\n",
       "</table>\n",
       "</div>"
      ],
      "text/plain": [
       "   target  num_comments  score  upvote_ratio  sentiment_score  target\n",
       "0       1             0      1           1.0         0.412500       1\n",
       "1       1             1      1           1.0        -0.063263       1\n",
       "2       1             2      3           1.0         0.021373       1\n",
       "3       1             3      1           1.0         0.013254       1\n",
       "4       1             0      1           1.0         0.000000       1"
      ]
     },
     "execution_count": 47,
     "metadata": {},
     "output_type": "execute_result"
    }
   ],
   "source": [
    "#mapping \n",
    "subreddit_to_target = {\n",
    "    'aspergers': 1,\n",
    "    'depression': 2,\n",
    "    'ocd': 3,\n",
    "    'ptsd': 4,\n",
    "    'adhd' :5,\n",
    "}\n",
    "\n",
    "df['target'] = df['subreddit'].map(subreddit_to_target)\n",
    "\n",
    "# hot coding body to sentiment_score \n",
    "df['clean_body'] = df['body'].apply(lambda x: clean_text(str(x)))\n",
    "\n",
    "# Apply sentiment analysis\n",
    "df['sentiment_score'] = df['clean_body'].apply(lambda text: TextBlob(text).sentiment.polarity)\n",
    "#setting target varibale \n",
    "test_df = df[['target','num_comments','score','upvote_ratio','sentiment_score','target']]\n",
    "test_df.head()"
   ]
  },
  {
   "cell_type": "code",
   "execution_count": 48,
   "metadata": {},
   "outputs": [
    {
     "name": "stdout",
     "output_type": "stream",
     "text": [
      "Series([], Name: count, dtype: int64)\n"
     ]
    }
   ],
   "source": [
    "null_counts = df[df['target'].isnull()]['subreddit'].value_counts()\n",
    "print(null_counts)\n"
   ]
  },
  {
   "cell_type": "markdown",
   "metadata": {},
   "source": [
    "With multiple health status this is a multiclass classification problem. "
   ]
  },
  {
   "cell_type": "code",
   "execution_count": 49,
   "metadata": {},
   "outputs": [],
   "source": [
    "#FEatures\n",
    "X = df[['num_comments', 'score', 'upvote_ratio', 'sentiment_score']]\n",
    "#Target Variable\n",
    "y = df['target']\n",
    "\n",
    "X_train, X_test, y_train, y_test = train_test_split(X, y, test_size=0.2, random_state=42)"
   ]
  },
  {
   "cell_type": "markdown",
   "metadata": {},
   "source": [
    "Null validation feel free to skip"
   ]
  },
  {
   "cell_type": "code",
   "execution_count": 50,
   "metadata": {},
   "outputs": [
    {
     "name": "stdout",
     "output_type": "stream",
     "text": [
      "0\n",
      "Series([], dtype: int64)\n"
     ]
    }
   ],
   "source": [
    "print(y_train.isnull().sum())\n",
    "null_counts_by_subreddit = df[df['target'].isnull()].groupby('subreddit').size()\n",
    "print(null_counts_by_subreddit)"
   ]
  },
  {
   "cell_type": "markdown",
   "metadata": {},
   "source": [
    "I started with a wider net for model selection may narrow (expensivge model performance not optimal will refine sentiment )"
   ]
  },
  {
   "cell_type": "code",
   "execution_count": 9,
   "metadata": {},
   "outputs": [
    {
     "name": "stdout",
     "output_type": "stream",
     "text": [
      "                                                                                   \n",
      "Generation 1 - Current best internal CV score: 0.44384354423647876\n",
      "                                                                                    \n",
      "Generation 2 - Current best internal CV score: 0.4449711733834686\n",
      "                                                                                    \n",
      "Generation 3 - Current best internal CV score: 0.44529957701082556\n",
      "                                                                                   \n",
      "Generation 4 - Current best internal CV score: 0.44621919454132913\n",
      "                                                                                   \n",
      "Generation 5 - Current best internal CV score: 0.44621919454132913\n",
      "                                                                                   \n",
      "Generation 6 - Current best internal CV score: 0.44621919454132913\n",
      "                                                                                   \n",
      "Generation 7 - Current best internal CV score: 0.44621919454132913\n",
      "                                                                                   \n",
      "Generation 8 - Current best internal CV score: 0.4463615319044851\n",
      "                                                                                   \n",
      "Generation 9 - Current best internal CV score: 0.4463615319044851\n",
      "                                                                                  \n",
      "Generation 10 - Current best internal CV score: 0.4463615319044851\n",
      "                                                              \n",
      "Best pipeline: GradientBoostingClassifier(input_matrix, learning_rate=0.1, max_depth=4, max_features=0.35000000000000003, min_samples_leaf=12, min_samples_split=12, n_estimators=100, subsample=0.7000000000000001)\n",
      "Test Accuracy: 0.44718864950078824\n"
     ]
    }
   ],
   "source": [
    "tpot = TPOTClassifier(\n",
    "    generations=10,  # More generations\n",
    "    population_size=100,  # Larger population\n",
    "    verbosity=2,\n",
    "    random_state=42,\n",
    "    scoring='accuracy'\n",
    ")\n",
    "\n",
    "tpot.fit(X_train, y_train)\n",
    "\n",
    "print(f\"Test Accuracy: {tpot.score(X_test, y_test)}\")\n",
    "\n"
   ]
  },
  {
   "cell_type": "code",
   "execution_count": 10,
   "metadata": {},
   "outputs": [],
   "source": [
    "#tpot.export('tpot_best_model.py') Export the best model"
   ]
  },
  {
   "cell_type": "markdown",
   "metadata": {},
   "source": [
    "Not promising as of yet will work on improving sentiment and see if we can create more features"
   ]
  },
  {
   "cell_type": "code",
   "execution_count": 51,
   "metadata": {},
   "outputs": [
    {
     "name": "stdout",
     "output_type": "stream",
     "text": [
      "Test Accuracy: 0.4104038601361623\n"
     ]
    }
   ],
   "source": [
    "gradient_boosting_model = GradientBoostingClassifier(\n",
    "    learning_rate=0.1,\n",
    "    max_depth=4,\n",
    "    max_features=0.35,\n",
    "    min_samples_leaf=12,\n",
    "    min_samples_split=12,\n",
    "    n_estimators=100,\n",
    "    subsample=0.7,\n",
    "    random_state=42  # Setting the random state for reproducibility\n",
    ")\n",
    "\n",
    "# Fit the model on the training data\n",
    "gradient_boosting_model.fit(X_train, y_train)\n",
    "\n",
    "# Predict on the test data\n",
    "y_pred = gradient_boosting_model.predict(X_test)\n",
    "\n",
    "# Evaluate the predictions, e.g., by calculating the accuracy\n",
    "from sklearn.metrics import accuracy_score\n",
    "\n",
    "test_accuracy = accuracy_score(y_test, y_pred)\n",
    "print(f\"Test Accuracy: {test_accuracy}\")"
   ]
  },
  {
   "cell_type": "code",
   "execution_count": null,
   "metadata": {},
   "outputs": [],
   "source": []
  }
 ],
 "metadata": {
  "kernelspec": {
   "display_name": "Python 3",
   "language": "python",
   "name": "python3"
  },
  "language_info": {
   "codemirror_mode": {
    "name": "ipython",
    "version": 3
   },
   "file_extension": ".py",
   "mimetype": "text/x-python",
   "name": "python",
   "nbconvert_exporter": "python",
   "pygments_lexer": "ipython3",
   "version": "3.11.4"
  }
 },
 "nbformat": 4,
 "nbformat_minor": 2
}
