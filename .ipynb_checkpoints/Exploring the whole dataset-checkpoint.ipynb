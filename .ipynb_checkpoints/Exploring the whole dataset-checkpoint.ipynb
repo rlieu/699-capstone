{
 "cells": [
  {
   "cell_type": "code",
   "execution_count": 1,
   "id": "dc26508b",
   "metadata": {},
   "outputs": [
    {
     "name": "stderr",
     "output_type": "stream",
     "text": [
      "[nltk_data] Downloading package punkt to\n",
      "[nltk_data]     C:\\Users\\qfu88\\AppData\\Roaming\\nltk_data...\n",
      "[nltk_data]   Package punkt is already up-to-date!\n",
      "[nltk_data] Downloading package stopwords to\n",
      "[nltk_data]     C:\\Users\\qfu88\\AppData\\Roaming\\nltk_data...\n",
      "[nltk_data]   Package stopwords is already up-to-date!\n",
      "[nltk_data] Downloading package wordnet to\n",
      "[nltk_data]     C:\\Users\\qfu88\\AppData\\Roaming\\nltk_data...\n",
      "[nltk_data]   Package wordnet is already up-to-date!\n"
     ]
    },
    {
     "data": {
      "text/plain": [
       "True"
      ]
     },
     "execution_count": 1,
     "metadata": {},
     "output_type": "execute_result"
    }
   ],
   "source": [
    "import json\n",
    "import csv\n",
    "import pandas as pd\n",
    "import nltk\n",
    "from nltk.corpus import stopwords\n",
    "from nltk.tokenize import word_tokenize\n",
    "from nltk.stem import WordNetLemmatizer\n",
    "import spacy\n",
    "import re\n",
    "from sklearn.feature_extraction.text import TfidfVectorizer\n",
    "from scipy import sparse\n",
    "\n",
    "nlp = spacy.load('en_core_web_sm')\n",
    "nltk.download('punkt')\n",
    "nltk.download('stopwords')\n",
    "nltk.download('wordnet')"
   ]
  },
  {
   "cell_type": "code",
   "execution_count": 2,
   "id": "67764f10",
   "metadata": {},
   "outputs": [],
   "source": [
    "df = pd.read_csv('Job_Datasets//all_posts_(1).csv')"
   ]
  },
  {
   "cell_type": "code",
   "execution_count": 3,
   "id": "041e97bf",
   "metadata": {},
   "outputs": [
    {
     "data": {
      "text/html": [
       "<div>\n",
       "<style scoped>\n",
       "    .dataframe tbody tr th:only-of-type {\n",
       "        vertical-align: middle;\n",
       "    }\n",
       "\n",
       "    .dataframe tbody tr th {\n",
       "        vertical-align: top;\n",
       "    }\n",
       "\n",
       "    .dataframe thead th {\n",
       "        text-align: right;\n",
       "    }\n",
       "</style>\n",
       "<table border=\"1\" class=\"dataframe\">\n",
       "  <thead>\n",
       "    <tr style=\"text-align: right;\">\n",
       "      <th></th>\n",
       "      <th>id</th>\n",
       "      <th>text</th>\n",
       "      <th>title</th>\n",
       "      <th>author</th>\n",
       "      <th>created_utc</th>\n",
       "      <th>num_comments</th>\n",
       "      <th>post_id</th>\n",
       "      <th>upvote_ratio</th>\n",
       "      <th>score</th>\n",
       "      <th>url</th>\n",
       "      <th>subreddit</th>\n",
       "      <th>link_flair_text</th>\n",
       "      <th>link_flair_template_id</th>\n",
       "    </tr>\n",
       "  </thead>\n",
       "  <tbody>\n",
       "    <tr>\n",
       "      <th>0</th>\n",
       "      <td>43580</td>\n",
       "      <td>\"\"</td>\n",
       "      <td>Roast my resume</td>\n",
       "      <td>Anonymous_0427</td>\n",
       "      <td>1710585856</td>\n",
       "      <td>24</td>\n",
       "      <td>1bg3af6</td>\n",
       "      <td>0.70</td>\n",
       "      <td>22</td>\n",
       "      <td>https://i.redd.it/hijunkmzdooc1.jpeg</td>\n",
       "      <td>resumes</td>\n",
       "      <td>Review my resume • I'm in Asia</td>\n",
       "      <td>3d212a9a-f5cb-11ec-acef-1adb3b338801</td>\n",
       "    </tr>\n",
       "    <tr>\n",
       "      <th>1</th>\n",
       "      <td>44017</td>\n",
       "      <td>\"\"</td>\n",
       "      <td>Roast my resume as hard as you can. Hold no pu...</td>\n",
       "      <td>Holiday-Penalty5389</td>\n",
       "      <td>1710197769</td>\n",
       "      <td>2</td>\n",
       "      <td>1bch6zz</td>\n",
       "      <td>1.00</td>\n",
       "      <td>2</td>\n",
       "      <td>https://i.redd.it/0m75bqb0csnc1.jpeg</td>\n",
       "      <td>resumes</td>\n",
       "      <td>Review my resume • I'm in North America</td>\n",
       "      <td>c292b8e0-28b9-11ec-874c-325b17e851a3</td>\n",
       "    </tr>\n",
       "    <tr>\n",
       "      <th>2</th>\n",
       "      <td>41034</td>\n",
       "      <td>\"Hi all, for context, 29 year old guy from Ams...</td>\n",
       "      <td>Lazy job or Hard job?</td>\n",
       "      <td>Weak_Assumption_6889</td>\n",
       "      <td>1710540442</td>\n",
       "      <td>8</td>\n",
       "      <td>1bfpxll</td>\n",
       "      <td>0.33</td>\n",
       "      <td>0</td>\n",
       "      <td>https://www.reddit.com/r/careeradvice/comments...</td>\n",
       "      <td>careeradvice</td>\n",
       "      <td>NaN</td>\n",
       "      <td>NaN</td>\n",
       "    </tr>\n",
       "    <tr>\n",
       "      <th>3</th>\n",
       "      <td>43519</td>\n",
       "      <td>\"Looking for a new role and haven\\u2019t had m...</td>\n",
       "      <td>Roast my Resume Pls</td>\n",
       "      <td>Neither_Trash</td>\n",
       "      <td>1710709540</td>\n",
       "      <td>1</td>\n",
       "      <td>1bh8md2</td>\n",
       "      <td>0.99</td>\n",
       "      <td>1</td>\n",
       "      <td>https://i.redd.it/n918fjprlyoc1.jpeg</td>\n",
       "      <td>resumes</td>\n",
       "      <td>Review my resume • I'm in North America</td>\n",
       "      <td>c292b8e0-28b9-11ec-874c-325b17e851a3</td>\n",
       "    </tr>\n",
       "    <tr>\n",
       "      <th>4</th>\n",
       "      <td>41067</td>\n",
       "      <td>\"I am a 24M, from west bengal with a bachelor'...</td>\n",
       "      <td>Is Jadavpur University good for MCA?</td>\n",
       "      <td>grvx_rdt</td>\n",
       "      <td>1710515520</td>\n",
       "      <td>0</td>\n",
       "      <td>1bfg926</td>\n",
       "      <td>0.66</td>\n",
       "      <td>1</td>\n",
       "      <td>https://www.reddit.com/r/careeradvice/comments...</td>\n",
       "      <td>careeradvice</td>\n",
       "      <td>NaN</td>\n",
       "      <td>NaN</td>\n",
       "    </tr>\n",
       "  </tbody>\n",
       "</table>\n",
       "</div>"
      ],
      "text/plain": [
       "      id                                               text  \\\n",
       "0  43580                                                 \"\"   \n",
       "1  44017                                                 \"\"   \n",
       "2  41034  \"Hi all, for context, 29 year old guy from Ams...   \n",
       "3  43519  \"Looking for a new role and haven\\u2019t had m...   \n",
       "4  41067  \"I am a 24M, from west bengal with a bachelor'...   \n",
       "\n",
       "                                               title                author  \\\n",
       "0                                    Roast my resume        Anonymous_0427   \n",
       "1  Roast my resume as hard as you can. Hold no pu...   Holiday-Penalty5389   \n",
       "2                              Lazy job or Hard job?  Weak_Assumption_6889   \n",
       "3                                Roast my Resume Pls         Neither_Trash   \n",
       "4               Is Jadavpur University good for MCA?              grvx_rdt   \n",
       "\n",
       "   created_utc  num_comments  post_id  upvote_ratio  score  \\\n",
       "0   1710585856            24  1bg3af6          0.70     22   \n",
       "1   1710197769             2  1bch6zz          1.00      2   \n",
       "2   1710540442             8  1bfpxll          0.33      0   \n",
       "3   1710709540             1  1bh8md2          0.99      1   \n",
       "4   1710515520             0  1bfg926          0.66      1   \n",
       "\n",
       "                                                 url     subreddit  \\\n",
       "0               https://i.redd.it/hijunkmzdooc1.jpeg       resumes   \n",
       "1               https://i.redd.it/0m75bqb0csnc1.jpeg       resumes   \n",
       "2  https://www.reddit.com/r/careeradvice/comments...  careeradvice   \n",
       "3               https://i.redd.it/n918fjprlyoc1.jpeg       resumes   \n",
       "4  https://www.reddit.com/r/careeradvice/comments...  careeradvice   \n",
       "\n",
       "                           link_flair_text  \\\n",
       "0           Review my resume • I'm in Asia   \n",
       "1  Review my resume • I'm in North America   \n",
       "2                                      NaN   \n",
       "3  Review my resume • I'm in North America   \n",
       "4                                      NaN   \n",
       "\n",
       "                 link_flair_template_id  \n",
       "0  3d212a9a-f5cb-11ec-acef-1adb3b338801  \n",
       "1  c292b8e0-28b9-11ec-874c-325b17e851a3  \n",
       "2                                   NaN  \n",
       "3  c292b8e0-28b9-11ec-874c-325b17e851a3  \n",
       "4                                   NaN  "
      ]
     },
     "execution_count": 3,
     "metadata": {},
     "output_type": "execute_result"
    }
   ],
   "source": [
    "df.head()"
   ]
  },
  {
   "cell_type": "code",
   "execution_count": 4,
   "id": "f5b3f6ed",
   "metadata": {},
   "outputs": [
    {
     "name": "stdout",
     "output_type": "stream",
     "text": [
      "<class 'pandas.core.frame.DataFrame'>\n",
      "RangeIndex: 8460 entries, 0 to 8459\n",
      "Data columns (total 13 columns):\n",
      " #   Column                  Non-Null Count  Dtype  \n",
      "---  ------                  --------------  -----  \n",
      " 0   id                      8460 non-null   int64  \n",
      " 1   text                    8460 non-null   object \n",
      " 2   title                   8460 non-null   object \n",
      " 3   author                  8410 non-null   object \n",
      " 4   created_utc             8460 non-null   int64  \n",
      " 5   num_comments            8460 non-null   int64  \n",
      " 6   post_id                 8460 non-null   object \n",
      " 7   upvote_ratio            8460 non-null   float64\n",
      " 8   score                   8460 non-null   int64  \n",
      " 9   url                     8460 non-null   object \n",
      " 10  subreddit               8460 non-null   object \n",
      " 11  link_flair_text         4047 non-null   object \n",
      " 12  link_flair_template_id  4047 non-null   object \n",
      "dtypes: float64(1), int64(4), object(8)\n",
      "memory usage: 859.3+ KB\n"
     ]
    }
   ],
   "source": [
    "df.info()"
   ]
  },
  {
   "cell_type": "markdown",
   "id": "34ea23de",
   "metadata": {},
   "source": [
    "## Cleaning & Preprocessing"
   ]
  },
  {
   "cell_type": "code",
   "execution_count": 5,
   "id": "7d3c1c74",
   "metadata": {},
   "outputs": [],
   "source": [
    "df = df.drop_duplicates()"
   ]
  },
  {
   "cell_type": "code",
   "execution_count": 6,
   "id": "495c461d",
   "metadata": {},
   "outputs": [],
   "source": [
    "##handling missing value\n",
    "\n",
    "## filling missing values in the link_flair_text and link_flair_template_id  with placeholder\n",
    "\n",
    "\n",
    "df['link_flair_text'] = df['link_flair_text'].fillna('Unknown')\n",
    "df['link_flair_template_id'] = df['link_flair_template_id'].fillna('Unknown')\n"
   ]
  },
  {
   "cell_type": "code",
   "execution_count": 7,
   "id": "36df654a",
   "metadata": {},
   "outputs": [],
   "source": [
    "#Convert created_utc\n",
    "\n",
    "df['created_datetime'] = pd.to_datetime(df['created_utc'], unit='s')\n",
    " # \"created_utc\" feature engineering\n",
    "df['day_of_week'] = df['created_datetime'].dt.day_name()\n",
    "df['hour_of_day'] = df['created_datetime'].dt.hour\n",
    "df['month'] = df['created_datetime'].dt.month_name()\n",
    "df['year'] = df['created_datetime'].dt.year\n",
    "\n",
    "df.drop(columns=['created_utc'], inplace=True)"
   ]
  },
  {
   "cell_type": "code",
   "execution_count": 8,
   "id": "83ea0277",
   "metadata": {},
   "outputs": [
    {
     "name": "stdout",
     "output_type": "stream",
     "text": [
      "Value counts for day_of_week:\n",
      "day_of_week\n",
      "Thursday     1522\n",
      "Friday       1447\n",
      "Sunday       1281\n",
      "Wednesday    1232\n",
      "Saturday     1201\n",
      "Tuesday       980\n",
      "Monday        797\n",
      "Name: count, dtype: int64\n",
      "\n",
      "\n",
      "Value counts for hour_of_day:\n",
      "hour_of_day\n",
      "21    536\n",
      "18    526\n",
      "19    525\n",
      "17    514\n",
      "16    497\n",
      "20    480\n",
      "15    453\n",
      "22    431\n",
      "1     427\n",
      "23    407\n",
      "2     392\n",
      "0     388\n",
      "14    369\n",
      "3     330\n",
      "13    322\n",
      "4     299\n",
      "5     260\n",
      "12    211\n",
      "11    211\n",
      "6     203\n",
      "10    181\n",
      "7     180\n",
      "8     177\n",
      "9     141\n",
      "Name: count, dtype: int64\n",
      "\n",
      "\n",
      "Value counts for month:\n",
      "month\n",
      "March        7696\n",
      "February      510\n",
      "January       178\n",
      "November       13\n",
      "September      11\n",
      "August         11\n",
      "December        8\n",
      "May             8\n",
      "October         8\n",
      "June            7\n",
      "July            7\n",
      "April           3\n",
      "Name: count, dtype: int64\n",
      "\n",
      "\n",
      "Value counts for year:\n",
      "year\n",
      "2024    8366\n",
      "2021      24\n",
      "2022      23\n",
      "2020      18\n",
      "2023       8\n",
      "2019       8\n",
      "2018       7\n",
      "2017       4\n",
      "2016       2\n",
      "Name: count, dtype: int64\n",
      "\n",
      "\n"
     ]
    }
   ],
   "source": [
    "time_features = ['day_of_week', 'hour_of_day', 'month', 'year']\n",
    "\n",
    "\n",
    "for feature in time_features:\n",
    "    print(f\"Value counts for {feature}:\")\n",
    "    print(df[feature].value_counts())\n",
    "    print(\"\\n\") \n"
   ]
  },
  {
   "cell_type": "code",
   "execution_count": 1,
   "id": "834fba67",
   "metadata": {},
   "outputs": [],
   "source": [
    "def basic_text_cleaning(df):\n",
    "  \n",
    "    \n",
    "        url_pattern = r'https?://\\S+|www\\.\\S+'\n",
    "        html_pattern = r'<.*?>'\n",
    "    \n",
    "   \n",
    "        df = df[~df['text'].isin(['[deleted]', '[removed]'])]\n",
    "        \n",
    "    # remove URLs\n",
    "        df['text'] = df['text'].apply(lambda x: re.sub(url_pattern, '', str(x)))\n",
    "        \n",
    "    # remove HTML tags\n",
    "        df['text'] = df['text'].apply(lambda x: re.sub(html_pattern, '', str(x)))\n",
    "        \n",
    "    #whitespace\n",
    "        df['text'] = df['text'].apply(lambda x: ' '.join(str(x).split()))\n",
    "        \n",
    "    # drop rows with very short responses\n",
    "        df = df[df['text'].apply(lambda x: len(str(x)) > 3)]\n",
    "        \n",
    "        return df"
   ]
  },
  {
   "cell_type": "code",
   "execution_count": 19,
   "id": "7d43d7d8",
   "metadata": {},
   "outputs": [],
   "source": [
    "df = basic_text_cleaning(df)"
   ]
  },
  {
   "cell_type": "code",
   "execution_count": 25,
   "id": "862b0cc3",
   "metadata": {},
   "outputs": [],
   "source": [
    "df = df.reset_index(drop=True)"
   ]
  },
  {
   "cell_type": "code",
   "execution_count": 26,
   "id": "158d62d6",
   "metadata": {},
   "outputs": [
    {
     "data": {
      "text/plain": [
       "(7897, 17)"
      ]
     },
     "execution_count": 26,
     "metadata": {},
     "output_type": "execute_result"
    }
   ],
   "source": [
    "df.shape"
   ]
  },
  {
   "cell_type": "code",
   "execution_count": 30,
   "id": "4678a71a",
   "metadata": {},
   "outputs": [
    {
     "name": "stdout",
     "output_type": "stream",
     "text": [
      "Some authors have posted more than once:\n",
      "author\n",
      "AutoModerator         24\n",
      "CSCQMods              19\n",
      "carpet222             17\n",
      "Odd_Spread_8332       15\n",
      "savant78              13\n",
      "                      ..\n",
      "Character_Log_2657     2\n",
      "Nighthawk1458          2\n",
      "BoomBowBoom            2\n",
      "FinanceMan231          2\n",
      "channelblonded99       2\n",
      "Name: count, Length: 589, dtype: int64\n"
     ]
    }
   ],
   "source": [
    "#explore author feature\n",
    "author_counts = df['author'].value_counts()\n",
    "\n",
    "# check if one author post only once\n",
    "multiple_posts = author_counts[author_counts > 1]\n",
    "\n",
    "if multiple_posts.empty:\n",
    "    print(\"Each author has posted only once.\")\n",
    "else:\n",
    "    print(\"Some authors have posted more than once:\")\n",
    "    print(multiple_posts)"
   ]
  },
  {
   "cell_type": "code",
   "execution_count": 32,
   "id": "7f8ebf75",
   "metadata": {},
   "outputs": [
    {
     "data": {
      "text/html": [
       "<div>\n",
       "<style scoped>\n",
       "    .dataframe tbody tr th:only-of-type {\n",
       "        vertical-align: middle;\n",
       "    }\n",
       "\n",
       "    .dataframe tbody tr th {\n",
       "        vertical-align: top;\n",
       "    }\n",
       "\n",
       "    .dataframe thead th {\n",
       "        text-align: right;\n",
       "    }\n",
       "</style>\n",
       "<table border=\"1\" class=\"dataframe\">\n",
       "  <thead>\n",
       "    <tr style=\"text-align: right;\">\n",
       "      <th></th>\n",
       "      <th>num_comments</th>\n",
       "      <th>score</th>\n",
       "      <th>upvote_ratio</th>\n",
       "    </tr>\n",
       "  </thead>\n",
       "  <tbody>\n",
       "    <tr>\n",
       "      <th>count</th>\n",
       "      <td>7897.000000</td>\n",
       "      <td>7897.000000</td>\n",
       "      <td>7897.000000</td>\n",
       "    </tr>\n",
       "    <tr>\n",
       "      <th>mean</th>\n",
       "      <td>16.176269</td>\n",
       "      <td>29.057870</td>\n",
       "      <td>0.786072</td>\n",
       "    </tr>\n",
       "    <tr>\n",
       "      <th>std</th>\n",
       "      <td>51.215530</td>\n",
       "      <td>205.067047</td>\n",
       "      <td>0.233239</td>\n",
       "    </tr>\n",
       "    <tr>\n",
       "      <th>min</th>\n",
       "      <td>0.000000</td>\n",
       "      <td>0.000000</td>\n",
       "      <td>0.050000</td>\n",
       "    </tr>\n",
       "    <tr>\n",
       "      <th>25%</th>\n",
       "      <td>1.000000</td>\n",
       "      <td>1.000000</td>\n",
       "      <td>0.620000</td>\n",
       "    </tr>\n",
       "    <tr>\n",
       "      <th>50%</th>\n",
       "      <td>3.000000</td>\n",
       "      <td>1.000000</td>\n",
       "      <td>0.860000</td>\n",
       "    </tr>\n",
       "    <tr>\n",
       "      <th>75%</th>\n",
       "      <td>9.000000</td>\n",
       "      <td>3.000000</td>\n",
       "      <td>1.000000</td>\n",
       "    </tr>\n",
       "    <tr>\n",
       "      <th>max</th>\n",
       "      <td>1043.000000</td>\n",
       "      <td>8597.000000</td>\n",
       "      <td>1.000000</td>\n",
       "    </tr>\n",
       "  </tbody>\n",
       "</table>\n",
       "</div>"
      ],
      "text/plain": [
       "       num_comments        score  upvote_ratio\n",
       "count   7897.000000  7897.000000   7897.000000\n",
       "mean      16.176269    29.057870      0.786072\n",
       "std       51.215530   205.067047      0.233239\n",
       "min        0.000000     0.000000      0.050000\n",
       "25%        1.000000     1.000000      0.620000\n",
       "50%        3.000000     1.000000      0.860000\n",
       "75%        9.000000     3.000000      1.000000\n",
       "max     1043.000000  8597.000000      1.000000"
      ]
     },
     "execution_count": 32,
     "metadata": {},
     "output_type": "execute_result"
    }
   ],
   "source": [
    "df[[\"num_comments\", \"score\", \"upvote_ratio\"]].describe()"
   ]
  },
  {
   "cell_type": "code",
   "execution_count": 33,
   "id": "574805c4",
   "metadata": {},
   "outputs": [
    {
     "data": {
      "text/plain": [
       "subreddit\n",
       "careeradvice           973\n",
       "LegalAdviceOffTopic    908\n",
       "ITCareerQuestions      898\n",
       "teachers               875\n",
       "FinancialCareers       824\n",
       "careerguidance         689\n",
       "resumes                640\n",
       "jobs                   616\n",
       "cscareerquestions      522\n",
       "sales                  448\n",
       "AskHR                  421\n",
       "EngineeringCareers      83\n",
       "Name: count, dtype: int64"
      ]
     },
     "execution_count": 33,
     "metadata": {},
     "output_type": "execute_result"
    }
   ],
   "source": [
    "df['subreddit'].value_counts()"
   ]
  },
  {
   "cell_type": "code",
   "execution_count": 34,
   "id": "729d18ae",
   "metadata": {},
   "outputs": [],
   "source": [
    "df.to_csv('Job_Datasets/cleaned_whole_data.csv', index=False)"
   ]
  },
  {
   "cell_type": "code",
   "execution_count": 9,
   "id": "1ea16204",
   "metadata": {},
   "outputs": [],
   "source": [
    "df2 = pd.read_csv('Job_Datasets/cleaned_whole_data.csv')"
   ]
  },
  {
   "cell_type": "code",
   "execution_count": 5,
   "id": "35706f63",
   "metadata": {},
   "outputs": [],
   "source": [
    "df3 = pd.read_csv('Job_Datasets/historical_data.csv')"
   ]
  },
  {
   "cell_type": "code",
   "execution_count": 6,
   "id": "fd2203e0",
   "metadata": {},
   "outputs": [],
   "source": [
    "df3 = basic_text_cleaning(df3)"
   ]
  },
  {
   "cell_type": "code",
   "execution_count": 7,
   "id": "ccd33ca9",
   "metadata": {},
   "outputs": [],
   "source": [
    "df3 = df3.reset_index(drop=True)"
   ]
  },
  {
   "cell_type": "code",
   "execution_count": 10,
   "id": "e4559847",
   "metadata": {},
   "outputs": [],
   "source": [
    "combined_df = pd.concat([df2, df3], axis=0, ignore_index=True)\n"
   ]
  },
  {
   "cell_type": "code",
   "execution_count": 11,
   "id": "d18598f5",
   "metadata": {},
   "outputs": [
    {
     "data": {
      "text/plain": [
       "(8758, 18)"
      ]
     },
     "execution_count": 11,
     "metadata": {},
     "output_type": "execute_result"
    }
   ],
   "source": [
    "combined_df.shape"
   ]
  },
  {
   "cell_type": "code",
   "execution_count": 12,
   "id": "f010d6d5",
   "metadata": {},
   "outputs": [
    {
     "name": "stdout",
     "output_type": "stream",
     "text": [
      "Value counts for month:\n",
      "month\n",
      "March        7226\n",
      "February      545\n",
      "January       228\n",
      "August        114\n",
      "July          108\n",
      "May           104\n",
      "June           97\n",
      "December       85\n",
      "April          66\n",
      "November       65\n",
      "September      62\n",
      "October        58\n",
      "Name: count, dtype: int64\n",
      "\n",
      "\n",
      "Value counts for year:\n",
      "year\n",
      "2024    7888\n",
      "2023     440\n",
      "2022     145\n",
      "2021     125\n",
      "2020      92\n",
      "2019      38\n",
      "2018      18\n",
      "2017      10\n",
      "2016       2\n",
      "Name: count, dtype: int64\n",
      "\n",
      "\n"
     ]
    }
   ],
   "source": [
    "columns_to_check = ['month', 'year']\n",
    "for column in columns_to_check:\n",
    "    print(f\"Value counts for {column}:\")\n",
    "    print(combined_df[column].value_counts())\n",
    "    print(\"\\n\")"
   ]
  },
  {
   "cell_type": "code",
   "execution_count": 13,
   "id": "b3b3a410",
   "metadata": {},
   "outputs": [],
   "source": [
    "combined_df.drop('created_utc', axis = 1, inplace = True)"
   ]
  },
  {
   "cell_type": "code",
   "execution_count": 14,
   "id": "01deb1c4",
   "metadata": {},
   "outputs": [
    {
     "data": {
      "text/plain": [
       "(8758, 17)"
      ]
     },
     "execution_count": 14,
     "metadata": {},
     "output_type": "execute_result"
    }
   ],
   "source": [
    "combined_df.shape"
   ]
  },
  {
   "cell_type": "code",
   "execution_count": 15,
   "id": "9c0bcf8a",
   "metadata": {},
   "outputs": [],
   "source": [
    "combined_df.to_csv('Job_Datasets/final_data.csv', index=False)"
   ]
  },
  {
   "cell_type": "code",
   "execution_count": null,
   "id": "9428c86e",
   "metadata": {},
   "outputs": [],
   "source": []
  }
 ],
 "metadata": {
  "kernelspec": {
   "display_name": "Python 3 (ipykernel)",
   "language": "python",
   "name": "python3"
  },
  "language_info": {
   "codemirror_mode": {
    "name": "ipython",
    "version": 3
   },
   "file_extension": ".py",
   "mimetype": "text/x-python",
   "name": "python",
   "nbconvert_exporter": "python",
   "pygments_lexer": "ipython3",
   "version": "3.8.13"
  },
  "toc": {
   "base_numbering": 1,
   "nav_menu": {},
   "number_sections": false,
   "sideBar": true,
   "skip_h1_title": false,
   "title_cell": "Table of Contents",
   "title_sidebar": "Contents",
   "toc_cell": false,
   "toc_position": {},
   "toc_section_display": true,
   "toc_window_display": false
  }
 },
 "nbformat": 4,
 "nbformat_minor": 5
}
