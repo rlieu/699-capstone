{
 "cells": [
  {
   "cell_type": "code",
   "execution_count": 1,
   "id": "fc6d4e4c",
   "metadata": {},
   "outputs": [
    {
     "name": "stderr",
     "output_type": "stream",
     "text": [
      "[nltk_data] Error loading vader_lexicon: <urlopen error [WinError\n",
      "[nltk_data]     10054] An existing connection was forcibly closed by\n",
      "[nltk_data]     the remote host>\n"
     ]
    }
   ],
   "source": [
    "from nltk.sentiment import SentimentIntensityAnalyzer\n",
    "import pandas as pd\n",
    "import nltk\n",
    "nltk.download('vader_lexicon')\n",
    "\n",
    "import matplotlib.pyplot as plt\n",
    "\n",
    "from jupyter_dash import JupyterDash\n",
    "from dash import dcc, html\n",
    "from dash.dependencies import Input, Output\n",
    "import plotly.express as px  \n",
    "\n",
    "from dash import dash_table\n",
    "\n",
    "app = JupyterDash(__name__)"
   ]
  },
  {
   "cell_type": "code",
   "execution_count": 2,
   "id": "e5213198",
   "metadata": {},
   "outputs": [],
   "source": [
    "df = pd.read_csv('Sentiment & Engagement Datasets/ready_data.csv')"
   ]
  },
  {
   "cell_type": "code",
   "execution_count": 3,
   "id": "8bbf97f1",
   "metadata": {},
   "outputs": [
    {
     "name": "stdout",
     "output_type": "stream",
     "text": [
      "<class 'pandas.core.frame.DataFrame'>\n",
      "RangeIndex: 7761 entries, 0 to 7760\n",
      "Data columns (total 16 columns):\n",
      " #   Column                  Non-Null Count  Dtype  \n",
      "---  ------                  --------------  -----  \n",
      " 0   text                    7760 non-null   object \n",
      " 1   title                   7761 non-null   object \n",
      " 2   author                  7761 non-null   object \n",
      " 3   num_comments            7761 non-null   int64  \n",
      " 4   post_id                 7761 non-null   object \n",
      " 5   upvote_ratio            7761 non-null   float64\n",
      " 6   score                   7761 non-null   int64  \n",
      " 7   url                     7761 non-null   object \n",
      " 8   subreddit               7761 non-null   object \n",
      " 9   link_flair_text         7761 non-null   object \n",
      " 10  link_flair_template_id  7761 non-null   object \n",
      " 11  created_datetime        7761 non-null   object \n",
      " 12  day_of_week             7761 non-null   object \n",
      " 13  hour_of_day             7761 non-null   int64  \n",
      " 14  month                   7761 non-null   object \n",
      " 15  year                    7761 non-null   int64  \n",
      "dtypes: float64(1), int64(4), object(11)\n",
      "memory usage: 970.2+ KB\n"
     ]
    }
   ],
   "source": [
    "df.info()"
   ]
  },
  {
   "cell_type": "code",
   "execution_count": 4,
   "id": "68ef7895",
   "metadata": {},
   "outputs": [],
   "source": [
    "# remove rows where the text column is not a string\n",
    "df = df[df['text'].apply(lambda x: isinstance(x, str))]\n"
   ]
  },
  {
   "cell_type": "code",
   "execution_count": 6,
   "id": "4837bf59",
   "metadata": {},
   "outputs": [
    {
     "name": "stdout",
     "output_type": "stream",
     "text": [
      "<class 'pandas.core.frame.DataFrame'>\n",
      "Index: 7760 entries, 0 to 7760\n",
      "Data columns (total 16 columns):\n",
      " #   Column                  Non-Null Count  Dtype  \n",
      "---  ------                  --------------  -----  \n",
      " 0   text                    7760 non-null   object \n",
      " 1   title                   7760 non-null   object \n",
      " 2   author                  7760 non-null   object \n",
      " 3   num_comments            7760 non-null   int64  \n",
      " 4   post_id                 7760 non-null   object \n",
      " 5   upvote_ratio            7760 non-null   float64\n",
      " 6   score                   7760 non-null   int64  \n",
      " 7   url                     7760 non-null   object \n",
      " 8   subreddit               7760 non-null   object \n",
      " 9   link_flair_text         7760 non-null   object \n",
      " 10  link_flair_template_id  7760 non-null   object \n",
      " 11  created_datetime        7760 non-null   object \n",
      " 12  day_of_week             7760 non-null   object \n",
      " 13  hour_of_day             7760 non-null   int64  \n",
      " 14  month                   7760 non-null   object \n",
      " 15  year                    7760 non-null   int64  \n",
      "dtypes: float64(1), int64(4), object(11)\n",
      "memory usage: 1.0+ MB\n"
     ]
    }
   ],
   "source": [
    "df.info()"
   ]
  },
  {
   "cell_type": "code",
   "execution_count": 7,
   "id": "42eed067",
   "metadata": {},
   "outputs": [],
   "source": [
    "\n",
    "sia = SentimentIntensityAnalyzer()\n",
    "\n",
    "# function to get sentiment\n",
    "def get_vader_sentiment(text):\n",
    "    return sia.polarity_scores(text)['compound']  # returns the compound score\n",
    "\n",
    "df['sentiment_score'] = df['text'].apply(get_vader_sentiment)\n",
    "\n",
    "\n"
   ]
  },
  {
   "cell_type": "code",
   "execution_count": 8,
   "id": "7ce5b909",
   "metadata": {},
   "outputs": [
    {
     "data": {
      "text/html": [
       "<div>\n",
       "<style scoped>\n",
       "    .dataframe tbody tr th:only-of-type {\n",
       "        vertical-align: middle;\n",
       "    }\n",
       "\n",
       "    .dataframe tbody tr th {\n",
       "        vertical-align: top;\n",
       "    }\n",
       "\n",
       "    .dataframe thead th {\n",
       "        text-align: right;\n",
       "    }\n",
       "</style>\n",
       "<table border=\"1\" class=\"dataframe\">\n",
       "  <thead>\n",
       "    <tr style=\"text-align: right;\">\n",
       "      <th></th>\n",
       "      <th>text</th>\n",
       "      <th>title</th>\n",
       "      <th>author</th>\n",
       "      <th>num_comments</th>\n",
       "      <th>post_id</th>\n",
       "      <th>upvote_ratio</th>\n",
       "      <th>score</th>\n",
       "      <th>url</th>\n",
       "      <th>subreddit</th>\n",
       "      <th>link_flair_text</th>\n",
       "      <th>link_flair_template_id</th>\n",
       "      <th>created_datetime</th>\n",
       "      <th>day_of_week</th>\n",
       "      <th>hour_of_day</th>\n",
       "      <th>month</th>\n",
       "      <th>year</th>\n",
       "      <th>sentiment_score</th>\n",
       "    </tr>\n",
       "  </thead>\n",
       "  <tbody>\n",
       "    <tr>\n",
       "      <th>0</th>\n",
       "      <td>Hi context year old guy Amsterdam currently em...</td>\n",
       "      <td>Lazy job or Hard job?</td>\n",
       "      <td>Weak_Assumption_6889</td>\n",
       "      <td>8</td>\n",
       "      <td>1bfpxll</td>\n",
       "      <td>0.33</td>\n",
       "      <td>0</td>\n",
       "      <td>https://www.reddit.com/r/careeradvice/comments...</td>\n",
       "      <td>careeradvice</td>\n",
       "      <td>Unknown</td>\n",
       "      <td>Unknown</td>\n",
       "      <td>2024-03-15 22:07:22</td>\n",
       "      <td>Friday</td>\n",
       "      <td>22</td>\n",
       "      <td>March</td>\n",
       "      <td>2024</td>\n",
       "      <td>0.7579</td>\n",
       "    </tr>\n",
       "    <tr>\n",
       "      <th>1</th>\n",
       "      <td>Looking new role havenut much traction Recentl...</td>\n",
       "      <td>Roast my Resume Pls</td>\n",
       "      <td>Neither_Trash</td>\n",
       "      <td>1</td>\n",
       "      <td>1bh8md2</td>\n",
       "      <td>0.99</td>\n",
       "      <td>1</td>\n",
       "      <td>https://i.redd.it/n918fjprlyoc1.jpeg</td>\n",
       "      <td>resumes</td>\n",
       "      <td>Review my resume • I'm in North America</td>\n",
       "      <td>c292b8e0-28b9-11ec-874c-325b17e851a3</td>\n",
       "      <td>2024-03-17 21:05:40</td>\n",
       "      <td>Sunday</td>\n",
       "      <td>21</td>\n",
       "      <td>March</td>\n",
       "      <td>2024</td>\n",
       "      <td>0.6369</td>\n",
       "    </tr>\n",
       "  </tbody>\n",
       "</table>\n",
       "</div>"
      ],
      "text/plain": [
       "                                                text                  title  \\\n",
       "0  Hi context year old guy Amsterdam currently em...  Lazy job or Hard job?   \n",
       "1  Looking new role havenut much traction Recentl...    Roast my Resume Pls   \n",
       "\n",
       "                 author  num_comments  post_id  upvote_ratio  score  \\\n",
       "0  Weak_Assumption_6889             8  1bfpxll          0.33      0   \n",
       "1         Neither_Trash             1  1bh8md2          0.99      1   \n",
       "\n",
       "                                                 url     subreddit  \\\n",
       "0  https://www.reddit.com/r/careeradvice/comments...  careeradvice   \n",
       "1               https://i.redd.it/n918fjprlyoc1.jpeg       resumes   \n",
       "\n",
       "                           link_flair_text  \\\n",
       "0                                  Unknown   \n",
       "1  Review my resume • I'm in North America   \n",
       "\n",
       "                 link_flair_template_id     created_datetime day_of_week  \\\n",
       "0                               Unknown  2024-03-15 22:07:22      Friday   \n",
       "1  c292b8e0-28b9-11ec-874c-325b17e851a3  2024-03-17 21:05:40      Sunday   \n",
       "\n",
       "   hour_of_day  month  year  sentiment_score  \n",
       "0           22  March  2024           0.7579  \n",
       "1           21  March  2024           0.6369  "
      ]
     },
     "execution_count": 8,
     "metadata": {},
     "output_type": "execute_result"
    }
   ],
   "source": [
    "df.head(2)"
   ]
  },
  {
   "cell_type": "code",
   "execution_count": 9,
   "id": "c392432e",
   "metadata": {},
   "outputs": [],
   "source": [
    "df.to_csv('Sentiment & Engagement Datasets/ready_data_score.csv', index=False)"
   ]
  },
  {
   "cell_type": "code",
   "execution_count": 10,
   "id": "411ec0aa",
   "metadata": {},
   "outputs": [
    {
     "name": "stdout",
     "output_type": "stream",
     "text": [
      "<class 'pandas.core.frame.DataFrame'>\n",
      "Index: 7760 entries, 0 to 7760\n",
      "Data columns (total 17 columns):\n",
      " #   Column                  Non-Null Count  Dtype  \n",
      "---  ------                  --------------  -----  \n",
      " 0   text                    7760 non-null   object \n",
      " 1   title                   7760 non-null   object \n",
      " 2   author                  7760 non-null   object \n",
      " 3   num_comments            7760 non-null   int64  \n",
      " 4   post_id                 7760 non-null   object \n",
      " 5   upvote_ratio            7760 non-null   float64\n",
      " 6   score                   7760 non-null   int64  \n",
      " 7   url                     7760 non-null   object \n",
      " 8   subreddit               7760 non-null   object \n",
      " 9   link_flair_text         7760 non-null   object \n",
      " 10  link_flair_template_id  7760 non-null   object \n",
      " 11  created_datetime        7760 non-null   object \n",
      " 12  day_of_week             7760 non-null   object \n",
      " 13  hour_of_day             7760 non-null   int64  \n",
      " 14  month                   7760 non-null   object \n",
      " 15  year                    7760 non-null   int64  \n",
      " 16  sentiment_score         7760 non-null   float64\n",
      "dtypes: float64(2), int64(4), object(11)\n",
      "memory usage: 1.1+ MB\n"
     ]
    }
   ],
   "source": [
    "df.info()"
   ]
  },
  {
   "cell_type": "markdown",
   "id": "3f4becca",
   "metadata": {},
   "source": [
    " Now that I've successfully added sentiment scores to my dataset"
   ]
  },
  {
   "cell_type": "markdown",
   "id": "418e729a",
   "metadata": {},
   "source": [
    "### Analyze Sentiment Scores"
   ]
  },
  {
   "cell_type": "code",
   "execution_count": 9,
   "id": "ac28f4b1",
   "metadata": {},
   "outputs": [
    {
     "data": {
      "image/png": "[encoded data removed]",
      "text/plain": [
       "<Figure size 1000x600 with 1 Axes>"
      ]
     },
     "metadata": {},
     "output_type": "display_data"
    }
   ],
   "source": [
    "## Overall Sentiment Distribution\n",
    "\n",
    "# Plotting the histogram of sentiment scores\n",
    "plt.figure(figsize=(10, 6))\n",
    "plt.hist(df['sentiment_score'], bins=50, color='skyblue', edgecolor='black')\n",
    "plt.title('Distribution of Sentiment Scores')\n",
    "plt.xlabel('Sentiment Score')\n",
    "plt.ylabel('Frequency')\n",
    "plt.grid(axis='y', alpha=0.75)\n",
    "plt.show()\n"
   ]
  },
  {
   "cell_type": "markdown",
   "id": "4d69e82c",
   "metadata": {},
   "source": [
    "### Sentiment Score Distribution by Time\n",
    "\n",
    "features including: day_of_week, hour_of_day, month, year,     sentiment_score "
   ]
  },
  {
   "cell_type": "code",
   "execution_count": null,
   "id": "01208482",
   "metadata": {},
   "outputs": [],
   "source": []
  }
 ],
 "metadata": {
  "kernelspec": {
   "display_name": "Python 3 (ipykernel)",
   "language": "python",
   "name": "python3"
  },
  "language_info": {
   "codemirror_mode": {
    "name": "ipython",
    "version": 3
   },
   "file_extension": ".py",
   "mimetype": "text/x-python",
   "name": "python",
   "nbconvert_exporter": "python",
   "pygments_lexer": "ipython3",
   "version": "3.8.13"
  },
  "toc": {
   "base_numbering": 1,
   "nav_menu": {},
   "number_sections": false,
   "sideBar": true,
   "skip_h1_title": false,
   "title_cell": "Table of Contents",
   "title_sidebar": "Contents",
   "toc_cell": false,
   "toc_position": {},
   "toc_section_display": true,
   "toc_window_display": false
  }
 },
 "nbformat": 4,
 "nbformat_minor": 5
}
