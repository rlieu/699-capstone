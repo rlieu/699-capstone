{
 "cells": [
  {
   "cell_type": "code",
   "execution_count": 1,
   "id": "18b0307d",
   "metadata": {},
   "outputs": [],
   "source": [
    "import pandas as pd"
   ]
  },
  {
   "cell_type": "code",
   "execution_count": 2,
   "id": "597c917e",
   "metadata": {},
   "outputs": [],
   "source": [
    "df = pd.read_csv('Job_Datasets/df_nlp_processing.csv')"
   ]
  },
  {
   "cell_type": "code",
   "execution_count": 3,
   "id": "e4fafee6",
   "metadata": {},
   "outputs": [
    {
     "data": {
      "text/html": [
       "<div>\n",
       "<style scoped>\n",
       "    .dataframe tbody tr th:only-of-type {\n",
       "        vertical-align: middle;\n",
       "    }\n",
       "\n",
       "    .dataframe tbody tr th {\n",
       "        vertical-align: top;\n",
       "    }\n",
       "\n",
       "    .dataframe thead th {\n",
       "        text-align: right;\n",
       "    }\n",
       "</style>\n",
       "<table border=\"1\" class=\"dataframe\">\n",
       "  <thead>\n",
       "    <tr style=\"text-align: right;\">\n",
       "      <th></th>\n",
       "      <th>author</th>\n",
       "      <th>id</th>\n",
       "      <th>link_flair_text</th>\n",
       "      <th>num_comments</th>\n",
       "      <th>score</th>\n",
       "      <th>text</th>\n",
       "      <th>title</th>\n",
       "      <th>upvote_ratio</th>\n",
       "      <th>url</th>\n",
       "      <th>created_datetime</th>\n",
       "      <th>day_of_week</th>\n",
       "      <th>hour_of_day</th>\n",
       "      <th>month</th>\n",
       "      <th>year</th>\n",
       "      <th>was_edited</th>\n",
       "    </tr>\n",
       "  </thead>\n",
       "  <tbody>\n",
       "    <tr>\n",
       "      <th>0</th>\n",
       "      <td>AutoModerator</td>\n",
       "      <td>1b5wc20</td>\n",
       "      <td>Weekly Megathread</td>\n",
       "      <td>52</td>\n",
       "      <td>8</td>\n",
       "      <td>this weekly success disappointment Megathread ...</td>\n",
       "      <td>Success and Disappointment Megathread for the ...</td>\n",
       "      <td>1.0</td>\n",
       "      <td>https://www.reddit.com/r/jobs/comments/1b5wc20...</td>\n",
       "      <td>2024-03-04 00:00:17</td>\n",
       "      <td>Monday</td>\n",
       "      <td>0</td>\n",
       "      <td>March</td>\n",
       "      <td>2024</td>\n",
       "      <td>False</td>\n",
       "    </tr>\n",
       "    <tr>\n",
       "      <th>1</th>\n",
       "      <td>AutoModerator</td>\n",
       "      <td>1bbp7r7</td>\n",
       "      <td>Weekly Megathread</td>\n",
       "      <td>15</td>\n",
       "      <td>3</td>\n",
       "      <td>this weekly success disappointment Megathread ...</td>\n",
       "      <td>Success and Disappointment Megathread for the ...</td>\n",
       "      <td>1.0</td>\n",
       "      <td>https://www.reddit.com/r/jobs/comments/1bbp7r7...</td>\n",
       "      <td>2024-03-11 00:00:27</td>\n",
       "      <td>Monday</td>\n",
       "      <td>0</td>\n",
       "      <td>March</td>\n",
       "      <td>2024</td>\n",
       "      <td>False</td>\n",
       "    </tr>\n",
       "  </tbody>\n",
       "</table>\n",
       "</div>"
      ],
      "text/plain": [
       "          author       id    link_flair_text  num_comments  score  \\\n",
       "0  AutoModerator  1b5wc20  Weekly Megathread            52      8   \n",
       "1  AutoModerator  1bbp7r7  Weekly Megathread            15      3   \n",
       "\n",
       "                                                text  \\\n",
       "0  this weekly success disappointment Megathread ...   \n",
       "1  this weekly success disappointment Megathread ...   \n",
       "\n",
       "                                               title  upvote_ratio  \\\n",
       "0  Success and Disappointment Megathread for the ...           1.0   \n",
       "1  Success and Disappointment Megathread for the ...           1.0   \n",
       "\n",
       "                                                 url     created_datetime  \\\n",
       "0  https://www.reddit.com/r/jobs/comments/1b5wc20...  2024-03-04 00:00:17   \n",
       "1  https://www.reddit.com/r/jobs/comments/1bbp7r7...  2024-03-11 00:00:27   \n",
       "\n",
       "  day_of_week  hour_of_day  month  year  was_edited  \n",
       "0      Monday            0  March  2024       False  \n",
       "1      Monday            0  March  2024       False  "
      ]
     },
     "execution_count": 3,
     "metadata": {},
     "output_type": "execute_result"
    }
   ],
   "source": [
    "df.head(2)"
   ]
  },
  {
   "cell_type": "code",
   "execution_count": 4,
   "id": "97a05458",
   "metadata": {},
   "outputs": [
    {
     "data": {
      "text/plain": [
       "(613, 15)"
      ]
     },
     "execution_count": 4,
     "metadata": {},
     "output_type": "execute_result"
    }
   ],
   "source": [
    "df.shape\n"
   ]
  },
  {
   "cell_type": "code",
   "execution_count": 5,
   "id": "7db62fca",
   "metadata": {},
   "outputs": [
    {
     "name": "stdout",
     "output_type": "stream",
     "text": [
      "Success and Disappointment Megathread for the Week\n"
     ]
    }
   ],
   "source": [
    "print(df.loc[0, 'title'])"
   ]
  },
  {
   "cell_type": "code",
   "execution_count": 6,
   "id": "685b3e4f",
   "metadata": {},
   "outputs": [
    {
     "name": "stdout",
     "output_type": "stream",
     "text": [
      "this weekly success disappointment Megathread week please post success disappointment week include job offer victory well venting frustration thread thread thank\n"
     ]
    }
   ],
   "source": [
    "print(df.loc[0, 'text'])"
   ]
  },
  {
   "cell_type": "code",
   "execution_count": 7,
   "id": "e68f5b15",
   "metadata": {},
   "outputs": [
    {
     "name": "stdout",
     "output_type": "stream",
     "text": [
      "Some authors have posted more than once:\n",
      "author\n",
      "CombProfessional434     3\n",
      "Zealousideal-Cow6626    3\n",
      "slowngnawing            3\n",
      "Agency_Goldfish         2\n",
      "Lazy_Driver_6795        2\n",
      "mel69issa               2\n",
      "IAmArgumentGuy          2\n",
      "DonkeySmash101          2\n",
      "boo_ella                2\n",
      "redditoriousBIG         2\n",
      "AutoModerator           2\n",
      "TiredOfLife90           2\n",
      "sheephorde              2\n",
      "knightoffire55          2\n",
      "sports_fan27            2\n",
      "Big-Management7358      2\n",
      "MooseGoose82            2\n",
      "Musicislife21_          2\n",
      "JellyfishJolly168       2\n",
      "Dependent_Rub_6982      2\n",
      "Just-a-guy879           2\n",
      "Name: count, dtype: int64\n"
     ]
    }
   ],
   "source": [
    "author_counts = df['author'].value_counts()\n",
    "\n",
    "# check if one author post only once\n",
    "multiple_posts = author_counts[author_counts > 1]\n",
    "\n",
    "if multiple_posts.empty:\n",
    "    print(\"Each author has posted only once.\")\n",
    "else:\n",
    "    print(\"Some authors have posted more than once:\")\n",
    "    print(multiple_posts)"
   ]
  },
  {
   "cell_type": "code",
   "execution_count": 8,
   "id": "b383de77",
   "metadata": {},
   "outputs": [
    {
     "name": "stdout",
     "output_type": "stream",
     "text": [
      " Unique Value for link_flair_text:\n",
      "\n",
      "\n",
      "['Weekly Megathread' 'Article' 'Internships' 'Interviews'\n",
      " 'Work/Life balance' 'Rejections' 'Applications' 'Post-interview'\n",
      " 'Career planning' 'Leaving a job' 'Companies' 'Job searching' 'Layoffs'\n",
      " 'Resumes/CVs' 'Onboarding' 'Temp work' 'Unemployment' 'Compensation'\n",
      " 'Recruiters' 'Career development' ' HR ' 'Training' 'Office relations'\n",
      " 'Discipline' 'Promotions' 'Education' 'Networking' 'Contract work'\n",
      " 'References' 'Evaluations' 'Qualifications']\n",
      "\n",
      "\n",
      "Number of unique values 31\n",
      "\n",
      "\n",
      " Unique Value for month:\n",
      "\n",
      "\n",
      "['March']\n",
      "\n",
      "\n",
      "Number of unique values 1\n",
      "\n",
      "\n",
      " Unique Value for year:\n",
      "\n",
      "\n",
      "[2024]\n",
      "\n",
      "\n",
      "Number of unique values 1\n",
      "\n",
      "\n",
      " Unique Value for was_edited:\n",
      "\n",
      "\n",
      "[False  True]\n",
      "\n",
      "\n",
      "Number of unique values 2\n",
      "\n",
      "\n"
     ]
    }
   ],
   "source": [
    "columns_to_check = ['link_flair_text', 'month', 'year', 'was_edited']\n",
    "\n",
    "for column in columns_to_check:\n",
    "    print(f\" Unique Value for {column}:\")\n",
    "    print(\"\\n\") \n",
    "    print(df[column].unique())\n",
    "    print(\"\\n\") \n",
    "     \n",
    "    print(f'Number of unique values {len(df[column].unique())}') \n",
    "    print(\"\\n\")"
   ]
  },
  {
   "cell_type": "code",
   "execution_count": 9,
   "id": "6adf334a",
   "metadata": {},
   "outputs": [
    {
     "name": "stdout",
     "output_type": "stream",
     "text": [
      "Value counts for link_flair_text:\n",
      "link_flair_text\n",
      "Job searching         83\n",
      "Applications          75\n",
      "Interviews            66\n",
      "Leaving a job         53\n",
      "Post-interview        44\n",
      "Compensation          40\n",
      "Career planning       34\n",
      "Work/Life balance     22\n",
      "Career development    21\n",
      "Office relations      21\n",
      "Resumes/CVs           17\n",
      "Onboarding            15\n",
      "Unemployment          15\n",
      "Article               14\n",
      " HR                   14\n",
      "Companies             12\n",
      "Rejections            12\n",
      "Education              8\n",
      "Layoffs                6\n",
      "Recruiters             6\n",
      "Discipline             5\n",
      "Evaluations            5\n",
      "Promotions             5\n",
      "Networking             4\n",
      "Training               3\n",
      "Internships            3\n",
      "Temp work              3\n",
      "Weekly Megathread      2\n",
      "Contract work          2\n",
      "Qualifications         2\n",
      "References             1\n",
      "Name: count, dtype: int64\n",
      "\n",
      "\n",
      "Value counts for month:\n",
      "month\n",
      "March    613\n",
      "Name: count, dtype: int64\n",
      "\n",
      "\n",
      "Value counts for year:\n",
      "year\n",
      "2024    613\n",
      "Name: count, dtype: int64\n",
      "\n",
      "\n",
      "Value counts for was_edited:\n",
      "was_edited\n",
      "False    566\n",
      "True      47\n",
      "Name: count, dtype: int64\n",
      "\n",
      "\n",
      "Value counts for hour_of_day:\n",
      "hour_of_day\n",
      "0     49\n",
      "17    44\n",
      "2     40\n",
      "21    40\n",
      "18    38\n",
      "20    38\n",
      "22    35\n",
      "19    31\n",
      "1     30\n",
      "23    30\n",
      "3     28\n",
      "13    28\n",
      "15    26\n",
      "16    26\n",
      "6     18\n",
      "4     18\n",
      "14    17\n",
      "5     16\n",
      "7     16\n",
      "12    13\n",
      "11    12\n",
      "10     9\n",
      "8      7\n",
      "9      4\n",
      "Name: count, dtype: int64\n",
      "\n",
      "\n"
     ]
    }
   ],
   "source": [
    "columns_to_check = ['link_flair_text', 'month', 'year', 'was_edited', 'hour_of_day']\n",
    "for column in columns_to_check:\n",
    "    print(f\"Value counts for {column}:\")\n",
    "    print(df[column].value_counts())\n",
    "    print(\"\\n\")  \n"
   ]
  },
  {
   "cell_type": "code",
   "execution_count": 10,
   "id": "268c06f8",
   "metadata": {},
   "outputs": [
    {
     "data": {
      "text/html": [
       "<div>\n",
       "<style scoped>\n",
       "    .dataframe tbody tr th:only-of-type {\n",
       "        vertical-align: middle;\n",
       "    }\n",
       "\n",
       "    .dataframe tbody tr th {\n",
       "        vertical-align: top;\n",
       "    }\n",
       "\n",
       "    .dataframe thead th {\n",
       "        text-align: right;\n",
       "    }\n",
       "</style>\n",
       "<table border=\"1\" class=\"dataframe\">\n",
       "  <thead>\n",
       "    <tr style=\"text-align: right;\">\n",
       "      <th></th>\n",
       "      <th>num_comments</th>\n",
       "      <th>score</th>\n",
       "      <th>upvote_ratio</th>\n",
       "    </tr>\n",
       "  </thead>\n",
       "  <tbody>\n",
       "    <tr>\n",
       "      <th>count</th>\n",
       "      <td>613.000000</td>\n",
       "      <td>613.000000</td>\n",
       "      <td>613.000000</td>\n",
       "    </tr>\n",
       "    <tr>\n",
       "      <th>mean</th>\n",
       "      <td>18.605220</td>\n",
       "      <td>68.469821</td>\n",
       "      <td>0.800767</td>\n",
       "    </tr>\n",
       "    <tr>\n",
       "      <th>std</th>\n",
       "      <td>123.077387</td>\n",
       "      <td>586.100181</td>\n",
       "      <td>0.212093</td>\n",
       "    </tr>\n",
       "    <tr>\n",
       "      <th>min</th>\n",
       "      <td>0.000000</td>\n",
       "      <td>0.000000</td>\n",
       "      <td>0.220000</td>\n",
       "    </tr>\n",
       "    <tr>\n",
       "      <th>25%</th>\n",
       "      <td>1.000000</td>\n",
       "      <td>1.000000</td>\n",
       "      <td>0.670000</td>\n",
       "    </tr>\n",
       "    <tr>\n",
       "      <th>50%</th>\n",
       "      <td>2.000000</td>\n",
       "      <td>1.000000</td>\n",
       "      <td>0.850000</td>\n",
       "    </tr>\n",
       "    <tr>\n",
       "      <th>75%</th>\n",
       "      <td>6.000000</td>\n",
       "      <td>3.000000</td>\n",
       "      <td>1.000000</td>\n",
       "    </tr>\n",
       "    <tr>\n",
       "      <th>max</th>\n",
       "      <td>2061.000000</td>\n",
       "      <td>9962.000000</td>\n",
       "      <td>1.000000</td>\n",
       "    </tr>\n",
       "  </tbody>\n",
       "</table>\n",
       "</div>"
      ],
      "text/plain": [
       "       num_comments        score  upvote_ratio\n",
       "count    613.000000   613.000000    613.000000\n",
       "mean      18.605220    68.469821      0.800767\n",
       "std      123.077387   586.100181      0.212093\n",
       "min        0.000000     0.000000      0.220000\n",
       "25%        1.000000     1.000000      0.670000\n",
       "50%        2.000000     1.000000      0.850000\n",
       "75%        6.000000     3.000000      1.000000\n",
       "max     2061.000000  9962.000000      1.000000"
      ]
     },
     "execution_count": 10,
     "metadata": {},
     "output_type": "execute_result"
    }
   ],
   "source": [
    "df[[\"num_comments\", \"score\", \"upvote_ratio\"]].describe()"
   ]
  },
  {
   "cell_type": "code",
   "execution_count": null,
   "id": "92cee5e1",
   "metadata": {},
   "outputs": [],
   "source": []
  }
 ],
 "metadata": {
  "kernelspec": {
   "display_name": "Python 3 (ipykernel)",
   "language": "python",
   "name": "python3"
  },
  "language_info": {
   "codemirror_mode": {
    "name": "ipython",
    "version": 3
   },
   "file_extension": ".py",
   "mimetype": "text/x-python",
   "name": "python",
   "nbconvert_exporter": "python",
   "pygments_lexer": "ipython3",
   "version": "3.8.13"
  },
  "toc": {
   "base_numbering": 1,
   "nav_menu": {},
   "number_sections": false,
   "sideBar": true,
   "skip_h1_title": false,
   "title_cell": "Table of Contents",
   "title_sidebar": "Contents",
   "toc_cell": false,
   "toc_position": {},
   "toc_section_display": true,
   "toc_window_display": false
  }
 },
 "nbformat": 4,
 "nbformat_minor": 5
}
