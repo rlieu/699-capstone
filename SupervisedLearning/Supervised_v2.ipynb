{
 "cells": [
  {
   "cell_type": "code",
   "execution_count": 1,
   "metadata": {},
   "outputs": [
    {
     "name": "stderr",
     "output_type": "stream",
     "text": [
      "C:\\Users\\dross\\AppData\\Local\\Temp\\ipykernel_10916\\3378462760.py:1: DeprecationWarning: \n",
      "Pyarrow will become a required dependency of pandas in the next major release of pandas (pandas 3.0),\n",
      "(to allow more performant data types, such as the Arrow string type, and better interoperability with other libraries)\n",
      "but was not found to be installed on your system.\n",
      "If this would cause problems for you,\n",
      "please provide us feedback at https://github.com/pandas-dev/pandas/issues/54466\n",
      "        \n",
      "  import pandas as pd\n",
      "c:\\Users\\dross\\Desktop\\Project\\venv\\Lib\\site-packages\\tpot\\builtins\\__init__.py:36: UserWarning: Warning: optional dependency `torch` is not available. - skipping import of NN models.\n",
      "  warnings.warn(\"Warning: optional dependency `torch` is not available. - skipping import of NN models.\")\n"
     ]
    }
   ],
   "source": [
    "import pandas as pd\n",
    "\n",
    "# Text processing and NLP\n",
    "from sklearn.preprocessing import LabelEncoder\n",
    "from sklearn.feature_extraction.text import TfidfVectorizer\n",
    "from sklearn.model_selection import train_test_split\n",
    "\n",
    "import numpy as np\n",
    "\n",
    "from tpot import TPOTClassifier"
   ]
  },
  {
   "cell_type": "markdown",
   "metadata": {},
   "source": [
    "prior to starting will need to pip install the following \n",
    "\n",
    "pip install pandas scikit-learn numpy tpot"
   ]
  },
  {
   "cell_type": "markdown",
   "metadata": {},
   "source": [
    "LOCALLY"
   ]
  },
  {
   "cell_type": "markdown",
   "metadata": {},
   "source": [
    "GitHub"
   ]
  },
  {
   "cell_type": "code",
   "execution_count": 2,
   "metadata": {},
   "outputs": [
    {
     "data": {
      "text/plain": [
       "(7897, 17)"
      ]
     },
     "execution_count": 2,
     "metadata": {},
     "output_type": "execute_result"
    }
   ],
   "source": [
    "# df = pd.read_csv('C:/Users/dross/Desktop/Project/cleaned_whole_data.csv')\n",
    "#tfidf_matrix = load_npz('C:/Users/dross/Desktop/Project/tfidf_matrix.npz')\n",
    "# list(df['link_flair_text'].unique())\n",
    "# labels = df['link_flair_text']\n",
    "df = pd.read_csv('cleaned_whole_data.csv')\n",
    "df.shape"
   ]
  },
  {
   "cell_type": "markdown",
   "metadata": {},
   "source": [
    "Subreddit post distribution "
   ]
  },
  {
   "cell_type": "code",
   "execution_count": 4,
   "metadata": {},
   "outputs": [
    {
     "data": {
      "text/plain": [
       "subreddit\n",
       "careeradvice           973\n",
       "LegalAdviceOffTopic    908\n",
       "ITCareerQuestions      898\n",
       "teachers               875\n",
       "FinancialCareers       824\n",
       "careerguidance         689\n",
       "resumes                640\n",
       "jobs                   616\n",
       "cscareerquestions      522\n",
       "sales                  448\n",
       "AskHR                  421\n",
       "EngineeringCareers      83\n",
       "Name: count, dtype: int64"
      ]
     },
     "execution_count": 4,
     "metadata": {},
     "output_type": "execute_result"
    }
   ],
   "source": [
    "df['subreddit'].value_counts()"
   ]
  },
  {
   "cell_type": "code",
   "execution_count": 5,
   "metadata": {},
   "outputs": [],
   "source": [
    "label_encoder = LabelEncoder()\n",
    "\n",
    "# Fit and transform the 'subreddit' column to obtain encoded target variable\n",
    "df['subreddit_encoded'] = label_encoder.fit_transform(df['subreddit'])\n"
   ]
  },
  {
   "cell_type": "markdown",
   "metadata": {},
   "source": [
    "Convert to weekday and weekend One-hot encode 'day_of_week' and 'month', obtaining a new DataFrame"
   ]
  },
  {
   "cell_type": "code",
   "execution_count": 6,
   "metadata": {},
   "outputs": [
    {
     "data": {
      "text/html": [
       "<div>\n",
       "<style scoped>\n",
       "    .dataframe tbody tr th:only-of-type {\n",
       "        vertical-align: middle;\n",
       "    }\n",
       "\n",
       "    .dataframe tbody tr th {\n",
       "        vertical-align: top;\n",
       "    }\n",
       "\n",
       "    .dataframe thead th {\n",
       "        text-align: right;\n",
       "    }\n",
       "</style>\n",
       "<table border=\"1\" class=\"dataframe\">\n",
       "  <thead>\n",
       "    <tr style=\"text-align: right;\">\n",
       "      <th></th>\n",
       "      <th>id</th>\n",
       "      <th>text</th>\n",
       "      <th>title</th>\n",
       "      <th>author</th>\n",
       "      <th>num_comments</th>\n",
       "      <th>post_id</th>\n",
       "      <th>upvote_ratio</th>\n",
       "      <th>score</th>\n",
       "      <th>url</th>\n",
       "      <th>subreddit</th>\n",
       "      <th>...</th>\n",
       "      <th>link_flair_template_id</th>\n",
       "      <th>created_datetime</th>\n",
       "      <th>day_of_week</th>\n",
       "      <th>hour_of_day</th>\n",
       "      <th>month</th>\n",
       "      <th>year</th>\n",
       "      <th>subreddit_encoded</th>\n",
       "      <th>day_of_week_encoded</th>\n",
       "      <th>month_encoded</th>\n",
       "      <th>is_weekday</th>\n",
       "    </tr>\n",
       "  </thead>\n",
       "  <tbody>\n",
       "    <tr>\n",
       "      <th>0</th>\n",
       "      <td>41034</td>\n",
       "      <td>Hi all, for context, 29 year old guy from Amst...</td>\n",
       "      <td>Lazy job or Hard job?</td>\n",
       "      <td>Weak_Assumption_6889</td>\n",
       "      <td>8</td>\n",
       "      <td>1bfpxll</td>\n",
       "      <td>0.33</td>\n",
       "      <td>0</td>\n",
       "      <td>https://www.reddit.com/r/careeradvice/comments...</td>\n",
       "      <td>careeradvice</td>\n",
       "      <td>...</td>\n",
       "      <td>Unknown</td>\n",
       "      <td>2024-03-15 22:07:22</td>\n",
       "      <td>Friday</td>\n",
       "      <td>22</td>\n",
       "      <td>March</td>\n",
       "      <td>2024</td>\n",
       "      <td>5</td>\n",
       "      <td>5</td>\n",
       "      <td>3</td>\n",
       "      <td>1</td>\n",
       "    </tr>\n",
       "    <tr>\n",
       "      <th>1</th>\n",
       "      <td>43519</td>\n",
       "      <td>Looking for a new role and haven\\u2019t had mu...</td>\n",
       "      <td>Roast my Resume Pls</td>\n",
       "      <td>Neither_Trash</td>\n",
       "      <td>1</td>\n",
       "      <td>1bh8md2</td>\n",
       "      <td>0.99</td>\n",
       "      <td>1</td>\n",
       "      <td>https://i.redd.it/n918fjprlyoc1.jpeg</td>\n",
       "      <td>resumes</td>\n",
       "      <td>...</td>\n",
       "      <td>c292b8e0-28b9-11ec-874c-325b17e851a3</td>\n",
       "      <td>2024-03-17 21:05:40</td>\n",
       "      <td>Sunday</td>\n",
       "      <td>21</td>\n",
       "      <td>March</td>\n",
       "      <td>2024</td>\n",
       "      <td>9</td>\n",
       "      <td>7</td>\n",
       "      <td>3</td>\n",
       "      <td>0</td>\n",
       "    </tr>\n",
       "    <tr>\n",
       "      <th>2</th>\n",
       "      <td>41067</td>\n",
       "      <td>I am a 24M, from west bengal with a bachelor's...</td>\n",
       "      <td>Is Jadavpur University good for MCA?</td>\n",
       "      <td>grvx_rdt</td>\n",
       "      <td>0</td>\n",
       "      <td>1bfg926</td>\n",
       "      <td>0.66</td>\n",
       "      <td>1</td>\n",
       "      <td>https://www.reddit.com/r/careeradvice/comments...</td>\n",
       "      <td>careeradvice</td>\n",
       "      <td>...</td>\n",
       "      <td>Unknown</td>\n",
       "      <td>2024-03-15 15:12:00</td>\n",
       "      <td>Friday</td>\n",
       "      <td>15</td>\n",
       "      <td>March</td>\n",
       "      <td>2024</td>\n",
       "      <td>5</td>\n",
       "      <td>5</td>\n",
       "      <td>3</td>\n",
       "      <td>1</td>\n",
       "    </tr>\n",
       "    <tr>\n",
       "      <th>3</th>\n",
       "      <td>43536</td>\n",
       "      <td>It's created in MS word.. I have 3.5 yoe in Ja...</td>\n",
       "      <td>Review my resume please</td>\n",
       "      <td>GroundbreakingZone94</td>\n",
       "      <td>7</td>\n",
       "      <td>1bh3jpg</td>\n",
       "      <td>0.60</td>\n",
       "      <td>1</td>\n",
       "      <td>https://i.redd.it/tjnti8vplxoc1.jpeg</td>\n",
       "      <td>resumes</td>\n",
       "      <td>...</td>\n",
       "      <td>3d212a9a-f5cb-11ec-acef-1adb3b338801</td>\n",
       "      <td>2024-03-17 17:43:39</td>\n",
       "      <td>Sunday</td>\n",
       "      <td>17</td>\n",
       "      <td>March</td>\n",
       "      <td>2024</td>\n",
       "      <td>9</td>\n",
       "      <td>7</td>\n",
       "      <td>3</td>\n",
       "      <td>0</td>\n",
       "    </tr>\n",
       "    <tr>\n",
       "      <th>4</th>\n",
       "      <td>43602</td>\n",
       "      <td>I live in Los Angeles and am 27 years old.\\n</td>\n",
       "      <td>Thoughts on My Experience?</td>\n",
       "      <td>AshamedJellyfish9197</td>\n",
       "      <td>1</td>\n",
       "      <td>1bgejk2</td>\n",
       "      <td>0.33</td>\n",
       "      <td>0</td>\n",
       "      <td>https://i.redd.it/ifqv15ry3roc1.jpeg</td>\n",
       "      <td>resumes</td>\n",
       "      <td>...</td>\n",
       "      <td>c292b8e0-28b9-11ec-874c-325b17e851a3</td>\n",
       "      <td>2024-03-16 19:53:24</td>\n",
       "      <td>Saturday</td>\n",
       "      <td>19</td>\n",
       "      <td>March</td>\n",
       "      <td>2024</td>\n",
       "      <td>9</td>\n",
       "      <td>6</td>\n",
       "      <td>3</td>\n",
       "      <td>0</td>\n",
       "    </tr>\n",
       "  </tbody>\n",
       "</table>\n",
       "<p>5 rows × 21 columns</p>\n",
       "</div>"
      ],
      "text/plain": [
       "      id                                               text  \\\n",
       "0  41034  Hi all, for context, 29 year old guy from Amst...   \n",
       "1  43519  Looking for a new role and haven\\u2019t had mu...   \n",
       "2  41067  I am a 24M, from west bengal with a bachelor's...   \n",
       "3  43536  It's created in MS word.. I have 3.5 yoe in Ja...   \n",
       "4  43602       I live in Los Angeles and am 27 years old.\\n   \n",
       "\n",
       "                                  title                author  num_comments  \\\n",
       "0                 Lazy job or Hard job?  Weak_Assumption_6889             8   \n",
       "1                   Roast my Resume Pls         Neither_Trash             1   \n",
       "2  Is Jadavpur University good for MCA?              grvx_rdt             0   \n",
       "3               Review my resume please  GroundbreakingZone94             7   \n",
       "4            Thoughts on My Experience?  AshamedJellyfish9197             1   \n",
       "\n",
       "   post_id  upvote_ratio  score  \\\n",
       "0  1bfpxll          0.33      0   \n",
       "1  1bh8md2          0.99      1   \n",
       "2  1bfg926          0.66      1   \n",
       "3  1bh3jpg          0.60      1   \n",
       "4  1bgejk2          0.33      0   \n",
       "\n",
       "                                                 url     subreddit  ...  \\\n",
       "0  https://www.reddit.com/r/careeradvice/comments...  careeradvice  ...   \n",
       "1               https://i.redd.it/n918fjprlyoc1.jpeg       resumes  ...   \n",
       "2  https://www.reddit.com/r/careeradvice/comments...  careeradvice  ...   \n",
       "3               https://i.redd.it/tjnti8vplxoc1.jpeg       resumes  ...   \n",
       "4               https://i.redd.it/ifqv15ry3roc1.jpeg       resumes  ...   \n",
       "\n",
       "                 link_flair_template_id     created_datetime day_of_week  \\\n",
       "0                               Unknown  2024-03-15 22:07:22      Friday   \n",
       "1  c292b8e0-28b9-11ec-874c-325b17e851a3  2024-03-17 21:05:40      Sunday   \n",
       "2                               Unknown  2024-03-15 15:12:00      Friday   \n",
       "3  3d212a9a-f5cb-11ec-acef-1adb3b338801  2024-03-17 17:43:39      Sunday   \n",
       "4  c292b8e0-28b9-11ec-874c-325b17e851a3  2024-03-16 19:53:24    Saturday   \n",
       "\n",
       "  hour_of_day  month  year  subreddit_encoded  day_of_week_encoded  \\\n",
       "0          22  March  2024                  5                    5   \n",
       "1          21  March  2024                  9                    7   \n",
       "2          15  March  2024                  5                    5   \n",
       "3          17  March  2024                  9                    7   \n",
       "4          19  March  2024                  9                    6   \n",
       "\n",
       "   month_encoded  is_weekday  \n",
       "0              3           1  \n",
       "1              3           0  \n",
       "2              3           1  \n",
       "3              3           0  \n",
       "4              3           0  \n",
       "\n",
       "[5 rows x 21 columns]"
      ]
     },
     "execution_count": 6,
     "metadata": {},
     "output_type": "execute_result"
    }
   ],
   "source": [
    "\n",
    "day_mapping = {\n",
    "    \"Monday\": 1,\n",
    "    \"Tuesday\": 2,\n",
    "    \"Wednesday\": 3,\n",
    "    \"Thursday\": 4,\n",
    "    \"Friday\": 5,\n",
    "    \"Saturday\": 6,\n",
    "    \"Sunday\": 7\n",
    "}\n",
    "\n",
    "df['day_of_week_encoded'] = df['day_of_week'].map(day_mapping)\n",
    "\n",
    "month_mapping = {\n",
    "    \"January\": 1,\n",
    "    \"February\": 2,\n",
    "    \"March\": 3,\n",
    "    \"April\": 4,\n",
    "    \"May\": 5,\n",
    "    \"June\": 6,\n",
    "    \"July\": 7,\n",
    "    \"August\": 8,\n",
    "    \"September\": 9,\n",
    "    \"October\": 10,\n",
    "    \"November\": 11,\n",
    "    \"December\": 12\n",
    "}\n",
    "\n",
    "df['month_encoded'] = df['month'].map(month_mapping)\n",
    "\n",
    "\n",
    "df['is_weekday'] = df['day_of_week'].apply(lambda x: 1 if x in ['Monday', 'Tuesday', 'Wednesday', 'Thursday', 'Friday'] else 0)\n",
    "df.head()"
   ]
  },
  {
   "cell_type": "markdown",
   "metadata": {},
   "source": [
    "#to provide more context concatenated text and title then preformed tfidf on the Concatenated title and text"
   ]
  },
  {
   "cell_type": "code",
   "execution_count": 7,
   "metadata": {},
   "outputs": [],
   "source": [
    "#to provide more context concatenated text and title then prefrom tfidf\n",
    "# Concatenate title and text\n",
    "df['combined_text'] = df['title'] + ' ' + df['text']\n",
    "\n",
    "# Apply TF-IDF Vectorization\n",
    "tfidf_vectorizer = TfidfVectorizer(max_features=1000, stop_words='english')\n",
    "tfidf_matrix = tfidf_vectorizer.fit_transform(df['combined_text'])\n",
    "\n",
    "# If you're using sparse matrices and want to combine with encoded_features, you might need to convert them to a dense format\n",
    "tfidf_dense = tfidf_matrix.toarray()"
   ]
  },
  {
   "cell_type": "markdown",
   "metadata": {},
   "source": [
    "We combine the dense array with the array_features for one set of features "
   ]
  },
  {
   "cell_type": "code",
   "execution_count": 8,
   "metadata": {},
   "outputs": [],
   "source": [
    "#Inorder to cobine all features will have to convert them to an numpy array \n",
    "#this dense matrix gives a 7% higher accuracy score but is expensive computional wise \n",
    "#solely due to cost ran sparse matrix  but feel free to run either\n",
    "\n",
    "array_features = df[['num_comments','upvote_ratio','score','hour_of_day','year','day_of_week_encoded','month_encoded','is_weekday']].values\n",
    "\n",
    "combined_features = np.hstack((tfidf_dense, array_features))\n"
   ]
  },
  {
   "cell_type": "code",
   "execution_count": null,
   "metadata": {},
   "outputs": [],
   "source": [
    "#target varibale\n",
    "y = df['subreddit_encoded'].values"
   ]
  },
  {
   "cell_type": "code",
   "execution_count": 14,
   "metadata": {},
   "outputs": [],
   "source": [
    "X_train, X_test, y_train, y_test = train_test_split(combined_features, y, test_size=0.2, random_state=42)"
   ]
  },
  {
   "cell_type": "code",
   "execution_count": null,
   "metadata": {},
   "outputs": [],
   "source": [
    "#Set up tpot classifier with generation 5 for iterations "
   ]
  },
  {
   "cell_type": "code",
   "execution_count": 15,
   "metadata": {},
   "outputs": [],
   "source": [
    "# tpot = TPOTClassifier(generations=10,population_size=100,verbosity=2,random_state=42, config_dict='TPOT sparse')\n",
    "tpot = TPOTClassifier(generations=5, population_size=100, verbosity=2, random_state=42)"
   ]
  },
  {
   "cell_type": "markdown",
   "metadata": {},
   "source": [
    "This is an expensive run would not run locally you can still use the suggested Linaer SVC on the next comment"
   ]
  },
  {
   "cell_type": "code",
   "execution_count": 16,
   "metadata": {},
   "outputs": [
    {
     "data": {
      "application/vnd.jupyter.widget-view+json": {
       "model_id": "16325844a977414cae3b61dd779fd886",
       "version_major": 2,
       "version_minor": 0
      },
      "text/plain": [
       "Optimization Progress:   0%|          | 0/600 [00:00<?, ?pipeline/s]"
      ]
     },
     "metadata": {},
     "output_type": "display_data"
    },
    {
     "ename": "",
     "evalue": "",
     "output_type": "error",
     "traceback": [
      "\u001b[1;31mThe Kernel crashed while executing code in the current cell or a previous cell. \n",
      "\u001b[1;31mPlease review the code in the cell(s) to identify a possible cause of the failure. \n",
      "\u001b[1;31mClick <a href='https://aka.ms/vscodeJupyterKernelCrash'>here</a> for more info. \n",
      "\u001b[1;31mView Jupyter <a href='command:jupyter.viewOutput'>log</a> for further details."
     ]
    }
   ],
   "source": [
    "tpot.fit(X_train, y_train)"
   ]
  },
  {
   "cell_type": "code",
   "execution_count": 14,
   "metadata": {},
   "outputs": [],
   "source": [
    "tpot.export('best_tpot_pipelineV2.py')"
   ]
  }
 ],
 "metadata": {
  "kernelspec": {
   "display_name": "Python 3",
   "language": "python",
   "name": "python3"
  },
  "language_info": {
   "codemirror_mode": {
    "name": "ipython",
    "version": 3
   },
   "file_extension": ".py",
   "mimetype": "text/x-python",
   "name": "python",
   "nbconvert_exporter": "python",
   "pygments_lexer": "ipython3",
   "version": "3.11.4"
  }
 },
 "nbformat": 4,
 "nbformat_minor": 2
}
