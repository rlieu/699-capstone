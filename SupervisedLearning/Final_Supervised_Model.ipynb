{
 "cells": [
  {
   "cell_type": "code",
   "execution_count": 1,
   "metadata": {},
   "outputs": [
    {
     "name": "stderr",
     "output_type": "stream",
     "text": [
      "c:\\Users\\dross\\Desktop\\Project\\venv\\Lib\\site-packages\\tpot\\builtins\\__init__.py:36: UserWarning: Warning: optional dependency `torch` is not available. - skipping import of NN models.\n",
      "  warnings.warn(\"Warning: optional dependency `torch` is not available. - skipping import of NN models.\")\n",
      "[nltk_data] Downloading package stopwords to\n",
      "[nltk_data]     C:\\Users\\dross\\AppData\\Roaming\\nltk_data...\n",
      "[nltk_data]   Package stopwords is already up-to-date!\n",
      "[nltk_data] Downloading package punkt to\n",
      "[nltk_data]     C:\\Users\\dross\\AppData\\Roaming\\nltk_data...\n",
      "[nltk_data]   Package punkt is already up-to-date!\n",
      "[nltk_data] Downloading package wordnet to\n",
      "[nltk_data]     C:\\Users\\dross\\AppData\\Roaming\\nltk_data...\n",
      "[nltk_data]   Package wordnet is already up-to-date!\n",
      "[nltk_data] Downloading package vader_lexicon to\n",
      "[nltk_data]     C:\\Users\\dross\\AppData\\Roaming\\nltk_data...\n",
      "[nltk_data]   Package vader_lexicon is already up-to-date!\n"
     ]
    },
    {
     "data": {
      "text/plain": [
       "<spacytextblob.spacytextblob.SpacyTextBlob at 0x1c9aeadf650>"
      ]
     },
     "execution_count": 1,
     "metadata": {},
     "output_type": "execute_result"
    }
   ],
   "source": [
    "# Standard library imports\n",
    "import itertools\n",
    "import re\n",
    "import string\n",
    "import warnings\n",
    "\n",
    "# Third-party library imports for general purposes\n",
    "import matplotlib.pyplot as plt\n",
    "import numpy as np\n",
    "import pandas as pd\n",
    "import seaborn as sns\n",
    "import scipy.sparse as sp\n",
    "import statsmodels.api as sm\n",
    "from scipy.sparse import load_npz\n",
    "from sklearn.metrics import accuracy_score, classification_report, confusion_matrix, f1_score, mean_absolute_error, mean_squared_error, precision_score, recall_score\n",
    "from sklearn.model_selection import GridSearchCV, train_test_split\n",
    "from sklearn.preprocessing import MaxAbsScaler, StandardScaler, scale\n",
    "from sklearn.tree import DecisionTreeClassifier\n",
    "from sklearn.ensemble import ExtraTreesClassifier, GradientBoostingClassifier, GradientBoostingRegressor, RandomForestClassifier, RandomForestRegressor\n",
    "from sklearn.neighbors import KNeighborsClassifier\n",
    "from sklearn.linear_model import LinearRegression\n",
    "from sklearn.decomposition import PCA, NMF\n",
    "from sklearn.pipeline import make_pipeline, make_union\n",
    "from sklearn.feature_extraction.text import TfidfVectorizer\n",
    "from sklearn.metrics.pairwise import cosine_similarity\n",
    "from sklearn.datasets import make_hastie_10_2\n",
    "from sklearn.model_selection import cross_val_score\n",
    "from xgboost import XGBClassifier\n",
    "from tpot import TPOTClassifier, TPOTRegressor\n",
    "from tpot.builtins import StackingEstimator\n",
    "from tpot.export_utils import set_param_recursive\n",
    "from sklearn.preprocessing import LabelEncoder\n",
    "from sklearn.svm import LinearSVC\n",
    "from sklearn.dummy import DummyClassifier\n",
    "from sklearn.model_selection import ParameterGrid\n",
    "import plotly.express as px\n",
    "\n",
    "\n",
    "# Text processing and NLP\n",
    "import nltk\n",
    "from nltk.corpus import stopwords\n",
    "from nltk.stem import PorterStemmer\n",
    "from nltk.sentiment import SentimentIntensityAnalyzer\n",
    "from textblob import TextBlob\n",
    "\n",
    "# Gensim for topic modeling and vector space modeling\n",
    "from gensim import corpora, models\n",
    "from gensim.models.coherencemodel import CoherenceModel\n",
    "from gensim.corpora.dictionary import Dictionary\n",
    "\n",
    "# Spacy for advanced NLP\n",
    "import spacy\n",
    "from spacytextblob.spacytextblob import SpacyTextBlob\n",
    "\n",
    "# Statsmodels for statistical modeling\n",
    "from hyperopt import hp, fmin, tpe, Trials, STATUS_OK\n",
    "\n",
    "# Auto ARIMA model\n",
    "from pmdarima.arima import auto_arima\n",
    "\n",
    "# Plotting and visualization\n",
    "from pandas.plotting import parallel_coordinates\n",
    "from tqdm import tqdm\n",
    "\n",
    "# Miscellaneous\n",
    "import pickle\n",
    "import io\n",
    "\n",
    "# Suppress warnings\n",
    "warnings.filterwarnings(\"ignore\")\n",
    "\n",
    "# NLTK downloads for specific functionalities\n",
    "nltk.download('stopwords')\n",
    "nltk.download('punkt')\n",
    "nltk.download('wordnet')\n",
    "nltk.download('vader_lexicon')\n",
    "\n",
    "from hyperopt import hp, fmin, tpe, STATUS_OK, Trials\n",
    "\n",
    "import re\n",
    "from nltk.corpus import stopwords\n",
    "from nltk.stem import WordNetLemmatizer\n",
    "from nltk.tokenize import word_tokenize\n",
    "import plotly.figure_factory as ff\n",
    "from sklearn.cluster import KMeans\n",
    "\n",
    "nlp = spacy.load('en_core_web_sm')\n",
    "nlp.add_pipe('spacytextblob')"
   ]
  },
  {
   "cell_type": "markdown",
   "metadata": {},
   "source": [
    "GitHub"
   ]
  },
  {
   "cell_type": "code",
   "execution_count": 14,
   "metadata": {},
   "outputs": [
    {
     "data": {
      "text/plain": [
       "subreddit\n",
       "careeradvice           973\n",
       "LegalAdviceOffTopic    908\n",
       "ITCareerQuestions      898\n",
       "teachers               875\n",
       "FinancialCareers       824\n",
       "careerguidance         689\n",
       "resumes                640\n",
       "jobs                   616\n",
       "cscareerquestions      522\n",
       "sales                  448\n",
       "AskHR                  421\n",
       "Name: count, dtype: int64"
      ]
     },
     "execution_count": 14,
     "metadata": {},
     "output_type": "execute_result"
    }
   ],
   "source": [
    "df = pd.read_csv('cleaned_whole_data.csv')\n",
    "\n",
    "df.shape\n",
    "#Removed target variable due to insufficent count \n",
    "df = df[df['subreddit']!='EngineeringCareers']\n",
    "\n",
    "# show remaining target variables and count\n",
    "df['subreddit'].value_counts()"
   ]
  },
  {
   "cell_type": "code",
   "execution_count": 15,
   "metadata": {},
   "outputs": [],
   "source": [
    "# for feature engineering we will need to convert desired features in to numerical representation \n",
    "label_encoder = LabelEncoder()\n",
    "\n",
    "# Fit and transform the 'subreddit' column to obtain encoded target variable\n",
    "df['subreddit_encoded'] = label_encoder.fit_transform(df['subreddit'])\n"
   ]
  },
  {
   "cell_type": "markdown",
   "metadata": {},
   "source": [
    "Convert to weekday and weekend One-hot encode 'day_of_week' and 'month', obtaining a new DataFrame"
   ]
  },
  {
   "cell_type": "code",
   "execution_count": 4,
   "metadata": {},
   "outputs": [
    {
     "data": {
      "text/html": [
       "<div>\n",
       "<style scoped>\n",
       "    .dataframe tbody tr th:only-of-type {\n",
       "        vertical-align: middle;\n",
       "    }\n",
       "\n",
       "    .dataframe tbody tr th {\n",
       "        vertical-align: top;\n",
       "    }\n",
       "\n",
       "    .dataframe thead th {\n",
       "        text-align: right;\n",
       "    }\n",
       "</style>\n",
       "<table border=\"1\" class=\"dataframe\">\n",
       "  <thead>\n",
       "    <tr style=\"text-align: right;\">\n",
       "      <th></th>\n",
       "      <th>id</th>\n",
       "      <th>text</th>\n",
       "      <th>title</th>\n",
       "      <th>author</th>\n",
       "      <th>num_comments</th>\n",
       "      <th>post_id</th>\n",
       "      <th>upvote_ratio</th>\n",
       "      <th>score</th>\n",
       "      <th>url</th>\n",
       "      <th>subreddit</th>\n",
       "      <th>...</th>\n",
       "      <th>link_flair_template_id</th>\n",
       "      <th>created_datetime</th>\n",
       "      <th>day_of_week</th>\n",
       "      <th>hour_of_day</th>\n",
       "      <th>month</th>\n",
       "      <th>year</th>\n",
       "      <th>subreddit_encoded</th>\n",
       "      <th>day_of_week_encoded</th>\n",
       "      <th>month_encoded</th>\n",
       "      <th>is_weekday</th>\n",
       "    </tr>\n",
       "  </thead>\n",
       "  <tbody>\n",
       "    <tr>\n",
       "      <th>0</th>\n",
       "      <td>41034</td>\n",
       "      <td>Hi all, for context, 29 year old guy from Amst...</td>\n",
       "      <td>Lazy job or Hard job?</td>\n",
       "      <td>Weak_Assumption_6889</td>\n",
       "      <td>8</td>\n",
       "      <td>1bfpxll</td>\n",
       "      <td>0.33</td>\n",
       "      <td>0</td>\n",
       "      <td>https://www.reddit.com/r/careeradvice/comments...</td>\n",
       "      <td>careeradvice</td>\n",
       "      <td>...</td>\n",
       "      <td>Unknown</td>\n",
       "      <td>2024-03-15 22:07:22</td>\n",
       "      <td>Friday</td>\n",
       "      <td>22</td>\n",
       "      <td>March</td>\n",
       "      <td>2024</td>\n",
       "      <td>4</td>\n",
       "      <td>5</td>\n",
       "      <td>3</td>\n",
       "      <td>1</td>\n",
       "    </tr>\n",
       "    <tr>\n",
       "      <th>1</th>\n",
       "      <td>43519</td>\n",
       "      <td>Looking for a new role and haven\\u2019t had mu...</td>\n",
       "      <td>Roast my Resume Pls</td>\n",
       "      <td>Neither_Trash</td>\n",
       "      <td>1</td>\n",
       "      <td>1bh8md2</td>\n",
       "      <td>0.99</td>\n",
       "      <td>1</td>\n",
       "      <td>https://i.redd.it/n918fjprlyoc1.jpeg</td>\n",
       "      <td>resumes</td>\n",
       "      <td>...</td>\n",
       "      <td>c292b8e0-28b9-11ec-874c-325b17e851a3</td>\n",
       "      <td>2024-03-17 21:05:40</td>\n",
       "      <td>Sunday</td>\n",
       "      <td>21</td>\n",
       "      <td>March</td>\n",
       "      <td>2024</td>\n",
       "      <td>8</td>\n",
       "      <td>7</td>\n",
       "      <td>3</td>\n",
       "      <td>0</td>\n",
       "    </tr>\n",
       "    <tr>\n",
       "      <th>2</th>\n",
       "      <td>41067</td>\n",
       "      <td>I am a 24M, from west bengal with a bachelor's...</td>\n",
       "      <td>Is Jadavpur University good for MCA?</td>\n",
       "      <td>grvx_rdt</td>\n",
       "      <td>0</td>\n",
       "      <td>1bfg926</td>\n",
       "      <td>0.66</td>\n",
       "      <td>1</td>\n",
       "      <td>https://www.reddit.com/r/careeradvice/comments...</td>\n",
       "      <td>careeradvice</td>\n",
       "      <td>...</td>\n",
       "      <td>Unknown</td>\n",
       "      <td>2024-03-15 15:12:00</td>\n",
       "      <td>Friday</td>\n",
       "      <td>15</td>\n",
       "      <td>March</td>\n",
       "      <td>2024</td>\n",
       "      <td>4</td>\n",
       "      <td>5</td>\n",
       "      <td>3</td>\n",
       "      <td>1</td>\n",
       "    </tr>\n",
       "    <tr>\n",
       "      <th>3</th>\n",
       "      <td>43536</td>\n",
       "      <td>It's created in MS word.. I have 3.5 yoe in Ja...</td>\n",
       "      <td>Review my resume please</td>\n",
       "      <td>GroundbreakingZone94</td>\n",
       "      <td>7</td>\n",
       "      <td>1bh3jpg</td>\n",
       "      <td>0.60</td>\n",
       "      <td>1</td>\n",
       "      <td>https://i.redd.it/tjnti8vplxoc1.jpeg</td>\n",
       "      <td>resumes</td>\n",
       "      <td>...</td>\n",
       "      <td>3d212a9a-f5cb-11ec-acef-1adb3b338801</td>\n",
       "      <td>2024-03-17 17:43:39</td>\n",
       "      <td>Sunday</td>\n",
       "      <td>17</td>\n",
       "      <td>March</td>\n",
       "      <td>2024</td>\n",
       "      <td>8</td>\n",
       "      <td>7</td>\n",
       "      <td>3</td>\n",
       "      <td>0</td>\n",
       "    </tr>\n",
       "    <tr>\n",
       "      <th>4</th>\n",
       "      <td>43602</td>\n",
       "      <td>I live in Los Angeles and am 27 years old.\\n</td>\n",
       "      <td>Thoughts on My Experience?</td>\n",
       "      <td>AshamedJellyfish9197</td>\n",
       "      <td>1</td>\n",
       "      <td>1bgejk2</td>\n",
       "      <td>0.33</td>\n",
       "      <td>0</td>\n",
       "      <td>https://i.redd.it/ifqv15ry3roc1.jpeg</td>\n",
       "      <td>resumes</td>\n",
       "      <td>...</td>\n",
       "      <td>c292b8e0-28b9-11ec-874c-325b17e851a3</td>\n",
       "      <td>2024-03-16 19:53:24</td>\n",
       "      <td>Saturday</td>\n",
       "      <td>19</td>\n",
       "      <td>March</td>\n",
       "      <td>2024</td>\n",
       "      <td>8</td>\n",
       "      <td>6</td>\n",
       "      <td>3</td>\n",
       "      <td>0</td>\n",
       "    </tr>\n",
       "  </tbody>\n",
       "</table>\n",
       "<p>5 rows × 21 columns</p>\n",
       "</div>"
      ],
      "text/plain": [
       "      id                                               text  \\\n",
       "0  41034  Hi all, for context, 29 year old guy from Amst...   \n",
       "1  43519  Looking for a new role and haven\\u2019t had mu...   \n",
       "2  41067  I am a 24M, from west bengal with a bachelor's...   \n",
       "3  43536  It's created in MS word.. I have 3.5 yoe in Ja...   \n",
       "4  43602       I live in Los Angeles and am 27 years old.\\n   \n",
       "\n",
       "                                  title                author  num_comments  \\\n",
       "0                 Lazy job or Hard job?  Weak_Assumption_6889             8   \n",
       "1                   Roast my Resume Pls         Neither_Trash             1   \n",
       "2  Is Jadavpur University good for MCA?              grvx_rdt             0   \n",
       "3               Review my resume please  GroundbreakingZone94             7   \n",
       "4            Thoughts on My Experience?  AshamedJellyfish9197             1   \n",
       "\n",
       "   post_id  upvote_ratio  score  \\\n",
       "0  1bfpxll          0.33      0   \n",
       "1  1bh8md2          0.99      1   \n",
       "2  1bfg926          0.66      1   \n",
       "3  1bh3jpg          0.60      1   \n",
       "4  1bgejk2          0.33      0   \n",
       "\n",
       "                                                 url     subreddit  ...  \\\n",
       "0  https://www.reddit.com/r/careeradvice/comments...  careeradvice  ...   \n",
       "1               https://i.redd.it/n918fjprlyoc1.jpeg       resumes  ...   \n",
       "2  https://www.reddit.com/r/careeradvice/comments...  careeradvice  ...   \n",
       "3               https://i.redd.it/tjnti8vplxoc1.jpeg       resumes  ...   \n",
       "4               https://i.redd.it/ifqv15ry3roc1.jpeg       resumes  ...   \n",
       "\n",
       "                 link_flair_template_id     created_datetime day_of_week  \\\n",
       "0                               Unknown  2024-03-15 22:07:22      Friday   \n",
       "1  c292b8e0-28b9-11ec-874c-325b17e851a3  2024-03-17 21:05:40      Sunday   \n",
       "2                               Unknown  2024-03-15 15:12:00      Friday   \n",
       "3  3d212a9a-f5cb-11ec-acef-1adb3b338801  2024-03-17 17:43:39      Sunday   \n",
       "4  c292b8e0-28b9-11ec-874c-325b17e851a3  2024-03-16 19:53:24    Saturday   \n",
       "\n",
       "  hour_of_day  month  year  subreddit_encoded  day_of_week_encoded  \\\n",
       "0          22  March  2024                  4                    5   \n",
       "1          21  March  2024                  8                    7   \n",
       "2          15  March  2024                  4                    5   \n",
       "3          17  March  2024                  8                    7   \n",
       "4          19  March  2024                  8                    6   \n",
       "\n",
       "   month_encoded  is_weekday  \n",
       "0              3           1  \n",
       "1              3           0  \n",
       "2              3           1  \n",
       "3              3           0  \n",
       "4              3           0  \n",
       "\n",
       "[5 rows x 21 columns]"
      ]
     },
     "execution_count": 4,
     "metadata": {},
     "output_type": "execute_result"
    }
   ],
   "source": [
    "\n",
    "day_mapping = {\n",
    "    \"Monday\": 1,\n",
    "    \"Tuesday\": 2,\n",
    "    \"Wednesday\": 3,\n",
    "    \"Thursday\": 4,\n",
    "    \"Friday\": 5,\n",
    "    \"Saturday\": 6,\n",
    "    \"Sunday\": 7\n",
    "}\n",
    "\n",
    "df['day_of_week_encoded'] = df['day_of_week'].map(day_mapping)\n",
    "\n",
    "month_mapping = {\n",
    "    \"January\": 1,\n",
    "    \"February\": 2,\n",
    "    \"March\": 3,\n",
    "    \"April\": 4,\n",
    "    \"May\": 5,\n",
    "    \"June\": 6,\n",
    "    \"July\": 7,\n",
    "    \"August\": 8,\n",
    "    \"September\": 9,\n",
    "    \"October\": 10,\n",
    "    \"November\": 11,\n",
    "    \"December\": 12\n",
    "}\n",
    "\n",
    "df['month_encoded'] = df['month'].map(month_mapping)\n",
    "\n",
    "\n",
    "df['is_weekday'] = df['day_of_week'].apply(lambda x: 1 if x in ['Monday', 'Tuesday', 'Wednesday', 'Thursday', 'Friday'] else 0)\n",
    "df.head()"
   ]
  },
  {
   "cell_type": "markdown",
   "metadata": {},
   "source": [
    "#to provide more context concatenated text and title then preformed tfidf on the Concatenated title and text"
   ]
  },
  {
   "cell_type": "code",
   "execution_count": 5,
   "metadata": {},
   "outputs": [],
   "source": [
    "lemmatizer = WordNetLemmatizer()\n",
    "stop_words = set(stopwords.words('english'))\n",
    "\n",
    "def preprocess_text(text):\n",
    "    # Lowercasing\n",
    "    text = text.lower()\n",
    "    \n",
    "    # text = expand_contractions(text)\n",
    "    \n",
    "    # Removing unicode characters\n",
    "    text = re.sub(r'\\\\u[0-9A-Fa-f]+', '', text)\n",
    "    \n",
    "    # Removing escape sequences\n",
    "    text = re.sub(r'\\\\n', ' ', text)\n",
    "    text = re.sub(r'\\\\', '', text)\n",
    "    \n",
    "    # Removing non-alphabetic characters\n",
    "    text = re.sub(r'[^a-zA-Z\\s]', '', text)\n",
    "    \n",
    "    # Tokenization\n",
    "    tokens = word_tokenize(text)\n",
    "    \n",
    "    # Removing stop words and lemmatizing\n",
    "    tokens = [lemmatizer.lemmatize(token) for token in tokens if token not in stop_words]\n",
    "    \n",
    "    # Joining back into a string\n",
    "    return ' '.join(tokens)\n",
    "\n",
    "df['processed_text'] = df['text'].apply(preprocess_text)\n",
    "df['combined_text'] = df['title'] + ' ' + df['processed_text']\n",
    "\n",
    "# Apply TF-IDF Vectorization\n",
    "tfidf_vectorizer = TfidfVectorizer(max_features=1000)\n",
    "tfidf_matrix = tfidf_vectorizer.fit_transform(df['combined_text'])\n",
    "\n",
    "# Using matrices and want to combine with encoded_features, you will need to convert them to a dense format\n",
    "tfidf_dense = tfidf_matrix.toarray()"
   ]
  },
  {
   "cell_type": "markdown",
   "metadata": {},
   "source": [
    "We combine the dense array with the array_features for one set of features "
   ]
  },
  {
   "cell_type": "code",
   "execution_count": 6,
   "metadata": {},
   "outputs": [],
   "source": [
    "#Inorder to cobine all features will have to convert them to an numpy array \n",
    "#this dense matrix gives a 7% higher accuracy score but is expensive computional wise \n",
    "#solely due to cost ran sparse matrix  but feel free to run either\n",
    "\n",
    "array_features = df[['num_comments','upvote_ratio','score','hour_of_day','year','day_of_week_encoded','month_encoded','is_weekday']].values\n",
    "\n",
    "combined_features = np.hstack((tfidf_dense, array_features))\n",
    "\n",
    "#target varibale\n",
    "y = df['subreddit_encoded'].values"
   ]
  },
  {
   "cell_type": "code",
   "execution_count": 29,
   "metadata": {},
   "outputs": [],
   "source": [
    "#XGB\n",
    "X_train, X_test, y_train, y_test = train_test_split(combined_features, y, test_size=0.2, random_state=42)\n",
    "#Linear_SVC\n",
    "X_trains, X_tests, y_trains, y_tests = train_test_split(tfidf_matrix, y, test_size=0.2, random_state=42)"
   ]
  },
  {
   "cell_type": "markdown",
   "metadata": {},
   "source": [
    "Our hyper tuning techinques for both the linear svc and the XGB boost where a combination of and exhaustive grid search and Baysiean optimization  "
   ]
  },
  {
   "cell_type": "code",
   "execution_count": 56,
   "metadata": {},
   "outputs": [],
   "source": [
    "#exhaustive grid XGB\n",
    "space = {\n",
    "    'learning_rate': hp.loguniform('learning_rate', np.log(0.01), np.log(1)),\n",
    "    'max_depth': hp.choice('max_depth', np.arange(1, 15, dtype=int)),\n",
    "    'min_child_weight': hp.quniform('min_child_weight', 1, 6, 1),\n",
    "    'subsample': hp.uniform('subsample', 0.5, 1),\n",
    "    'n_estimators': hp.choice('n_estimators', [100, 200, 300, 400, 500]),\n",
    "    'verbosity': hp.choice('verbosity', [0]),\n",
    "    'n_jobs': -1  # Use all available cores\n",
    "}"
   ]
  },
  {
   "cell_type": "code",
   "execution_count": 57,
   "metadata": {},
   "outputs": [
    {
     "name": "stdout",
     "output_type": "stream",
     "text": [
      " 45%|████▌     | 45/100 [5:27:06<4:32:00, 296.73s/trial, best loss: -0.6872493685051959] "
     ]
    }
   ],
   "source": [
    "# Baysiean optimization XGB\n",
    "def objective(params):\n",
    "    xgb_classifier = XGBClassifier(**params)\n",
    "    score = cross_val_score(xgb_classifier, X_train, y_train, cv=5, scoring='accuracy').mean()\n",
    "    return {'loss': -score, 'status': STATUS_OK}\n",
    "\n",
    "# Run the optimization\n",
    "trials = Trials()\n",
    "best = fmin(fn=objective, space=space, algo=tpe.suggest, max_evals=100, trials=trials)\n",
    "\n",
    "print(\"Best Hyperparameters for XGBoost:\", best)"
   ]
  },
  {
   "cell_type": "code",
   "execution_count": 30,
   "metadata": {},
   "outputs": [],
   "source": [
    "XGB = XGBClassifier(learning_rate=0.1132567200427148, max_depth=2, min_child_weight=3.0, n_estimators=100, n_jobs=1, subsample=0.6821295850917053, verbosity=0)\n",
    "XGB.fit(X_train,y_train)\n",
    "results = XGB.predict(X_test)\n"
   ]
  },
  {
   "cell_type": "markdown",
   "metadata": {},
   "source": [
    " 67% accuracy the dense matrix and pairing of features gave us a 6 percent increase in overall preformance then tthe linearSVC suggested with the Auto ML"
   ]
  },
  {
   "cell_type": "code",
   "execution_count": 33,
   "metadata": {},
   "outputs": [
    {
     "name": "stdout",
     "output_type": "stream",
     "text": [
      "Accuracy: 0.6609085092770314\n",
      "Precision: 0.665885221707135\n",
      "Recall:0.6609085092770314\n",
      "F1 Score: 0.6609520380787629\n"
     ]
    }
   ],
   "source": [
    "#XGBClassifier measurement statistics \n",
    "acc = accuracy_score(y_test,results)\n",
    "print(f'Accuracy: {acc}')\n",
    "\n",
    "#precision\n",
    "precision = precision_score(y_test,results,average='weighted')\n",
    "print(f'Precision: {precision}')\n",
    "#Recall\n",
    "recall = recall_score(y_test, results, average='weighted')\n",
    "print(f'Recall:{recall}')\n",
    "#f1 Score \n",
    "f1 = f1_score(y_test,results,average='weighted')\n",
    "print(f'F1 Score: {f1}')"
   ]
  },
  {
   "cell_type": "markdown",
   "metadata": {},
   "source": [
    "The intent of tpot is to assist with model selection tpot gave us a great bench mark model a Linear_SVC that gave good accuracy but after tuning and a pca analysis the final model choosen was an XGboost classifier "
   ]
  },
  {
   "cell_type": "code",
   "execution_count": null,
   "metadata": {},
   "outputs": [],
   "source": [
    "tpot = TPOTClassifier(generations=10,population_size=100,verbosity=2,random_state=42, config_dict='TPOT sparse')\n",
    "tpot.fit(X_trains, y_trains)\n",
    "tpot.export('best_tpot_pipelineV2.py')"
   ]
  },
  {
   "cell_type": "code",
   "execution_count": 31,
   "metadata": {},
   "outputs": [],
   "source": [
    "exported_pipeline = LinearSVC(C= 0.09695023762026912,dual=False,loss='squared_hinge',penalty='l2',tol=0.000143728759546748,class_weight='balanced') \n",
    "#fix random state in exported estimator\n",
    "if hasattr(exported_pipeline,'random_state'):\n",
    "    setattr(exported_pipeline,'random_state',42)\n",
    "    \n",
    "exported_pipeline.fit(X_trains,y_trains)\n",
    "result = exported_pipeline.predict(X_tests)"
   ]
  },
  {
   "cell_type": "code",
   "execution_count": 19,
   "metadata": {},
   "outputs": [
    {
     "name": "stderr",
     "output_type": "stream",
     "text": [
      "GridSearch: 100%|██████████| 24/24 [00:04<00:00,  5.08it/s]"
     ]
    },
    {
     "name": "stdout",
     "output_type": "stream",
     "text": [
      "Best Parameters: {'C': 0.1, 'dual': False, 'loss': 'squared_hinge', 'penalty': 'l2', 'tol': 0.1}\n",
      "Best Score: 0.6276391554702495\n"
     ]
    },
    {
     "name": "stderr",
     "output_type": "stream",
     "text": [
      "\n"
     ]
    }
   ],
   "source": [
    "#exhaustive grid LinearSVC\n",
    "param_grid = {'C':[.01,.1,1,10,100,1000],\n",
    "              'tol':[.0001,.001,.01,.1],\n",
    "              'loss':['squared_hinge'],\n",
    "              'penalty':['l2'],\n",
    "              'dual':[False]}\n",
    "\n",
    "grid = list(ParameterGrid(param_grid))\n",
    "\n",
    "lin_svc =LinearSVC(random_state=42)\n",
    "\n",
    "best_score = 0\n",
    "best_params={}\n",
    "\n",
    "for params in tqdm(grid, desc=\"GridSearch\"):\n",
    "    \n",
    "    lin_svc.set_params(**params)\n",
    "    lin_svc.fit(X_trains,y_trains)\n",
    "    #Evaluate the model\n",
    "    current_score = lin_svc.score(X_tests,y_tests)\n",
    "    \n",
    "    #update with best score and param\n",
    "    \n",
    "    if current_score > best_score:\n",
    "        best_score = current_score\n",
    "        best_params = params \n",
    "        \n",
    "print(\"Best Parameters:\",best_params)\n",
    "print(\"Best Score:\",best_score)\n"
   ]
  },
  {
   "cell_type": "code",
   "execution_count": 20,
   "metadata": {},
   "outputs": [
    {
     "name": "stdout",
     "output_type": "stream",
     "text": [
      "100%|██████████| 100/100 [01:12<00:00,  1.38trial/s, best loss: -0.6280587050359713]\n",
      "Best Hyperparameters: {'C': 0.09695023762026912, 'dual': 0, 'loss': 0, 'penalty': 0, 'tol': 0.000143728759546748}\n"
     ]
    }
   ],
   "source": [
    "# Baysiean optimization LinearSVC\n",
    "space = {\n",
    "    'C': hp.loguniform('C', np.log(0.01), np.log(1000)),\n",
    "    'tol': hp.loguniform('tol', np.log(0.0001), np.log(0.1)),\n",
    "    'loss': hp.choice('loss', ['squared_hinge']),\n",
    "    'penalty': hp.choice('penalty', ['l2']),\n",
    "    'dual': hp.choice('dual', [False])\n",
    "}\n",
    "\n",
    "# Define the objective function\n",
    "def objective(params):\n",
    "    lin_svc = LinearSVC(**params, random_state=42)\n",
    "    score = cross_val_score(lin_svc, X_trains, y_trains, cv=5, scoring='accuracy').mean()\n",
    "    return {'loss': -score, 'status': STATUS_OK}\n",
    "\n",
    "# Run the optimization\n",
    "trials = Trials()\n",
    "best = fmin(fn=objective, space=space, algo=tpe.suggest, max_evals=100, trials=trials)\n",
    "\n",
    "print(\"Best Hyperparameters:\", best)"
   ]
  },
  {
   "cell_type": "code",
   "execution_count": 32,
   "metadata": {},
   "outputs": [
    {
     "name": "stdout",
     "output_type": "stream",
     "text": [
      "Accuracy: 0.6218809980806143\n",
      "Precision: 0.6064071587845172\n",
      "Recall:0.6218809980806143\n",
      "F1 Score: 0.6054736306825682\n"
     ]
    }
   ],
   "source": [
    "acc = accuracy_score(y_tests,result)\n",
    "print(f'Accuracy: {acc}')\n",
    "\n",
    "#precision\n",
    "precision = precision_score(y_tests,result,average='weighted')\n",
    "print(f'Precision: {precision}')\n",
    "#Recall\n",
    "recall = recall_score(y_tests, result, average='weighted')\n",
    "print(f'Recall:{recall}')\n",
    "#f1 Score \n",
    "f1 = f1_score(y_tests,result,average='weighted')\n",
    "print(f'F1 Score: {f1}')"
   ]
  },
  {
   "cell_type": "code",
   "execution_count": 20,
   "metadata": {},
   "outputs": [
    {
     "name": "stdout",
     "output_type": "stream",
     "text": [
      "Baseline Accuracy: 0.12859884836852206\n"
     ]
    }
   ],
   "source": [
    "dummy_clf = DummyClassifier(strategy = 'most_frequent', random_state=42)\n",
    "\n",
    "dummy_clf.fit(X_train, y_train)\n",
    "y_pred = dummy_clf.predict(X_test)\n",
    "\n",
    "accuracy = accuracy_score(y_test,y_pred)\n",
    "print(f'Baseline Accuracy: {accuracy}')\n",
    "\n"
   ]
  },
  {
   "cell_type": "markdown",
   "metadata": {},
   "source": [
    "XGBoost in comprasion to the linear svc "
   ]
  },
  {
   "cell_type": "code",
   "execution_count": 34,
   "metadata": {},
   "outputs": [
    {
     "data": {
      "application/vnd.plotly.v1+json": {
       "config": {
        "plotlyServerURL": "https://plot.ly"
       },
       "data": [
        {
         "colorscale": [
          [
           0,
           "#440154"
          ],
          [
           0.1111111111111111,
           "#482878"
          ],
          [
           0.2222222222222222,
           "#3e4989"
          ],
          [
           0.3333333333333333,
           "#31688e"
          ],
          [
           0.4444444444444444,
           "#26828e"
          ],
          [
           0.5555555555555556,
           "#1f9e89"
          ],
          [
           0.6666666666666666,
           "#35b779"
          ],
          [
           0.7777777777777778,
           "#6ece58"
          ],
          [
           0.8888888888888888,
           "#b5de2b"
          ],
          [
           1,
           "#fde725"
          ]
         ],
         "hoverinfo": "z",
         "reversescale": false,
         "showscale": true,
         "type": "heatmap",
         "x": [
          "AskHR",
          "FinancialCareers",
          "ITCareerQuestions",
          "LegalAdviceOffTopic",
          "careeradvice",
          "careerguidance",
          "cscareerquestions",
          "jobs",
          "resumes",
          "sales",
          "teachers"
         ],
         "y": [
          "AskHR",
          "FinancialCareers",
          "ITCareerQuestions",
          "LegalAdviceOffTopic",
          "careeradvice",
          "careerguidance",
          "cscareerquestions",
          "jobs",
          "resumes",
          "sales",
          "teachers"
         ],
         "z": [
          [
           54,
           1,
           7,
           4,
           10,
           7,
           0,
           9,
           3,
           0,
           2
          ],
          [
           4,
           120,
           7,
           1,
           11,
           8,
           1,
           4,
           4,
           1,
           2
          ],
          [
           3,
           1,
           118,
           8,
           7,
           4,
           10,
           9,
           5,
           1,
           1
          ],
          [
           1,
           0,
           10,
           150,
           4,
           2,
           1,
           2,
           0,
           3,
           0
          ],
          [
           9,
           13,
           9,
           1,
           92,
           45,
           4,
           10,
           5,
           8,
           5
          ],
          [
           1,
           6,
           9,
           2,
           37,
           69,
           3,
           9,
           5,
           5,
           6
          ],
          [
           2,
           2,
           17,
           1,
           6,
           8,
           47,
           11,
           1,
           4,
           2
          ],
          [
           9,
           2,
           12,
           0,
           18,
           18,
           3,
           59,
           5,
           1,
           0
          ],
          [
           0,
           1,
           3,
           1,
           3,
           4,
           2,
           3,
           114,
           0,
           1
          ],
          [
           0,
           0,
           5,
           0,
           7,
           6,
           1,
           1,
           0,
           51,
           1
          ],
          [
           0,
           1,
           4,
           3,
           3,
           5,
           0,
           1,
           0,
           2,
           159
          ]
         ]
        }
       ],
       "layout": {
        "annotations": [
         {
          "font": {
           "color": "#FFFFFF"
          },
          "showarrow": false,
          "text": "0.56",
          "x": "AskHR",
          "xref": "x",
          "y": "AskHR",
          "yref": "y"
         },
         {
          "font": {
           "color": "#FFFFFF"
          },
          "showarrow": false,
          "text": "0.01",
          "x": "FinancialCareers",
          "xref": "x",
          "y": "AskHR",
          "yref": "y"
         },
         {
          "font": {
           "color": "#FFFFFF"
          },
          "showarrow": false,
          "text": "0.07",
          "x": "ITCareerQuestions",
          "xref": "x",
          "y": "AskHR",
          "yref": "y"
         },
         {
          "font": {
           "color": "#FFFFFF"
          },
          "showarrow": false,
          "text": "0.04",
          "x": "LegalAdviceOffTopic",
          "xref": "x",
          "y": "AskHR",
          "yref": "y"
         },
         {
          "font": {
           "color": "#FFFFFF"
          },
          "showarrow": false,
          "text": "0.1",
          "x": "careeradvice",
          "xref": "x",
          "y": "AskHR",
          "yref": "y"
         },
         {
          "font": {
           "color": "#FFFFFF"
          },
          "showarrow": false,
          "text": "0.07",
          "x": "careerguidance",
          "xref": "x",
          "y": "AskHR",
          "yref": "y"
         },
         {
          "font": {
           "color": "#FFFFFF"
          },
          "showarrow": false,
          "text": "0.0",
          "x": "cscareerquestions",
          "xref": "x",
          "y": "AskHR",
          "yref": "y"
         },
         {
          "font": {
           "color": "#FFFFFF"
          },
          "showarrow": false,
          "text": "0.09",
          "x": "jobs",
          "xref": "x",
          "y": "AskHR",
          "yref": "y"
         },
         {
          "font": {
           "color": "#FFFFFF"
          },
          "showarrow": false,
          "text": "0.03",
          "x": "resumes",
          "xref": "x",
          "y": "AskHR",
          "yref": "y"
         },
         {
          "font": {
           "color": "#FFFFFF"
          },
          "showarrow": false,
          "text": "0.0",
          "x": "sales",
          "xref": "x",
          "y": "AskHR",
          "yref": "y"
         },
         {
          "font": {
           "color": "#FFFFFF"
          },
          "showarrow": false,
          "text": "0.02",
          "x": "teachers",
          "xref": "x",
          "y": "AskHR",
          "yref": "y"
         },
         {
          "font": {
           "color": "#FFFFFF"
          },
          "showarrow": false,
          "text": "0.02",
          "x": "AskHR",
          "xref": "x",
          "y": "FinancialCareers",
          "yref": "y"
         },
         {
          "font": {
           "color": "#000000"
          },
          "showarrow": false,
          "text": "0.74",
          "x": "FinancialCareers",
          "xref": "x",
          "y": "FinancialCareers",
          "yref": "y"
         },
         {
          "font": {
           "color": "#FFFFFF"
          },
          "showarrow": false,
          "text": "0.04",
          "x": "ITCareerQuestions",
          "xref": "x",
          "y": "FinancialCareers",
          "yref": "y"
         },
         {
          "font": {
           "color": "#FFFFFF"
          },
          "showarrow": false,
          "text": "0.01",
          "x": "LegalAdviceOffTopic",
          "xref": "x",
          "y": "FinancialCareers",
          "yref": "y"
         },
         {
          "font": {
           "color": "#FFFFFF"
          },
          "showarrow": false,
          "text": "0.07",
          "x": "careeradvice",
          "xref": "x",
          "y": "FinancialCareers",
          "yref": "y"
         },
         {
          "font": {
           "color": "#FFFFFF"
          },
          "showarrow": false,
          "text": "0.05",
          "x": "careerguidance",
          "xref": "x",
          "y": "FinancialCareers",
          "yref": "y"
         },
         {
          "font": {
           "color": "#FFFFFF"
          },
          "showarrow": false,
          "text": "0.01",
          "x": "cscareerquestions",
          "xref": "x",
          "y": "FinancialCareers",
          "yref": "y"
         },
         {
          "font": {
           "color": "#FFFFFF"
          },
          "showarrow": false,
          "text": "0.02",
          "x": "jobs",
          "xref": "x",
          "y": "FinancialCareers",
          "yref": "y"
         },
         {
          "font": {
           "color": "#FFFFFF"
          },
          "showarrow": false,
          "text": "0.02",
          "x": "resumes",
          "xref": "x",
          "y": "FinancialCareers",
          "yref": "y"
         },
         {
          "font": {
           "color": "#FFFFFF"
          },
          "showarrow": false,
          "text": "0.01",
          "x": "sales",
          "xref": "x",
          "y": "FinancialCareers",
          "yref": "y"
         },
         {
          "font": {
           "color": "#FFFFFF"
          },
          "showarrow": false,
          "text": "0.01",
          "x": "teachers",
          "xref": "x",
          "y": "FinancialCareers",
          "yref": "y"
         },
         {
          "font": {
           "color": "#FFFFFF"
          },
          "showarrow": false,
          "text": "0.02",
          "x": "AskHR",
          "xref": "x",
          "y": "ITCareerQuestions",
          "yref": "y"
         },
         {
          "font": {
           "color": "#FFFFFF"
          },
          "showarrow": false,
          "text": "0.01",
          "x": "FinancialCareers",
          "xref": "x",
          "y": "ITCareerQuestions",
          "yref": "y"
         },
         {
          "font": {
           "color": "#000000"
          },
          "showarrow": false,
          "text": "0.71",
          "x": "ITCareerQuestions",
          "xref": "x",
          "y": "ITCareerQuestions",
          "yref": "y"
         },
         {
          "font": {
           "color": "#FFFFFF"
          },
          "showarrow": false,
          "text": "0.05",
          "x": "LegalAdviceOffTopic",
          "xref": "x",
          "y": "ITCareerQuestions",
          "yref": "y"
         },
         {
          "font": {
           "color": "#FFFFFF"
          },
          "showarrow": false,
          "text": "0.04",
          "x": "careeradvice",
          "xref": "x",
          "y": "ITCareerQuestions",
          "yref": "y"
         },
         {
          "font": {
           "color": "#FFFFFF"
          },
          "showarrow": false,
          "text": "0.02",
          "x": "careerguidance",
          "xref": "x",
          "y": "ITCareerQuestions",
          "yref": "y"
         },
         {
          "font": {
           "color": "#FFFFFF"
          },
          "showarrow": false,
          "text": "0.06",
          "x": "cscareerquestions",
          "xref": "x",
          "y": "ITCareerQuestions",
          "yref": "y"
         },
         {
          "font": {
           "color": "#FFFFFF"
          },
          "showarrow": false,
          "text": "0.05",
          "x": "jobs",
          "xref": "x",
          "y": "ITCareerQuestions",
          "yref": "y"
         },
         {
          "font": {
           "color": "#FFFFFF"
          },
          "showarrow": false,
          "text": "0.03",
          "x": "resumes",
          "xref": "x",
          "y": "ITCareerQuestions",
          "yref": "y"
         },
         {
          "font": {
           "color": "#FFFFFF"
          },
          "showarrow": false,
          "text": "0.01",
          "x": "sales",
          "xref": "x",
          "y": "ITCareerQuestions",
          "yref": "y"
         },
         {
          "font": {
           "color": "#FFFFFF"
          },
          "showarrow": false,
          "text": "0.01",
          "x": "teachers",
          "xref": "x",
          "y": "ITCareerQuestions",
          "yref": "y"
         },
         {
          "font": {
           "color": "#FFFFFF"
          },
          "showarrow": false,
          "text": "0.01",
          "x": "AskHR",
          "xref": "x",
          "y": "LegalAdviceOffTopic",
          "yref": "y"
         },
         {
          "font": {
           "color": "#FFFFFF"
          },
          "showarrow": false,
          "text": "0.0",
          "x": "FinancialCareers",
          "xref": "x",
          "y": "LegalAdviceOffTopic",
          "yref": "y"
         },
         {
          "font": {
           "color": "#FFFFFF"
          },
          "showarrow": false,
          "text": "0.06",
          "x": "ITCareerQuestions",
          "xref": "x",
          "y": "LegalAdviceOffTopic",
          "yref": "y"
         },
         {
          "font": {
           "color": "#000000"
          },
          "showarrow": false,
          "text": "0.87",
          "x": "LegalAdviceOffTopic",
          "xref": "x",
          "y": "LegalAdviceOffTopic",
          "yref": "y"
         },
         {
          "font": {
           "color": "#FFFFFF"
          },
          "showarrow": false,
          "text": "0.02",
          "x": "careeradvice",
          "xref": "x",
          "y": "LegalAdviceOffTopic",
          "yref": "y"
         },
         {
          "font": {
           "color": "#FFFFFF"
          },
          "showarrow": false,
          "text": "0.01",
          "x": "careerguidance",
          "xref": "x",
          "y": "LegalAdviceOffTopic",
          "yref": "y"
         },
         {
          "font": {
           "color": "#FFFFFF"
          },
          "showarrow": false,
          "text": "0.01",
          "x": "cscareerquestions",
          "xref": "x",
          "y": "LegalAdviceOffTopic",
          "yref": "y"
         },
         {
          "font": {
           "color": "#FFFFFF"
          },
          "showarrow": false,
          "text": "0.01",
          "x": "jobs",
          "xref": "x",
          "y": "LegalAdviceOffTopic",
          "yref": "y"
         },
         {
          "font": {
           "color": "#FFFFFF"
          },
          "showarrow": false,
          "text": "0.0",
          "x": "resumes",
          "xref": "x",
          "y": "LegalAdviceOffTopic",
          "yref": "y"
         },
         {
          "font": {
           "color": "#FFFFFF"
          },
          "showarrow": false,
          "text": "0.02",
          "x": "sales",
          "xref": "x",
          "y": "LegalAdviceOffTopic",
          "yref": "y"
         },
         {
          "font": {
           "color": "#FFFFFF"
          },
          "showarrow": false,
          "text": "0.0",
          "x": "teachers",
          "xref": "x",
          "y": "LegalAdviceOffTopic",
          "yref": "y"
         },
         {
          "font": {
           "color": "#FFFFFF"
          },
          "showarrow": false,
          "text": "0.04",
          "x": "AskHR",
          "xref": "x",
          "y": "careeradvice",
          "yref": "y"
         },
         {
          "font": {
           "color": "#FFFFFF"
          },
          "showarrow": false,
          "text": "0.06",
          "x": "FinancialCareers",
          "xref": "x",
          "y": "careeradvice",
          "yref": "y"
         },
         {
          "font": {
           "color": "#FFFFFF"
          },
          "showarrow": false,
          "text": "0.04",
          "x": "ITCareerQuestions",
          "xref": "x",
          "y": "careeradvice",
          "yref": "y"
         },
         {
          "font": {
           "color": "#FFFFFF"
          },
          "showarrow": false,
          "text": "0.0",
          "x": "LegalAdviceOffTopic",
          "xref": "x",
          "y": "careeradvice",
          "yref": "y"
         },
         {
          "font": {
           "color": "#000000"
          },
          "showarrow": false,
          "text": "0.46",
          "x": "careeradvice",
          "xref": "x",
          "y": "careeradvice",
          "yref": "y"
         },
         {
          "font": {
           "color": "#FFFFFF"
          },
          "showarrow": false,
          "text": "0.22",
          "x": "careerguidance",
          "xref": "x",
          "y": "careeradvice",
          "yref": "y"
         },
         {
          "font": {
           "color": "#FFFFFF"
          },
          "showarrow": false,
          "text": "0.02",
          "x": "cscareerquestions",
          "xref": "x",
          "y": "careeradvice",
          "yref": "y"
         },
         {
          "font": {
           "color": "#FFFFFF"
          },
          "showarrow": false,
          "text": "0.05",
          "x": "jobs",
          "xref": "x",
          "y": "careeradvice",
          "yref": "y"
         },
         {
          "font": {
           "color": "#FFFFFF"
          },
          "showarrow": false,
          "text": "0.02",
          "x": "resumes",
          "xref": "x",
          "y": "careeradvice",
          "yref": "y"
         },
         {
          "font": {
           "color": "#FFFFFF"
          },
          "showarrow": false,
          "text": "0.04",
          "x": "sales",
          "xref": "x",
          "y": "careeradvice",
          "yref": "y"
         },
         {
          "font": {
           "color": "#FFFFFF"
          },
          "showarrow": false,
          "text": "0.02",
          "x": "teachers",
          "xref": "x",
          "y": "careeradvice",
          "yref": "y"
         },
         {
          "font": {
           "color": "#FFFFFF"
          },
          "showarrow": false,
          "text": "0.01",
          "x": "AskHR",
          "xref": "x",
          "y": "careerguidance",
          "yref": "y"
         },
         {
          "font": {
           "color": "#FFFFFF"
          },
          "showarrow": false,
          "text": "0.04",
          "x": "FinancialCareers",
          "xref": "x",
          "y": "careerguidance",
          "yref": "y"
         },
         {
          "font": {
           "color": "#FFFFFF"
          },
          "showarrow": false,
          "text": "0.06",
          "x": "ITCareerQuestions",
          "xref": "x",
          "y": "careerguidance",
          "yref": "y"
         },
         {
          "font": {
           "color": "#FFFFFF"
          },
          "showarrow": false,
          "text": "0.01",
          "x": "LegalAdviceOffTopic",
          "xref": "x",
          "y": "careerguidance",
          "yref": "y"
         },
         {
          "font": {
           "color": "#FFFFFF"
          },
          "showarrow": false,
          "text": "0.24",
          "x": "careeradvice",
          "xref": "x",
          "y": "careerguidance",
          "yref": "y"
         },
         {
          "font": {
           "color": "#FFFFFF"
          },
          "showarrow": false,
          "text": "0.45",
          "x": "careerguidance",
          "xref": "x",
          "y": "careerguidance",
          "yref": "y"
         },
         {
          "font": {
           "color": "#FFFFFF"
          },
          "showarrow": false,
          "text": "0.02",
          "x": "cscareerquestions",
          "xref": "x",
          "y": "careerguidance",
          "yref": "y"
         },
         {
          "font": {
           "color": "#FFFFFF"
          },
          "showarrow": false,
          "text": "0.06",
          "x": "jobs",
          "xref": "x",
          "y": "careerguidance",
          "yref": "y"
         },
         {
          "font": {
           "color": "#FFFFFF"
          },
          "showarrow": false,
          "text": "0.03",
          "x": "resumes",
          "xref": "x",
          "y": "careerguidance",
          "yref": "y"
         },
         {
          "font": {
           "color": "#FFFFFF"
          },
          "showarrow": false,
          "text": "0.03",
          "x": "sales",
          "xref": "x",
          "y": "careerguidance",
          "yref": "y"
         },
         {
          "font": {
           "color": "#FFFFFF"
          },
          "showarrow": false,
          "text": "0.04",
          "x": "teachers",
          "xref": "x",
          "y": "careerguidance",
          "yref": "y"
         },
         {
          "font": {
           "color": "#FFFFFF"
          },
          "showarrow": false,
          "text": "0.02",
          "x": "AskHR",
          "xref": "x",
          "y": "cscareerquestions",
          "yref": "y"
         },
         {
          "font": {
           "color": "#FFFFFF"
          },
          "showarrow": false,
          "text": "0.02",
          "x": "FinancialCareers",
          "xref": "x",
          "y": "cscareerquestions",
          "yref": "y"
         },
         {
          "font": {
           "color": "#FFFFFF"
          },
          "showarrow": false,
          "text": "0.17",
          "x": "ITCareerQuestions",
          "xref": "x",
          "y": "cscareerquestions",
          "yref": "y"
         },
         {
          "font": {
           "color": "#FFFFFF"
          },
          "showarrow": false,
          "text": "0.01",
          "x": "LegalAdviceOffTopic",
          "xref": "x",
          "y": "cscareerquestions",
          "yref": "y"
         },
         {
          "font": {
           "color": "#FFFFFF"
          },
          "showarrow": false,
          "text": "0.06",
          "x": "careeradvice",
          "xref": "x",
          "y": "cscareerquestions",
          "yref": "y"
         },
         {
          "font": {
           "color": "#FFFFFF"
          },
          "showarrow": false,
          "text": "0.08",
          "x": "careerguidance",
          "xref": "x",
          "y": "cscareerquestions",
          "yref": "y"
         },
         {
          "font": {
           "color": "#FFFFFF"
          },
          "showarrow": false,
          "text": "0.47",
          "x": "cscareerquestions",
          "xref": "x",
          "y": "cscareerquestions",
          "yref": "y"
         },
         {
          "font": {
           "color": "#FFFFFF"
          },
          "showarrow": false,
          "text": "0.11",
          "x": "jobs",
          "xref": "x",
          "y": "cscareerquestions",
          "yref": "y"
         },
         {
          "font": {
           "color": "#FFFFFF"
          },
          "showarrow": false,
          "text": "0.01",
          "x": "resumes",
          "xref": "x",
          "y": "cscareerquestions",
          "yref": "y"
         },
         {
          "font": {
           "color": "#FFFFFF"
          },
          "showarrow": false,
          "text": "0.04",
          "x": "sales",
          "xref": "x",
          "y": "cscareerquestions",
          "yref": "y"
         },
         {
          "font": {
           "color": "#FFFFFF"
          },
          "showarrow": false,
          "text": "0.02",
          "x": "teachers",
          "xref": "x",
          "y": "cscareerquestions",
          "yref": "y"
         },
         {
          "font": {
           "color": "#FFFFFF"
          },
          "showarrow": false,
          "text": "0.07",
          "x": "AskHR",
          "xref": "x",
          "y": "jobs",
          "yref": "y"
         },
         {
          "font": {
           "color": "#FFFFFF"
          },
          "showarrow": false,
          "text": "0.02",
          "x": "FinancialCareers",
          "xref": "x",
          "y": "jobs",
          "yref": "y"
         },
         {
          "font": {
           "color": "#FFFFFF"
          },
          "showarrow": false,
          "text": "0.09",
          "x": "ITCareerQuestions",
          "xref": "x",
          "y": "jobs",
          "yref": "y"
         },
         {
          "font": {
           "color": "#FFFFFF"
          },
          "showarrow": false,
          "text": "0.0",
          "x": "LegalAdviceOffTopic",
          "xref": "x",
          "y": "jobs",
          "yref": "y"
         },
         {
          "font": {
           "color": "#FFFFFF"
          },
          "showarrow": false,
          "text": "0.14",
          "x": "careeradvice",
          "xref": "x",
          "y": "jobs",
          "yref": "y"
         },
         {
          "font": {
           "color": "#FFFFFF"
          },
          "showarrow": false,
          "text": "0.14",
          "x": "careerguidance",
          "xref": "x",
          "y": "jobs",
          "yref": "y"
         },
         {
          "font": {
           "color": "#FFFFFF"
          },
          "showarrow": false,
          "text": "0.02",
          "x": "cscareerquestions",
          "xref": "x",
          "y": "jobs",
          "yref": "y"
         },
         {
          "font": {
           "color": "#FFFFFF"
          },
          "showarrow": false,
          "text": "0.46",
          "x": "jobs",
          "xref": "x",
          "y": "jobs",
          "yref": "y"
         },
         {
          "font": {
           "color": "#FFFFFF"
          },
          "showarrow": false,
          "text": "0.04",
          "x": "resumes",
          "xref": "x",
          "y": "jobs",
          "yref": "y"
         },
         {
          "font": {
           "color": "#FFFFFF"
          },
          "showarrow": false,
          "text": "0.01",
          "x": "sales",
          "xref": "x",
          "y": "jobs",
          "yref": "y"
         },
         {
          "font": {
           "color": "#FFFFFF"
          },
          "showarrow": false,
          "text": "0.0",
          "x": "teachers",
          "xref": "x",
          "y": "jobs",
          "yref": "y"
         },
         {
          "font": {
           "color": "#FFFFFF"
          },
          "showarrow": false,
          "text": "0.0",
          "x": "AskHR",
          "xref": "x",
          "y": "resumes",
          "yref": "y"
         },
         {
          "font": {
           "color": "#FFFFFF"
          },
          "showarrow": false,
          "text": "0.01",
          "x": "FinancialCareers",
          "xref": "x",
          "y": "resumes",
          "yref": "y"
         },
         {
          "font": {
           "color": "#FFFFFF"
          },
          "showarrow": false,
          "text": "0.02",
          "x": "ITCareerQuestions",
          "xref": "x",
          "y": "resumes",
          "yref": "y"
         },
         {
          "font": {
           "color": "#FFFFFF"
          },
          "showarrow": false,
          "text": "0.01",
          "x": "LegalAdviceOffTopic",
          "xref": "x",
          "y": "resumes",
          "yref": "y"
         },
         {
          "font": {
           "color": "#FFFFFF"
          },
          "showarrow": false,
          "text": "0.02",
          "x": "careeradvice",
          "xref": "x",
          "y": "resumes",
          "yref": "y"
         },
         {
          "font": {
           "color": "#FFFFFF"
          },
          "showarrow": false,
          "text": "0.03",
          "x": "careerguidance",
          "xref": "x",
          "y": "resumes",
          "yref": "y"
         },
         {
          "font": {
           "color": "#FFFFFF"
          },
          "showarrow": false,
          "text": "0.02",
          "x": "cscareerquestions",
          "xref": "x",
          "y": "resumes",
          "yref": "y"
         },
         {
          "font": {
           "color": "#FFFFFF"
          },
          "showarrow": false,
          "text": "0.02",
          "x": "jobs",
          "xref": "x",
          "y": "resumes",
          "yref": "y"
         },
         {
          "font": {
           "color": "#000000"
          },
          "showarrow": false,
          "text": "0.86",
          "x": "resumes",
          "xref": "x",
          "y": "resumes",
          "yref": "y"
         },
         {
          "font": {
           "color": "#FFFFFF"
          },
          "showarrow": false,
          "text": "0.0",
          "x": "sales",
          "xref": "x",
          "y": "resumes",
          "yref": "y"
         },
         {
          "font": {
           "color": "#FFFFFF"
          },
          "showarrow": false,
          "text": "0.01",
          "x": "teachers",
          "xref": "x",
          "y": "resumes",
          "yref": "y"
         },
         {
          "font": {
           "color": "#FFFFFF"
          },
          "showarrow": false,
          "text": "0.0",
          "x": "AskHR",
          "xref": "x",
          "y": "sales",
          "yref": "y"
         },
         {
          "font": {
           "color": "#FFFFFF"
          },
          "showarrow": false,
          "text": "0.0",
          "x": "FinancialCareers",
          "xref": "x",
          "y": "sales",
          "yref": "y"
         },
         {
          "font": {
           "color": "#FFFFFF"
          },
          "showarrow": false,
          "text": "0.07",
          "x": "ITCareerQuestions",
          "xref": "x",
          "y": "sales",
          "yref": "y"
         },
         {
          "font": {
           "color": "#FFFFFF"
          },
          "showarrow": false,
          "text": "0.0",
          "x": "LegalAdviceOffTopic",
          "xref": "x",
          "y": "sales",
          "yref": "y"
         },
         {
          "font": {
           "color": "#FFFFFF"
          },
          "showarrow": false,
          "text": "0.1",
          "x": "careeradvice",
          "xref": "x",
          "y": "sales",
          "yref": "y"
         },
         {
          "font": {
           "color": "#FFFFFF"
          },
          "showarrow": false,
          "text": "0.08",
          "x": "careerguidance",
          "xref": "x",
          "y": "sales",
          "yref": "y"
         },
         {
          "font": {
           "color": "#FFFFFF"
          },
          "showarrow": false,
          "text": "0.01",
          "x": "cscareerquestions",
          "xref": "x",
          "y": "sales",
          "yref": "y"
         },
         {
          "font": {
           "color": "#FFFFFF"
          },
          "showarrow": false,
          "text": "0.01",
          "x": "jobs",
          "xref": "x",
          "y": "sales",
          "yref": "y"
         },
         {
          "font": {
           "color": "#FFFFFF"
          },
          "showarrow": false,
          "text": "0.0",
          "x": "resumes",
          "xref": "x",
          "y": "sales",
          "yref": "y"
         },
         {
          "font": {
           "color": "#FFFFFF"
          },
          "showarrow": false,
          "text": "0.71",
          "x": "sales",
          "xref": "x",
          "y": "sales",
          "yref": "y"
         },
         {
          "font": {
           "color": "#FFFFFF"
          },
          "showarrow": false,
          "text": "0.01",
          "x": "teachers",
          "xref": "x",
          "y": "sales",
          "yref": "y"
         },
         {
          "font": {
           "color": "#FFFFFF"
          },
          "showarrow": false,
          "text": "0.0",
          "x": "AskHR",
          "xref": "x",
          "y": "teachers",
          "yref": "y"
         },
         {
          "font": {
           "color": "#FFFFFF"
          },
          "showarrow": false,
          "text": "0.01",
          "x": "FinancialCareers",
          "xref": "x",
          "y": "teachers",
          "yref": "y"
         },
         {
          "font": {
           "color": "#FFFFFF"
          },
          "showarrow": false,
          "text": "0.02",
          "x": "ITCareerQuestions",
          "xref": "x",
          "y": "teachers",
          "yref": "y"
         },
         {
          "font": {
           "color": "#FFFFFF"
          },
          "showarrow": false,
          "text": "0.02",
          "x": "LegalAdviceOffTopic",
          "xref": "x",
          "y": "teachers",
          "yref": "y"
         },
         {
          "font": {
           "color": "#FFFFFF"
          },
          "showarrow": false,
          "text": "0.02",
          "x": "careeradvice",
          "xref": "x",
          "y": "teachers",
          "yref": "y"
         },
         {
          "font": {
           "color": "#FFFFFF"
          },
          "showarrow": false,
          "text": "0.03",
          "x": "careerguidance",
          "xref": "x",
          "y": "teachers",
          "yref": "y"
         },
         {
          "font": {
           "color": "#FFFFFF"
          },
          "showarrow": false,
          "text": "0.0",
          "x": "cscareerquestions",
          "xref": "x",
          "y": "teachers",
          "yref": "y"
         },
         {
          "font": {
           "color": "#FFFFFF"
          },
          "showarrow": false,
          "text": "0.01",
          "x": "jobs",
          "xref": "x",
          "y": "teachers",
          "yref": "y"
         },
         {
          "font": {
           "color": "#FFFFFF"
          },
          "showarrow": false,
          "text": "0.0",
          "x": "resumes",
          "xref": "x",
          "y": "teachers",
          "yref": "y"
         },
         {
          "font": {
           "color": "#FFFFFF"
          },
          "showarrow": false,
          "text": "0.01",
          "x": "sales",
          "xref": "x",
          "y": "teachers",
          "yref": "y"
         },
         {
          "font": {
           "color": "#000000"
          },
          "showarrow": false,
          "text": "0.89",
          "x": "teachers",
          "xref": "x",
          "y": "teachers",
          "yref": "y"
         }
        ],
        "height": 800,
        "template": {
         "data": {
          "bar": [
           {
            "error_x": {
             "color": "#2a3f5f"
            },
            "error_y": {
             "color": "#2a3f5f"
            },
            "marker": {
             "line": {
              "color": "#E5ECF6",
              "width": 0.5
             },
             "pattern": {
              "fillmode": "overlay",
              "size": 10,
              "solidity": 0.2
             }
            },
            "type": "bar"
           }
          ],
          "barpolar": [
           {
            "marker": {
             "line": {
              "color": "#E5ECF6",
              "width": 0.5
             },
             "pattern": {
              "fillmode": "overlay",
              "size": 10,
              "solidity": 0.2
             }
            },
            "type": "barpolar"
           }
          ],
          "carpet": [
           {
            "aaxis": {
             "endlinecolor": "#2a3f5f",
             "gridcolor": "white",
             "linecolor": "white",
             "minorgridcolor": "white",
             "startlinecolor": "#2a3f5f"
            },
            "baxis": {
             "endlinecolor": "#2a3f5f",
             "gridcolor": "white",
             "linecolor": "white",
             "minorgridcolor": "white",
             "startlinecolor": "#2a3f5f"
            },
            "type": "carpet"
           }
          ],
          "choropleth": [
           {
            "colorbar": {
             "outlinewidth": 0,
             "ticks": ""
            },
            "type": "choropleth"
           }
          ],
          "contour": [
           {
            "colorbar": {
             "outlinewidth": 0,
             "ticks": ""
            },
            "colorscale": [
             [
              0,
              "#0d0887"
             ],
             [
              0.1111111111111111,
              "#46039f"
             ],
             [
              0.2222222222222222,
              "#7201a8"
             ],
             [
              0.3333333333333333,
              "#9c179e"
             ],
             [
              0.4444444444444444,
              "#bd3786"
             ],
             [
              0.5555555555555556,
              "#d8576b"
             ],
             [
              0.6666666666666666,
              "#ed7953"
             ],
             [
              0.7777777777777778,
              "#fb9f3a"
             ],
             [
              0.8888888888888888,
              "#fdca26"
             ],
             [
              1,
              "#f0f921"
             ]
            ],
            "type": "contour"
           }
          ],
          "contourcarpet": [
           {
            "colorbar": {
             "outlinewidth": 0,
             "ticks": ""
            },
            "type": "contourcarpet"
           }
          ],
          "heatmap": [
           {
            "colorbar": {
             "outlinewidth": 0,
             "ticks": ""
            },
            "colorscale": [
             [
              0,
              "#0d0887"
             ],
             [
              0.1111111111111111,
              "#46039f"
             ],
             [
              0.2222222222222222,
              "#7201a8"
             ],
             [
              0.3333333333333333,
              "#9c179e"
             ],
             [
              0.4444444444444444,
              "#bd3786"
             ],
             [
              0.5555555555555556,
              "#d8576b"
             ],
             [
              0.6666666666666666,
              "#ed7953"
             ],
             [
              0.7777777777777778,
              "#fb9f3a"
             ],
             [
              0.8888888888888888,
              "#fdca26"
             ],
             [
              1,
              "#f0f921"
             ]
            ],
            "type": "heatmap"
           }
          ],
          "heatmapgl": [
           {
            "colorbar": {
             "outlinewidth": 0,
             "ticks": ""
            },
            "colorscale": [
             [
              0,
              "#0d0887"
             ],
             [
              0.1111111111111111,
              "#46039f"
             ],
             [
              0.2222222222222222,
              "#7201a8"
             ],
             [
              0.3333333333333333,
              "#9c179e"
             ],
             [
              0.4444444444444444,
              "#bd3786"
             ],
             [
              0.5555555555555556,
              "#d8576b"
             ],
             [
              0.6666666666666666,
              "#ed7953"
             ],
             [
              0.7777777777777778,
              "#fb9f3a"
             ],
             [
              0.8888888888888888,
              "#fdca26"
             ],
             [
              1,
              "#f0f921"
             ]
            ],
            "type": "heatmapgl"
           }
          ],
          "histogram": [
           {
            "marker": {
             "pattern": {
              "fillmode": "overlay",
              "size": 10,
              "solidity": 0.2
             }
            },
            "type": "histogram"
           }
          ],
          "histogram2d": [
           {
            "colorbar": {
             "outlinewidth": 0,
             "ticks": ""
            },
            "colorscale": [
             [
              0,
              "#0d0887"
             ],
             [
              0.1111111111111111,
              "#46039f"
             ],
             [
              0.2222222222222222,
              "#7201a8"
             ],
             [
              0.3333333333333333,
              "#9c179e"
             ],
             [
              0.4444444444444444,
              "#bd3786"
             ],
             [
              0.5555555555555556,
              "#d8576b"
             ],
             [
              0.6666666666666666,
              "#ed7953"
             ],
             [
              0.7777777777777778,
              "#fb9f3a"
             ],
             [
              0.8888888888888888,
              "#fdca26"
             ],
             [
              1,
              "#f0f921"
             ]
            ],
            "type": "histogram2d"
           }
          ],
          "histogram2dcontour": [
           {
            "colorbar": {
             "outlinewidth": 0,
             "ticks": ""
            },
            "colorscale": [
             [
              0,
              "#0d0887"
             ],
             [
              0.1111111111111111,
              "#46039f"
             ],
             [
              0.2222222222222222,
              "#7201a8"
             ],
             [
              0.3333333333333333,
              "#9c179e"
             ],
             [
              0.4444444444444444,
              "#bd3786"
             ],
             [
              0.5555555555555556,
              "#d8576b"
             ],
             [
              0.6666666666666666,
              "#ed7953"
             ],
             [
              0.7777777777777778,
              "#fb9f3a"
             ],
             [
              0.8888888888888888,
              "#fdca26"
             ],
             [
              1,
              "#f0f921"
             ]
            ],
            "type": "histogram2dcontour"
           }
          ],
          "mesh3d": [
           {
            "colorbar": {
             "outlinewidth": 0,
             "ticks": ""
            },
            "type": "mesh3d"
           }
          ],
          "parcoords": [
           {
            "line": {
             "colorbar": {
              "outlinewidth": 0,
              "ticks": ""
             }
            },
            "type": "parcoords"
           }
          ],
          "pie": [
           {
            "automargin": true,
            "type": "pie"
           }
          ],
          "scatter": [
           {
            "fillpattern": {
             "fillmode": "overlay",
             "size": 10,
             "solidity": 0.2
            },
            "type": "scatter"
           }
          ],
          "scatter3d": [
           {
            "line": {
             "colorbar": {
              "outlinewidth": 0,
              "ticks": ""
             }
            },
            "marker": {
             "colorbar": {
              "outlinewidth": 0,
              "ticks": ""
             }
            },
            "type": "scatter3d"
           }
          ],
          "scattercarpet": [
           {
            "marker": {
             "colorbar": {
              "outlinewidth": 0,
              "ticks": ""
             }
            },
            "type": "scattercarpet"
           }
          ],
          "scattergeo": [
           {
            "marker": {
             "colorbar": {
              "outlinewidth": 0,
              "ticks": ""
             }
            },
            "type": "scattergeo"
           }
          ],
          "scattergl": [
           {
            "marker": {
             "colorbar": {
              "outlinewidth": 0,
              "ticks": ""
             }
            },
            "type": "scattergl"
           }
          ],
          "scattermapbox": [
           {
            "marker": {
             "colorbar": {
              "outlinewidth": 0,
              "ticks": ""
             }
            },
            "type": "scattermapbox"
           }
          ],
          "scatterpolar": [
           {
            "marker": {
             "colorbar": {
              "outlinewidth": 0,
              "ticks": ""
             }
            },
            "type": "scatterpolar"
           }
          ],
          "scatterpolargl": [
           {
            "marker": {
             "colorbar": {
              "outlinewidth": 0,
              "ticks": ""
             }
            },
            "type": "scatterpolargl"
           }
          ],
          "scatterternary": [
           {
            "marker": {
             "colorbar": {
              "outlinewidth": 0,
              "ticks": ""
             }
            },
            "type": "scatterternary"
           }
          ],
          "surface": [
           {
            "colorbar": {
             "outlinewidth": 0,
             "ticks": ""
            },
            "colorscale": [
             [
              0,
              "#0d0887"
             ],
             [
              0.1111111111111111,
              "#46039f"
             ],
             [
              0.2222222222222222,
              "#7201a8"
             ],
             [
              0.3333333333333333,
              "#9c179e"
             ],
             [
              0.4444444444444444,
              "#bd3786"
             ],
             [
              0.5555555555555556,
              "#d8576b"
             ],
             [
              0.6666666666666666,
              "#ed7953"
             ],
             [
              0.7777777777777778,
              "#fb9f3a"
             ],
             [
              0.8888888888888888,
              "#fdca26"
             ],
             [
              1,
              "#f0f921"
             ]
            ],
            "type": "surface"
           }
          ],
          "table": [
           {
            "cells": {
             "fill": {
              "color": "#EBF0F8"
             },
             "line": {
              "color": "white"
             }
            },
            "header": {
             "fill": {
              "color": "#C8D4E3"
             },
             "line": {
              "color": "white"
             }
            },
            "type": "table"
           }
          ]
         },
         "layout": {
          "annotationdefaults": {
           "arrowcolor": "#2a3f5f",
           "arrowhead": 0,
           "arrowwidth": 1
          },
          "autotypenumbers": "strict",
          "coloraxis": {
           "colorbar": {
            "outlinewidth": 0,
            "ticks": ""
           }
          },
          "colorscale": {
           "diverging": [
            [
             0,
             "#8e0152"
            ],
            [
             0.1,
             "#c51b7d"
            ],
            [
             0.2,
             "#de77ae"
            ],
            [
             0.3,
             "#f1b6da"
            ],
            [
             0.4,
             "#fde0ef"
            ],
            [
             0.5,
             "#f7f7f7"
            ],
            [
             0.6,
             "#e6f5d0"
            ],
            [
             0.7,
             "#b8e186"
            ],
            [
             0.8,
             "#7fbc41"
            ],
            [
             0.9,
             "#4d9221"
            ],
            [
             1,
             "#276419"
            ]
           ],
           "sequential": [
            [
             0,
             "#0d0887"
            ],
            [
             0.1111111111111111,
             "#46039f"
            ],
            [
             0.2222222222222222,
             "#7201a8"
            ],
            [
             0.3333333333333333,
             "#9c179e"
            ],
            [
             0.4444444444444444,
             "#bd3786"
            ],
            [
             0.5555555555555556,
             "#d8576b"
            ],
            [
             0.6666666666666666,
             "#ed7953"
            ],
            [
             0.7777777777777778,
             "#fb9f3a"
            ],
            [
             0.8888888888888888,
             "#fdca26"
            ],
            [
             1,
             "#f0f921"
            ]
           ],
           "sequentialminus": [
            [
             0,
             "#0d0887"
            ],
            [
             0.1111111111111111,
             "#46039f"
            ],
            [
             0.2222222222222222,
             "#7201a8"
            ],
            [
             0.3333333333333333,
             "#9c179e"
            ],
            [
             0.4444444444444444,
             "#bd3786"
            ],
            [
             0.5555555555555556,
             "#d8576b"
            ],
            [
             0.6666666666666666,
             "#ed7953"
            ],
            [
             0.7777777777777778,
             "#fb9f3a"
            ],
            [
             0.8888888888888888,
             "#fdca26"
            ],
            [
             1,
             "#f0f921"
            ]
           ]
          },
          "colorway": [
           "#636efa",
           "#EF553B",
           "#00cc96",
           "#ab63fa",
           "#FFA15A",
           "#19d3f3",
           "#FF6692",
           "#B6E880",
           "#FF97FF",
           "#FECB52"
          ],
          "font": {
           "color": "#2a3f5f"
          },
          "geo": {
           "bgcolor": "white",
           "lakecolor": "white",
           "landcolor": "#E5ECF6",
           "showlakes": true,
           "showland": true,
           "subunitcolor": "white"
          },
          "hoverlabel": {
           "align": "left"
          },
          "hovermode": "closest",
          "mapbox": {
           "style": "light"
          },
          "paper_bgcolor": "white",
          "plot_bgcolor": "#E5ECF6",
          "polar": {
           "angularaxis": {
            "gridcolor": "white",
            "linecolor": "white",
            "ticks": ""
           },
           "bgcolor": "#E5ECF6",
           "radialaxis": {
            "gridcolor": "white",
            "linecolor": "white",
            "ticks": ""
           }
          },
          "scene": {
           "xaxis": {
            "backgroundcolor": "#E5ECF6",
            "gridcolor": "white",
            "gridwidth": 2,
            "linecolor": "white",
            "showbackground": true,
            "ticks": "",
            "zerolinecolor": "white"
           },
           "yaxis": {
            "backgroundcolor": "#E5ECF6",
            "gridcolor": "white",
            "gridwidth": 2,
            "linecolor": "white",
            "showbackground": true,
            "ticks": "",
            "zerolinecolor": "white"
           },
           "zaxis": {
            "backgroundcolor": "#E5ECF6",
            "gridcolor": "white",
            "gridwidth": 2,
            "linecolor": "white",
            "showbackground": true,
            "ticks": "",
            "zerolinecolor": "white"
           }
          },
          "shapedefaults": {
           "line": {
            "color": "#2a3f5f"
           }
          },
          "ternary": {
           "aaxis": {
            "gridcolor": "white",
            "linecolor": "white",
            "ticks": ""
           },
           "baxis": {
            "gridcolor": "white",
            "linecolor": "white",
            "ticks": ""
           },
           "bgcolor": "#E5ECF6",
           "caxis": {
            "gridcolor": "white",
            "linecolor": "white",
            "ticks": ""
           }
          },
          "title": {
           "x": 0.05
          },
          "xaxis": {
           "automargin": true,
           "gridcolor": "white",
           "linecolor": "white",
           "ticks": "",
           "title": {
            "standoff": 15
           },
           "zerolinecolor": "white",
           "zerolinewidth": 2
          },
          "yaxis": {
           "automargin": true,
           "gridcolor": "white",
           "linecolor": "white",
           "ticks": "",
           "title": {
            "standoff": 15
           },
           "zerolinecolor": "white",
           "zerolinewidth": 2
          }
         }
        },
        "title": {
         "text": "XGB Predictions"
        },
        "width": 800,
        "xaxis": {
         "dtick": 1,
         "gridcolor": "rgb(0, 0, 0)",
         "side": "top",
         "ticks": "",
         "title": {
          "text": "Predicted Subreddit"
         }
        },
        "yaxis": {
         "autorange": "reversed",
         "dtick": 1,
         "ticks": "",
         "ticksuffix": "  ",
         "title": {
          "text": "True Subreddit"
         }
        }
       }
      }
     },
     "metadata": {},
     "output_type": "display_data"
    }
   ],
   "source": [
    "#XGB\n",
    "predicted_subreddit_names = label_encoder.inverse_transform(results)\n",
    "true_subreddit_names = label_encoder.inverse_transform(y_test)\n",
    "\n",
    "# Compute the confusion matrix\n",
    "conf_matrix = confusion_matrix(true_subreddit_names, predicted_subreddit_names)\n",
    "\n",
    "# Get unique class names in the right order\n",
    "sorted_unique_names = np.unique(np.concatenate((true_subreddit_names, predicted_subreddit_names)))\n",
    "\n",
    "# Create the heatmap\n",
    "fig = ff.create_annotated_heatmap(\n",
    "    z=conf_matrix,\n",
    "    x=sorted_unique_names.tolist(),  \n",
    "    y=sorted_unique_names.tolist(),  \n",
    "    colorscale='Viridis',\n",
    "    annotation_text=np.around(conf_matrix.astype(float) / conf_matrix.sum(axis=1)[:, np.newaxis], decimals=2).astype(str),\n",
    "    hoverinfo=\"z\",\n",
    "    showscale=True\n",
    ")\n",
    "\n",
    "# Update the layout\n",
    "fig.update_layout(\n",
    "    title='XGB Predictions',\n",
    "    xaxis=dict(title='Predicted Subreddit'),\n",
    "    yaxis=dict(title='True Subreddit', autorange='reversed'),\n",
    "    width=800,  \n",
    "    height=800,\n",
    ")\n",
    "\n",
    "# Show the figure\n",
    "fig.show()"
   ]
  },
  {
   "cell_type": "markdown",
   "metadata": {},
   "source": [
    "The linear svc was choose due to it simplicity fronm there we tune with two techiques the costly yet powerful grid search and Bayesian optimization. Bayesian learns statistically which combinations did better"
   ]
  },
  {
   "cell_type": "code",
   "execution_count": 35,
   "metadata": {},
   "outputs": [
    {
     "data": {
      "application/vnd.plotly.v1+json": {
       "config": {
        "plotlyServerURL": "https://plot.ly"
       },
       "data": [
        {
         "colorscale": [
          [
           0,
           "#440154"
          ],
          [
           0.1111111111111111,
           "#482878"
          ],
          [
           0.2222222222222222,
           "#3e4989"
          ],
          [
           0.3333333333333333,
           "#31688e"
          ],
          [
           0.4444444444444444,
           "#26828e"
          ],
          [
           0.5555555555555556,
           "#1f9e89"
          ],
          [
           0.6666666666666666,
           "#35b779"
          ],
          [
           0.7777777777777778,
           "#6ece58"
          ],
          [
           0.8888888888888888,
           "#b5de2b"
          ],
          [
           1,
           "#fde725"
          ]
         ],
         "hoverinfo": "z",
         "reversescale": false,
         "showscale": true,
         "type": "heatmap",
         "x": [
          "AskHR",
          "FinancialCareers",
          "ITCareerQuestions",
          "LegalAdviceOffTopic",
          "careeradvice",
          "careerguidance",
          "cscareerquestions",
          "jobs",
          "resumes",
          "sales",
          "teachers"
         ],
         "y": [
          "AskHR",
          "FinancialCareers",
          "ITCareerQuestions",
          "LegalAdviceOffTopic",
          "careeradvice",
          "careerguidance",
          "cscareerquestions",
          "jobs",
          "resumes",
          "sales",
          "teachers"
         ],
         "z": [
          [
           66,
           3,
           1,
           7,
           3,
           3,
           2,
           5,
           4,
           2,
           1
          ],
          [
           4,
           129,
           6,
           2,
           5,
           1,
           1,
           4,
           5,
           4,
           2
          ],
          [
           7,
           0,
           102,
           3,
           8,
           2,
           20,
           9,
           9,
           7,
           0
          ],
          [
           3,
           1,
           0,
           158,
           1,
           2,
           0,
           3,
           0,
           4,
           1
          ],
          [
           28,
           11,
           12,
           5,
           55,
           26,
           17,
           23,
           7,
           14,
           3
          ],
          [
           12,
           6,
           15,
           3,
           42,
           30,
           5,
           17,
           5,
           12,
           5
          ],
          [
           3,
           6,
           7,
           3,
           3,
           4,
           52,
           13,
           5,
           5,
           0
          ],
          [
           22,
           3,
           3,
           6,
           13,
           12,
           7,
           45,
           10,
           4,
           2
          ],
          [
           2,
           1,
           4,
           1,
           0,
           1,
           1,
           5,
           115,
           2,
           0
          ],
          [
           1,
           1,
           3,
           3,
           1,
           2,
           0,
           2,
           0,
           58,
           1
          ],
          [
           2,
           1,
           2,
           10,
           0,
           0,
           0,
           0,
           0,
           1,
           162
          ]
         ]
        }
       ],
       "layout": {
        "annotations": [
         {
          "font": {
           "color": "#FFFFFF"
          },
          "showarrow": false,
          "text": "0.68",
          "x": "AskHR",
          "xref": "x",
          "y": "AskHR",
          "yref": "y"
         },
         {
          "font": {
           "color": "#FFFFFF"
          },
          "showarrow": false,
          "text": "0.03",
          "x": "FinancialCareers",
          "xref": "x",
          "y": "AskHR",
          "yref": "y"
         },
         {
          "font": {
           "color": "#FFFFFF"
          },
          "showarrow": false,
          "text": "0.01",
          "x": "ITCareerQuestions",
          "xref": "x",
          "y": "AskHR",
          "yref": "y"
         },
         {
          "font": {
           "color": "#FFFFFF"
          },
          "showarrow": false,
          "text": "0.07",
          "x": "LegalAdviceOffTopic",
          "xref": "x",
          "y": "AskHR",
          "yref": "y"
         },
         {
          "font": {
           "color": "#FFFFFF"
          },
          "showarrow": false,
          "text": "0.03",
          "x": "careeradvice",
          "xref": "x",
          "y": "AskHR",
          "yref": "y"
         },
         {
          "font": {
           "color": "#FFFFFF"
          },
          "showarrow": false,
          "text": "0.03",
          "x": "careerguidance",
          "xref": "x",
          "y": "AskHR",
          "yref": "y"
         },
         {
          "font": {
           "color": "#FFFFFF"
          },
          "showarrow": false,
          "text": "0.02",
          "x": "cscareerquestions",
          "xref": "x",
          "y": "AskHR",
          "yref": "y"
         },
         {
          "font": {
           "color": "#FFFFFF"
          },
          "showarrow": false,
          "text": "0.05",
          "x": "jobs",
          "xref": "x",
          "y": "AskHR",
          "yref": "y"
         },
         {
          "font": {
           "color": "#FFFFFF"
          },
          "showarrow": false,
          "text": "0.04",
          "x": "resumes",
          "xref": "x",
          "y": "AskHR",
          "yref": "y"
         },
         {
          "font": {
           "color": "#FFFFFF"
          },
          "showarrow": false,
          "text": "0.02",
          "x": "sales",
          "xref": "x",
          "y": "AskHR",
          "yref": "y"
         },
         {
          "font": {
           "color": "#FFFFFF"
          },
          "showarrow": false,
          "text": "0.01",
          "x": "teachers",
          "xref": "x",
          "y": "AskHR",
          "yref": "y"
         },
         {
          "font": {
           "color": "#FFFFFF"
          },
          "showarrow": false,
          "text": "0.02",
          "x": "AskHR",
          "xref": "x",
          "y": "FinancialCareers",
          "yref": "y"
         },
         {
          "font": {
           "color": "#000000"
          },
          "showarrow": false,
          "text": "0.79",
          "x": "FinancialCareers",
          "xref": "x",
          "y": "FinancialCareers",
          "yref": "y"
         },
         {
          "font": {
           "color": "#FFFFFF"
          },
          "showarrow": false,
          "text": "0.04",
          "x": "ITCareerQuestions",
          "xref": "x",
          "y": "FinancialCareers",
          "yref": "y"
         },
         {
          "font": {
           "color": "#FFFFFF"
          },
          "showarrow": false,
          "text": "0.01",
          "x": "LegalAdviceOffTopic",
          "xref": "x",
          "y": "FinancialCareers",
          "yref": "y"
         },
         {
          "font": {
           "color": "#FFFFFF"
          },
          "showarrow": false,
          "text": "0.03",
          "x": "careeradvice",
          "xref": "x",
          "y": "FinancialCareers",
          "yref": "y"
         },
         {
          "font": {
           "color": "#FFFFFF"
          },
          "showarrow": false,
          "text": "0.01",
          "x": "careerguidance",
          "xref": "x",
          "y": "FinancialCareers",
          "yref": "y"
         },
         {
          "font": {
           "color": "#FFFFFF"
          },
          "showarrow": false,
          "text": "0.01",
          "x": "cscareerquestions",
          "xref": "x",
          "y": "FinancialCareers",
          "yref": "y"
         },
         {
          "font": {
           "color": "#FFFFFF"
          },
          "showarrow": false,
          "text": "0.02",
          "x": "jobs",
          "xref": "x",
          "y": "FinancialCareers",
          "yref": "y"
         },
         {
          "font": {
           "color": "#FFFFFF"
          },
          "showarrow": false,
          "text": "0.03",
          "x": "resumes",
          "xref": "x",
          "y": "FinancialCareers",
          "yref": "y"
         },
         {
          "font": {
           "color": "#FFFFFF"
          },
          "showarrow": false,
          "text": "0.02",
          "x": "sales",
          "xref": "x",
          "y": "FinancialCareers",
          "yref": "y"
         },
         {
          "font": {
           "color": "#FFFFFF"
          },
          "showarrow": false,
          "text": "0.01",
          "x": "teachers",
          "xref": "x",
          "y": "FinancialCareers",
          "yref": "y"
         },
         {
          "font": {
           "color": "#FFFFFF"
          },
          "showarrow": false,
          "text": "0.04",
          "x": "AskHR",
          "xref": "x",
          "y": "ITCareerQuestions",
          "yref": "y"
         },
         {
          "font": {
           "color": "#FFFFFF"
          },
          "showarrow": false,
          "text": "0.0",
          "x": "FinancialCareers",
          "xref": "x",
          "y": "ITCareerQuestions",
          "yref": "y"
         },
         {
          "font": {
           "color": "#000000"
          },
          "showarrow": false,
          "text": "0.61",
          "x": "ITCareerQuestions",
          "xref": "x",
          "y": "ITCareerQuestions",
          "yref": "y"
         },
         {
          "font": {
           "color": "#FFFFFF"
          },
          "showarrow": false,
          "text": "0.02",
          "x": "LegalAdviceOffTopic",
          "xref": "x",
          "y": "ITCareerQuestions",
          "yref": "y"
         },
         {
          "font": {
           "color": "#FFFFFF"
          },
          "showarrow": false,
          "text": "0.05",
          "x": "careeradvice",
          "xref": "x",
          "y": "ITCareerQuestions",
          "yref": "y"
         },
         {
          "font": {
           "color": "#FFFFFF"
          },
          "showarrow": false,
          "text": "0.01",
          "x": "careerguidance",
          "xref": "x",
          "y": "ITCareerQuestions",
          "yref": "y"
         },
         {
          "font": {
           "color": "#FFFFFF"
          },
          "showarrow": false,
          "text": "0.12",
          "x": "cscareerquestions",
          "xref": "x",
          "y": "ITCareerQuestions",
          "yref": "y"
         },
         {
          "font": {
           "color": "#FFFFFF"
          },
          "showarrow": false,
          "text": "0.05",
          "x": "jobs",
          "xref": "x",
          "y": "ITCareerQuestions",
          "yref": "y"
         },
         {
          "font": {
           "color": "#FFFFFF"
          },
          "showarrow": false,
          "text": "0.05",
          "x": "resumes",
          "xref": "x",
          "y": "ITCareerQuestions",
          "yref": "y"
         },
         {
          "font": {
           "color": "#FFFFFF"
          },
          "showarrow": false,
          "text": "0.04",
          "x": "sales",
          "xref": "x",
          "y": "ITCareerQuestions",
          "yref": "y"
         },
         {
          "font": {
           "color": "#FFFFFF"
          },
          "showarrow": false,
          "text": "0.0",
          "x": "teachers",
          "xref": "x",
          "y": "ITCareerQuestions",
          "yref": "y"
         },
         {
          "font": {
           "color": "#FFFFFF"
          },
          "showarrow": false,
          "text": "0.02",
          "x": "AskHR",
          "xref": "x",
          "y": "LegalAdviceOffTopic",
          "yref": "y"
         },
         {
          "font": {
           "color": "#FFFFFF"
          },
          "showarrow": false,
          "text": "0.01",
          "x": "FinancialCareers",
          "xref": "x",
          "y": "LegalAdviceOffTopic",
          "yref": "y"
         },
         {
          "font": {
           "color": "#FFFFFF"
          },
          "showarrow": false,
          "text": "0.0",
          "x": "ITCareerQuestions",
          "xref": "x",
          "y": "LegalAdviceOffTopic",
          "yref": "y"
         },
         {
          "font": {
           "color": "#000000"
          },
          "showarrow": false,
          "text": "0.91",
          "x": "LegalAdviceOffTopic",
          "xref": "x",
          "y": "LegalAdviceOffTopic",
          "yref": "y"
         },
         {
          "font": {
           "color": "#FFFFFF"
          },
          "showarrow": false,
          "text": "0.01",
          "x": "careeradvice",
          "xref": "x",
          "y": "LegalAdviceOffTopic",
          "yref": "y"
         },
         {
          "font": {
           "color": "#FFFFFF"
          },
          "showarrow": false,
          "text": "0.01",
          "x": "careerguidance",
          "xref": "x",
          "y": "LegalAdviceOffTopic",
          "yref": "y"
         },
         {
          "font": {
           "color": "#FFFFFF"
          },
          "showarrow": false,
          "text": "0.0",
          "x": "cscareerquestions",
          "xref": "x",
          "y": "LegalAdviceOffTopic",
          "yref": "y"
         },
         {
          "font": {
           "color": "#FFFFFF"
          },
          "showarrow": false,
          "text": "0.02",
          "x": "jobs",
          "xref": "x",
          "y": "LegalAdviceOffTopic",
          "yref": "y"
         },
         {
          "font": {
           "color": "#FFFFFF"
          },
          "showarrow": false,
          "text": "0.0",
          "x": "resumes",
          "xref": "x",
          "y": "LegalAdviceOffTopic",
          "yref": "y"
         },
         {
          "font": {
           "color": "#FFFFFF"
          },
          "showarrow": false,
          "text": "0.02",
          "x": "sales",
          "xref": "x",
          "y": "LegalAdviceOffTopic",
          "yref": "y"
         },
         {
          "font": {
           "color": "#FFFFFF"
          },
          "showarrow": false,
          "text": "0.01",
          "x": "teachers",
          "xref": "x",
          "y": "LegalAdviceOffTopic",
          "yref": "y"
         },
         {
          "font": {
           "color": "#FFFFFF"
          },
          "showarrow": false,
          "text": "0.14",
          "x": "AskHR",
          "xref": "x",
          "y": "careeradvice",
          "yref": "y"
         },
         {
          "font": {
           "color": "#FFFFFF"
          },
          "showarrow": false,
          "text": "0.05",
          "x": "FinancialCareers",
          "xref": "x",
          "y": "careeradvice",
          "yref": "y"
         },
         {
          "font": {
           "color": "#FFFFFF"
          },
          "showarrow": false,
          "text": "0.06",
          "x": "ITCareerQuestions",
          "xref": "x",
          "y": "careeradvice",
          "yref": "y"
         },
         {
          "font": {
           "color": "#FFFFFF"
          },
          "showarrow": false,
          "text": "0.02",
          "x": "LegalAdviceOffTopic",
          "xref": "x",
          "y": "careeradvice",
          "yref": "y"
         },
         {
          "font": {
           "color": "#FFFFFF"
          },
          "showarrow": false,
          "text": "0.27",
          "x": "careeradvice",
          "xref": "x",
          "y": "careeradvice",
          "yref": "y"
         },
         {
          "font": {
           "color": "#FFFFFF"
          },
          "showarrow": false,
          "text": "0.13",
          "x": "careerguidance",
          "xref": "x",
          "y": "careeradvice",
          "yref": "y"
         },
         {
          "font": {
           "color": "#FFFFFF"
          },
          "showarrow": false,
          "text": "0.08",
          "x": "cscareerquestions",
          "xref": "x",
          "y": "careeradvice",
          "yref": "y"
         },
         {
          "font": {
           "color": "#FFFFFF"
          },
          "showarrow": false,
          "text": "0.11",
          "x": "jobs",
          "xref": "x",
          "y": "careeradvice",
          "yref": "y"
         },
         {
          "font": {
           "color": "#FFFFFF"
          },
          "showarrow": false,
          "text": "0.03",
          "x": "resumes",
          "xref": "x",
          "y": "careeradvice",
          "yref": "y"
         },
         {
          "font": {
           "color": "#FFFFFF"
          },
          "showarrow": false,
          "text": "0.07",
          "x": "sales",
          "xref": "x",
          "y": "careeradvice",
          "yref": "y"
         },
         {
          "font": {
           "color": "#FFFFFF"
          },
          "showarrow": false,
          "text": "0.01",
          "x": "teachers",
          "xref": "x",
          "y": "careeradvice",
          "yref": "y"
         },
         {
          "font": {
           "color": "#FFFFFF"
          },
          "showarrow": false,
          "text": "0.08",
          "x": "AskHR",
          "xref": "x",
          "y": "careerguidance",
          "yref": "y"
         },
         {
          "font": {
           "color": "#FFFFFF"
          },
          "showarrow": false,
          "text": "0.04",
          "x": "FinancialCareers",
          "xref": "x",
          "y": "careerguidance",
          "yref": "y"
         },
         {
          "font": {
           "color": "#FFFFFF"
          },
          "showarrow": false,
          "text": "0.1",
          "x": "ITCareerQuestions",
          "xref": "x",
          "y": "careerguidance",
          "yref": "y"
         },
         {
          "font": {
           "color": "#FFFFFF"
          },
          "showarrow": false,
          "text": "0.02",
          "x": "LegalAdviceOffTopic",
          "xref": "x",
          "y": "careerguidance",
          "yref": "y"
         },
         {
          "font": {
           "color": "#FFFFFF"
          },
          "showarrow": false,
          "text": "0.28",
          "x": "careeradvice",
          "xref": "x",
          "y": "careerguidance",
          "yref": "y"
         },
         {
          "font": {
           "color": "#FFFFFF"
          },
          "showarrow": false,
          "text": "0.2",
          "x": "careerguidance",
          "xref": "x",
          "y": "careerguidance",
          "yref": "y"
         },
         {
          "font": {
           "color": "#FFFFFF"
          },
          "showarrow": false,
          "text": "0.03",
          "x": "cscareerquestions",
          "xref": "x",
          "y": "careerguidance",
          "yref": "y"
         },
         {
          "font": {
           "color": "#FFFFFF"
          },
          "showarrow": false,
          "text": "0.11",
          "x": "jobs",
          "xref": "x",
          "y": "careerguidance",
          "yref": "y"
         },
         {
          "font": {
           "color": "#FFFFFF"
          },
          "showarrow": false,
          "text": "0.03",
          "x": "resumes",
          "xref": "x",
          "y": "careerguidance",
          "yref": "y"
         },
         {
          "font": {
           "color": "#FFFFFF"
          },
          "showarrow": false,
          "text": "0.08",
          "x": "sales",
          "xref": "x",
          "y": "careerguidance",
          "yref": "y"
         },
         {
          "font": {
           "color": "#FFFFFF"
          },
          "showarrow": false,
          "text": "0.03",
          "x": "teachers",
          "xref": "x",
          "y": "careerguidance",
          "yref": "y"
         },
         {
          "font": {
           "color": "#FFFFFF"
          },
          "showarrow": false,
          "text": "0.03",
          "x": "AskHR",
          "xref": "x",
          "y": "cscareerquestions",
          "yref": "y"
         },
         {
          "font": {
           "color": "#FFFFFF"
          },
          "showarrow": false,
          "text": "0.06",
          "x": "FinancialCareers",
          "xref": "x",
          "y": "cscareerquestions",
          "yref": "y"
         },
         {
          "font": {
           "color": "#FFFFFF"
          },
          "showarrow": false,
          "text": "0.07",
          "x": "ITCareerQuestions",
          "xref": "x",
          "y": "cscareerquestions",
          "yref": "y"
         },
         {
          "font": {
           "color": "#FFFFFF"
          },
          "showarrow": false,
          "text": "0.03",
          "x": "LegalAdviceOffTopic",
          "xref": "x",
          "y": "cscareerquestions",
          "yref": "y"
         },
         {
          "font": {
           "color": "#FFFFFF"
          },
          "showarrow": false,
          "text": "0.03",
          "x": "careeradvice",
          "xref": "x",
          "y": "cscareerquestions",
          "yref": "y"
         },
         {
          "font": {
           "color": "#FFFFFF"
          },
          "showarrow": false,
          "text": "0.04",
          "x": "careerguidance",
          "xref": "x",
          "y": "cscareerquestions",
          "yref": "y"
         },
         {
          "font": {
           "color": "#FFFFFF"
          },
          "showarrow": false,
          "text": "0.51",
          "x": "cscareerquestions",
          "xref": "x",
          "y": "cscareerquestions",
          "yref": "y"
         },
         {
          "font": {
           "color": "#FFFFFF"
          },
          "showarrow": false,
          "text": "0.13",
          "x": "jobs",
          "xref": "x",
          "y": "cscareerquestions",
          "yref": "y"
         },
         {
          "font": {
           "color": "#FFFFFF"
          },
          "showarrow": false,
          "text": "0.05",
          "x": "resumes",
          "xref": "x",
          "y": "cscareerquestions",
          "yref": "y"
         },
         {
          "font": {
           "color": "#FFFFFF"
          },
          "showarrow": false,
          "text": "0.05",
          "x": "sales",
          "xref": "x",
          "y": "cscareerquestions",
          "yref": "y"
         },
         {
          "font": {
           "color": "#FFFFFF"
          },
          "showarrow": false,
          "text": "0.0",
          "x": "teachers",
          "xref": "x",
          "y": "cscareerquestions",
          "yref": "y"
         },
         {
          "font": {
           "color": "#FFFFFF"
          },
          "showarrow": false,
          "text": "0.17",
          "x": "AskHR",
          "xref": "x",
          "y": "jobs",
          "yref": "y"
         },
         {
          "font": {
           "color": "#FFFFFF"
          },
          "showarrow": false,
          "text": "0.02",
          "x": "FinancialCareers",
          "xref": "x",
          "y": "jobs",
          "yref": "y"
         },
         {
          "font": {
           "color": "#FFFFFF"
          },
          "showarrow": false,
          "text": "0.02",
          "x": "ITCareerQuestions",
          "xref": "x",
          "y": "jobs",
          "yref": "y"
         },
         {
          "font": {
           "color": "#FFFFFF"
          },
          "showarrow": false,
          "text": "0.05",
          "x": "LegalAdviceOffTopic",
          "xref": "x",
          "y": "jobs",
          "yref": "y"
         },
         {
          "font": {
           "color": "#FFFFFF"
          },
          "showarrow": false,
          "text": "0.1",
          "x": "careeradvice",
          "xref": "x",
          "y": "jobs",
          "yref": "y"
         },
         {
          "font": {
           "color": "#FFFFFF"
          },
          "showarrow": false,
          "text": "0.09",
          "x": "careerguidance",
          "xref": "x",
          "y": "jobs",
          "yref": "y"
         },
         {
          "font": {
           "color": "#FFFFFF"
          },
          "showarrow": false,
          "text": "0.06",
          "x": "cscareerquestions",
          "xref": "x",
          "y": "jobs",
          "yref": "y"
         },
         {
          "font": {
           "color": "#FFFFFF"
          },
          "showarrow": false,
          "text": "0.35",
          "x": "jobs",
          "xref": "x",
          "y": "jobs",
          "yref": "y"
         },
         {
          "font": {
           "color": "#FFFFFF"
          },
          "showarrow": false,
          "text": "0.08",
          "x": "resumes",
          "xref": "x",
          "y": "jobs",
          "yref": "y"
         },
         {
          "font": {
           "color": "#FFFFFF"
          },
          "showarrow": false,
          "text": "0.03",
          "x": "sales",
          "xref": "x",
          "y": "jobs",
          "yref": "y"
         },
         {
          "font": {
           "color": "#FFFFFF"
          },
          "showarrow": false,
          "text": "0.02",
          "x": "teachers",
          "xref": "x",
          "y": "jobs",
          "yref": "y"
         },
         {
          "font": {
           "color": "#FFFFFF"
          },
          "showarrow": false,
          "text": "0.02",
          "x": "AskHR",
          "xref": "x",
          "y": "resumes",
          "yref": "y"
         },
         {
          "font": {
           "color": "#FFFFFF"
          },
          "showarrow": false,
          "text": "0.01",
          "x": "FinancialCareers",
          "xref": "x",
          "y": "resumes",
          "yref": "y"
         },
         {
          "font": {
           "color": "#FFFFFF"
          },
          "showarrow": false,
          "text": "0.03",
          "x": "ITCareerQuestions",
          "xref": "x",
          "y": "resumes",
          "yref": "y"
         },
         {
          "font": {
           "color": "#FFFFFF"
          },
          "showarrow": false,
          "text": "0.01",
          "x": "LegalAdviceOffTopic",
          "xref": "x",
          "y": "resumes",
          "yref": "y"
         },
         {
          "font": {
           "color": "#FFFFFF"
          },
          "showarrow": false,
          "text": "0.0",
          "x": "careeradvice",
          "xref": "x",
          "y": "resumes",
          "yref": "y"
         },
         {
          "font": {
           "color": "#FFFFFF"
          },
          "showarrow": false,
          "text": "0.01",
          "x": "careerguidance",
          "xref": "x",
          "y": "resumes",
          "yref": "y"
         },
         {
          "font": {
           "color": "#FFFFFF"
          },
          "showarrow": false,
          "text": "0.01",
          "x": "cscareerquestions",
          "xref": "x",
          "y": "resumes",
          "yref": "y"
         },
         {
          "font": {
           "color": "#FFFFFF"
          },
          "showarrow": false,
          "text": "0.04",
          "x": "jobs",
          "xref": "x",
          "y": "resumes",
          "yref": "y"
         },
         {
          "font": {
           "color": "#000000"
          },
          "showarrow": false,
          "text": "0.87",
          "x": "resumes",
          "xref": "x",
          "y": "resumes",
          "yref": "y"
         },
         {
          "font": {
           "color": "#FFFFFF"
          },
          "showarrow": false,
          "text": "0.02",
          "x": "sales",
          "xref": "x",
          "y": "resumes",
          "yref": "y"
         },
         {
          "font": {
           "color": "#FFFFFF"
          },
          "showarrow": false,
          "text": "0.0",
          "x": "teachers",
          "xref": "x",
          "y": "resumes",
          "yref": "y"
         },
         {
          "font": {
           "color": "#FFFFFF"
          },
          "showarrow": false,
          "text": "0.01",
          "x": "AskHR",
          "xref": "x",
          "y": "sales",
          "yref": "y"
         },
         {
          "font": {
           "color": "#FFFFFF"
          },
          "showarrow": false,
          "text": "0.01",
          "x": "FinancialCareers",
          "xref": "x",
          "y": "sales",
          "yref": "y"
         },
         {
          "font": {
           "color": "#FFFFFF"
          },
          "showarrow": false,
          "text": "0.04",
          "x": "ITCareerQuestions",
          "xref": "x",
          "y": "sales",
          "yref": "y"
         },
         {
          "font": {
           "color": "#FFFFFF"
          },
          "showarrow": false,
          "text": "0.04",
          "x": "LegalAdviceOffTopic",
          "xref": "x",
          "y": "sales",
          "yref": "y"
         },
         {
          "font": {
           "color": "#FFFFFF"
          },
          "showarrow": false,
          "text": "0.01",
          "x": "careeradvice",
          "xref": "x",
          "y": "sales",
          "yref": "y"
         },
         {
          "font": {
           "color": "#FFFFFF"
          },
          "showarrow": false,
          "text": "0.03",
          "x": "careerguidance",
          "xref": "x",
          "y": "sales",
          "yref": "y"
         },
         {
          "font": {
           "color": "#FFFFFF"
          },
          "showarrow": false,
          "text": "0.0",
          "x": "cscareerquestions",
          "xref": "x",
          "y": "sales",
          "yref": "y"
         },
         {
          "font": {
           "color": "#FFFFFF"
          },
          "showarrow": false,
          "text": "0.03",
          "x": "jobs",
          "xref": "x",
          "y": "sales",
          "yref": "y"
         },
         {
          "font": {
           "color": "#FFFFFF"
          },
          "showarrow": false,
          "text": "0.0",
          "x": "resumes",
          "xref": "x",
          "y": "sales",
          "yref": "y"
         },
         {
          "font": {
           "color": "#FFFFFF"
          },
          "showarrow": false,
          "text": "0.81",
          "x": "sales",
          "xref": "x",
          "y": "sales",
          "yref": "y"
         },
         {
          "font": {
           "color": "#FFFFFF"
          },
          "showarrow": false,
          "text": "0.01",
          "x": "teachers",
          "xref": "x",
          "y": "sales",
          "yref": "y"
         },
         {
          "font": {
           "color": "#FFFFFF"
          },
          "showarrow": false,
          "text": "0.01",
          "x": "AskHR",
          "xref": "x",
          "y": "teachers",
          "yref": "y"
         },
         {
          "font": {
           "color": "#FFFFFF"
          },
          "showarrow": false,
          "text": "0.01",
          "x": "FinancialCareers",
          "xref": "x",
          "y": "teachers",
          "yref": "y"
         },
         {
          "font": {
           "color": "#FFFFFF"
          },
          "showarrow": false,
          "text": "0.01",
          "x": "ITCareerQuestions",
          "xref": "x",
          "y": "teachers",
          "yref": "y"
         },
         {
          "font": {
           "color": "#FFFFFF"
          },
          "showarrow": false,
          "text": "0.06",
          "x": "LegalAdviceOffTopic",
          "xref": "x",
          "y": "teachers",
          "yref": "y"
         },
         {
          "font": {
           "color": "#FFFFFF"
          },
          "showarrow": false,
          "text": "0.0",
          "x": "careeradvice",
          "xref": "x",
          "y": "teachers",
          "yref": "y"
         },
         {
          "font": {
           "color": "#FFFFFF"
          },
          "showarrow": false,
          "text": "0.0",
          "x": "careerguidance",
          "xref": "x",
          "y": "teachers",
          "yref": "y"
         },
         {
          "font": {
           "color": "#FFFFFF"
          },
          "showarrow": false,
          "text": "0.0",
          "x": "cscareerquestions",
          "xref": "x",
          "y": "teachers",
          "yref": "y"
         },
         {
          "font": {
           "color": "#FFFFFF"
          },
          "showarrow": false,
          "text": "0.0",
          "x": "jobs",
          "xref": "x",
          "y": "teachers",
          "yref": "y"
         },
         {
          "font": {
           "color": "#FFFFFF"
          },
          "showarrow": false,
          "text": "0.0",
          "x": "resumes",
          "xref": "x",
          "y": "teachers",
          "yref": "y"
         },
         {
          "font": {
           "color": "#FFFFFF"
          },
          "showarrow": false,
          "text": "0.01",
          "x": "sales",
          "xref": "x",
          "y": "teachers",
          "yref": "y"
         },
         {
          "font": {
           "color": "#000000"
          },
          "showarrow": false,
          "text": "0.91",
          "x": "teachers",
          "xref": "x",
          "y": "teachers",
          "yref": "y"
         }
        ],
        "template": {
         "data": {
          "bar": [
           {
            "error_x": {
             "color": "#2a3f5f"
            },
            "error_y": {
             "color": "#2a3f5f"
            },
            "marker": {
             "line": {
              "color": "#E5ECF6",
              "width": 0.5
             },
             "pattern": {
              "fillmode": "overlay",
              "size": 10,
              "solidity": 0.2
             }
            },
            "type": "bar"
           }
          ],
          "barpolar": [
           {
            "marker": {
             "line": {
              "color": "#E5ECF6",
              "width": 0.5
             },
             "pattern": {
              "fillmode": "overlay",
              "size": 10,
              "solidity": 0.2
             }
            },
            "type": "barpolar"
           }
          ],
          "carpet": [
           {
            "aaxis": {
             "endlinecolor": "#2a3f5f",
             "gridcolor": "white",
             "linecolor": "white",
             "minorgridcolor": "white",
             "startlinecolor": "#2a3f5f"
            },
            "baxis": {
             "endlinecolor": "#2a3f5f",
             "gridcolor": "white",
             "linecolor": "white",
             "minorgridcolor": "white",
             "startlinecolor": "#2a3f5f"
            },
            "type": "carpet"
           }
          ],
          "choropleth": [
           {
            "colorbar": {
             "outlinewidth": 0,
             "ticks": ""
            },
            "type": "choropleth"
           }
          ],
          "contour": [
           {
            "colorbar": {
             "outlinewidth": 0,
             "ticks": ""
            },
            "colorscale": [
             [
              0,
              "#0d0887"
             ],
             [
              0.1111111111111111,
              "#46039f"
             ],
             [
              0.2222222222222222,
              "#7201a8"
             ],
             [
              0.3333333333333333,
              "#9c179e"
             ],
             [
              0.4444444444444444,
              "#bd3786"
             ],
             [
              0.5555555555555556,
              "#d8576b"
             ],
             [
              0.6666666666666666,
              "#ed7953"
             ],
             [
              0.7777777777777778,
              "#fb9f3a"
             ],
             [
              0.8888888888888888,
              "#fdca26"
             ],
             [
              1,
              "#f0f921"
             ]
            ],
            "type": "contour"
           }
          ],
          "contourcarpet": [
           {
            "colorbar": {
             "outlinewidth": 0,
             "ticks": ""
            },
            "type": "contourcarpet"
           }
          ],
          "heatmap": [
           {
            "colorbar": {
             "outlinewidth": 0,
             "ticks": ""
            },
            "colorscale": [
             [
              0,
              "#0d0887"
             ],
             [
              0.1111111111111111,
              "#46039f"
             ],
             [
              0.2222222222222222,
              "#7201a8"
             ],
             [
              0.3333333333333333,
              "#9c179e"
             ],
             [
              0.4444444444444444,
              "#bd3786"
             ],
             [
              0.5555555555555556,
              "#d8576b"
             ],
             [
              0.6666666666666666,
              "#ed7953"
             ],
             [
              0.7777777777777778,
              "#fb9f3a"
             ],
             [
              0.8888888888888888,
              "#fdca26"
             ],
             [
              1,
              "#f0f921"
             ]
            ],
            "type": "heatmap"
           }
          ],
          "heatmapgl": [
           {
            "colorbar": {
             "outlinewidth": 0,
             "ticks": ""
            },
            "colorscale": [
             [
              0,
              "#0d0887"
             ],
             [
              0.1111111111111111,
              "#46039f"
             ],
             [
              0.2222222222222222,
              "#7201a8"
             ],
             [
              0.3333333333333333,
              "#9c179e"
             ],
             [
              0.4444444444444444,
              "#bd3786"
             ],
             [
              0.5555555555555556,
              "#d8576b"
             ],
             [
              0.6666666666666666,
              "#ed7953"
             ],
             [
              0.7777777777777778,
              "#fb9f3a"
             ],
             [
              0.8888888888888888,
              "#fdca26"
             ],
             [
              1,
              "#f0f921"
             ]
            ],
            "type": "heatmapgl"
           }
          ],
          "histogram": [
           {
            "marker": {
             "pattern": {
              "fillmode": "overlay",
              "size": 10,
              "solidity": 0.2
             }
            },
            "type": "histogram"
           }
          ],
          "histogram2d": [
           {
            "colorbar": {
             "outlinewidth": 0,
             "ticks": ""
            },
            "colorscale": [
             [
              0,
              "#0d0887"
             ],
             [
              0.1111111111111111,
              "#46039f"
             ],
             [
              0.2222222222222222,
              "#7201a8"
             ],
             [
              0.3333333333333333,
              "#9c179e"
             ],
             [
              0.4444444444444444,
              "#bd3786"
             ],
             [
              0.5555555555555556,
              "#d8576b"
             ],
             [
              0.6666666666666666,
              "#ed7953"
             ],
             [
              0.7777777777777778,
              "#fb9f3a"
             ],
             [
              0.8888888888888888,
              "#fdca26"
             ],
             [
              1,
              "#f0f921"
             ]
            ],
            "type": "histogram2d"
           }
          ],
          "histogram2dcontour": [
           {
            "colorbar": {
             "outlinewidth": 0,
             "ticks": ""
            },
            "colorscale": [
             [
              0,
              "#0d0887"
             ],
             [
              0.1111111111111111,
              "#46039f"
             ],
             [
              0.2222222222222222,
              "#7201a8"
             ],
             [
              0.3333333333333333,
              "#9c179e"
             ],
             [
              0.4444444444444444,
              "#bd3786"
             ],
             [
              0.5555555555555556,
              "#d8576b"
             ],
             [
              0.6666666666666666,
              "#ed7953"
             ],
             [
              0.7777777777777778,
              "#fb9f3a"
             ],
             [
              0.8888888888888888,
              "#fdca26"
             ],
             [
              1,
              "#f0f921"
             ]
            ],
            "type": "histogram2dcontour"
           }
          ],
          "mesh3d": [
           {
            "colorbar": {
             "outlinewidth": 0,
             "ticks": ""
            },
            "type": "mesh3d"
           }
          ],
          "parcoords": [
           {
            "line": {
             "colorbar": {
              "outlinewidth": 0,
              "ticks": ""
             }
            },
            "type": "parcoords"
           }
          ],
          "pie": [
           {
            "automargin": true,
            "type": "pie"
           }
          ],
          "scatter": [
           {
            "fillpattern": {
             "fillmode": "overlay",
             "size": 10,
             "solidity": 0.2
            },
            "type": "scatter"
           }
          ],
          "scatter3d": [
           {
            "line": {
             "colorbar": {
              "outlinewidth": 0,
              "ticks": ""
             }
            },
            "marker": {
             "colorbar": {
              "outlinewidth": 0,
              "ticks": ""
             }
            },
            "type": "scatter3d"
           }
          ],
          "scattercarpet": [
           {
            "marker": {
             "colorbar": {
              "outlinewidth": 0,
              "ticks": ""
             }
            },
            "type": "scattercarpet"
           }
          ],
          "scattergeo": [
           {
            "marker": {
             "colorbar": {
              "outlinewidth": 0,
              "ticks": ""
             }
            },
            "type": "scattergeo"
           }
          ],
          "scattergl": [
           {
            "marker": {
             "colorbar": {
              "outlinewidth": 0,
              "ticks": ""
             }
            },
            "type": "scattergl"
           }
          ],
          "scattermapbox": [
           {
            "marker": {
             "colorbar": {
              "outlinewidth": 0,
              "ticks": ""
             }
            },
            "type": "scattermapbox"
           }
          ],
          "scatterpolar": [
           {
            "marker": {
             "colorbar": {
              "outlinewidth": 0,
              "ticks": ""
             }
            },
            "type": "scatterpolar"
           }
          ],
          "scatterpolargl": [
           {
            "marker": {
             "colorbar": {
              "outlinewidth": 0,
              "ticks": ""
             }
            },
            "type": "scatterpolargl"
           }
          ],
          "scatterternary": [
           {
            "marker": {
             "colorbar": {
              "outlinewidth": 0,
              "ticks": ""
             }
            },
            "type": "scatterternary"
           }
          ],
          "surface": [
           {
            "colorbar": {
             "outlinewidth": 0,
             "ticks": ""
            },
            "colorscale": [
             [
              0,
              "#0d0887"
             ],
             [
              0.1111111111111111,
              "#46039f"
             ],
             [
              0.2222222222222222,
              "#7201a8"
             ],
             [
              0.3333333333333333,
              "#9c179e"
             ],
             [
              0.4444444444444444,
              "#bd3786"
             ],
             [
              0.5555555555555556,
              "#d8576b"
             ],
             [
              0.6666666666666666,
              "#ed7953"
             ],
             [
              0.7777777777777778,
              "#fb9f3a"
             ],
             [
              0.8888888888888888,
              "#fdca26"
             ],
             [
              1,
              "#f0f921"
             ]
            ],
            "type": "surface"
           }
          ],
          "table": [
           {
            "cells": {
             "fill": {
              "color": "#EBF0F8"
             },
             "line": {
              "color": "white"
             }
            },
            "header": {
             "fill": {
              "color": "#C8D4E3"
             },
             "line": {
              "color": "white"
             }
            },
            "type": "table"
           }
          ]
         },
         "layout": {
          "annotationdefaults": {
           "arrowcolor": "#2a3f5f",
           "arrowhead": 0,
           "arrowwidth": 1
          },
          "autotypenumbers": "strict",
          "coloraxis": {
           "colorbar": {
            "outlinewidth": 0,
            "ticks": ""
           }
          },
          "colorscale": {
           "diverging": [
            [
             0,
             "#8e0152"
            ],
            [
             0.1,
             "#c51b7d"
            ],
            [
             0.2,
             "#de77ae"
            ],
            [
             0.3,
             "#f1b6da"
            ],
            [
             0.4,
             "#fde0ef"
            ],
            [
             0.5,
             "#f7f7f7"
            ],
            [
             0.6,
             "#e6f5d0"
            ],
            [
             0.7,
             "#b8e186"
            ],
            [
             0.8,
             "#7fbc41"
            ],
            [
             0.9,
             "#4d9221"
            ],
            [
             1,
             "#276419"
            ]
           ],
           "sequential": [
            [
             0,
             "#0d0887"
            ],
            [
             0.1111111111111111,
             "#46039f"
            ],
            [
             0.2222222222222222,
             "#7201a8"
            ],
            [
             0.3333333333333333,
             "#9c179e"
            ],
            [
             0.4444444444444444,
             "#bd3786"
            ],
            [
             0.5555555555555556,
             "#d8576b"
            ],
            [
             0.6666666666666666,
             "#ed7953"
            ],
            [
             0.7777777777777778,
             "#fb9f3a"
            ],
            [
             0.8888888888888888,
             "#fdca26"
            ],
            [
             1,
             "#f0f921"
            ]
           ],
           "sequentialminus": [
            [
             0,
             "#0d0887"
            ],
            [
             0.1111111111111111,
             "#46039f"
            ],
            [
             0.2222222222222222,
             "#7201a8"
            ],
            [
             0.3333333333333333,
             "#9c179e"
            ],
            [
             0.4444444444444444,
             "#bd3786"
            ],
            [
             0.5555555555555556,
             "#d8576b"
            ],
            [
             0.6666666666666666,
             "#ed7953"
            ],
            [
             0.7777777777777778,
             "#fb9f3a"
            ],
            [
             0.8888888888888888,
             "#fdca26"
            ],
            [
             1,
             "#f0f921"
            ]
           ]
          },
          "colorway": [
           "#636efa",
           "#EF553B",
           "#00cc96",
           "#ab63fa",
           "#FFA15A",
           "#19d3f3",
           "#FF6692",
           "#B6E880",
           "#FF97FF",
           "#FECB52"
          ],
          "font": {
           "color": "#2a3f5f"
          },
          "geo": {
           "bgcolor": "white",
           "lakecolor": "white",
           "landcolor": "#E5ECF6",
           "showlakes": true,
           "showland": true,
           "subunitcolor": "white"
          },
          "hoverlabel": {
           "align": "left"
          },
          "hovermode": "closest",
          "mapbox": {
           "style": "light"
          },
          "paper_bgcolor": "white",
          "plot_bgcolor": "#E5ECF6",
          "polar": {
           "angularaxis": {
            "gridcolor": "white",
            "linecolor": "white",
            "ticks": ""
           },
           "bgcolor": "#E5ECF6",
           "radialaxis": {
            "gridcolor": "white",
            "linecolor": "white",
            "ticks": ""
           }
          },
          "scene": {
           "xaxis": {
            "backgroundcolor": "#E5ECF6",
            "gridcolor": "white",
            "gridwidth": 2,
            "linecolor": "white",
            "showbackground": true,
            "ticks": "",
            "zerolinecolor": "white"
           },
           "yaxis": {
            "backgroundcolor": "#E5ECF6",
            "gridcolor": "white",
            "gridwidth": 2,
            "linecolor": "white",
            "showbackground": true,
            "ticks": "",
            "zerolinecolor": "white"
           },
           "zaxis": {
            "backgroundcolor": "#E5ECF6",
            "gridcolor": "white",
            "gridwidth": 2,
            "linecolor": "white",
            "showbackground": true,
            "ticks": "",
            "zerolinecolor": "white"
           }
          },
          "shapedefaults": {
           "line": {
            "color": "#2a3f5f"
           }
          },
          "ternary": {
           "aaxis": {
            "gridcolor": "white",
            "linecolor": "white",
            "ticks": ""
           },
           "baxis": {
            "gridcolor": "white",
            "linecolor": "white",
            "ticks": ""
           },
           "bgcolor": "#E5ECF6",
           "caxis": {
            "gridcolor": "white",
            "linecolor": "white",
            "ticks": ""
           }
          },
          "title": {
           "x": 0.05
          },
          "xaxis": {
           "automargin": true,
           "gridcolor": "white",
           "linecolor": "white",
           "ticks": "",
           "title": {
            "standoff": 15
           },
           "zerolinecolor": "white",
           "zerolinewidth": 2
          },
          "yaxis": {
           "automargin": true,
           "gridcolor": "white",
           "linecolor": "white",
           "ticks": "",
           "title": {
            "standoff": 15
           },
           "zerolinecolor": "white",
           "zerolinewidth": 2
          }
         }
        },
        "title": {
         "text": "Linear SVC Predictions"
        },
        "xaxis": {
         "dtick": 1,
         "gridcolor": "rgb(0, 0, 0)",
         "side": "top",
         "ticks": "",
         "title": {
          "text": "Predicted Subreddit"
         }
        },
        "yaxis": {
         "autorange": "reversed",
         "dtick": 1,
         "ticks": "",
         "ticksuffix": "  ",
         "title": {
          "text": "True Subreddit"
         }
        }
       }
      }
     },
     "metadata": {},
     "output_type": "display_data"
    }
   ],
   "source": [
    "#linear SVC\n",
    "predicted_subreddit_names = label_encoder.inverse_transform(result)\n",
    "true_subreddit_names = label_encoder.inverse_transform(y_tests)\n",
    "conf_matrix = confusion_matrix(y_tests, result)\n",
    "\n",
    "# Ensure it's in list format\n",
    "subreddit_names_list = sorted_unique_names.tolist()\n",
    "\n",
    "# Re-attempt to create the heatmap\n",
    "fig = ff.create_annotated_heatmap(\n",
    "    z=conf_matrix,\n",
    "    x=subreddit_names_list,  # Ensure this is a list\n",
    "    y=subreddit_names_list,  # Ensure this is a list too\n",
    "    colorscale='Viridis',\n",
    "    annotation_text=np.around(conf_matrix.astype(np.float64) / conf_matrix.sum(axis=1)[:, np.newaxis], decimals=2),\n",
    "    hoverinfo=\"z\",\n",
    "    showscale=True\n",
    ")\n",
    "\n",
    "fig.update_layout(\n",
    "    title='Linear SVC Predictions',\n",
    "    xaxis=dict(title='Predicted Subreddit'),\n",
    "    yaxis=dict(title='True Subreddit'),\n",
    "    yaxis_autorange='reversed'\n",
    ")\n",
    "fig.show()"
   ]
  },
  {
   "cell_type": "markdown",
   "metadata": {},
   "source": [
    "Put predictions back into dataframe "
   ]
  },
  {
   "cell_type": "code",
   "execution_count": 13,
   "metadata": {},
   "outputs": [],
   "source": [
    "predictions = XGB.predict(combined_features)\n",
    "\n",
    "# Decode predictions to original labels\n",
    "decoded_predictions = label_encoder.inverse_transform(predictions)\n",
    "\n",
    "# Add predictions back to the DataFrame\n",
    "df['predicted_subreddit'] = decoded_predictions\n",
    "\n",
    "df.head(5)\n",
    "# df.to_csv('Final_Predictions.csv', index=False)"
   ]
  },
  {
   "cell_type": "code",
   "execution_count": null,
   "metadata": {},
   "outputs": [],
   "source": []
  },
  {
   "cell_type": "code",
   "execution_count": null,
   "metadata": {},
   "outputs": [],
   "source": []
  }
 ],
 "metadata": {
  "kernelspec": {
   "display_name": "Python 3",
   "language": "python",
   "name": "python3"
  },
  "language_info": {
   "codemirror_mode": {
    "name": "ipython",
    "version": 3
   },
   "file_extension": ".py",
   "mimetype": "text/x-python",
   "name": "python",
   "nbconvert_exporter": "python",
   "pygments_lexer": "ipython3",
   "version": "3.11.4"
  }
 },
 "nbformat": 4,
 "nbformat_minor": 2
}
