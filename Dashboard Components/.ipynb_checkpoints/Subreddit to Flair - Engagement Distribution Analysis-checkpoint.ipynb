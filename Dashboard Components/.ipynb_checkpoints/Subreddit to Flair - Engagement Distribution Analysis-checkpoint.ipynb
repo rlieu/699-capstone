{
 "cells": [
  {
   "cell_type": "code",
   "execution_count": 10,
   "id": "96874bb5",
   "metadata": {},
   "outputs": [],
   "source": [
    "import pandas as pd\n",
    "import numpy as np\n",
    "\n",
    "import matplotlib.pyplot as plt\n",
    "\n",
    "from jupyter_dash import JupyterDash\n",
    "from dash import dcc, html, State\n",
    "from dash.dependencies import Input, Output\n",
    "import plotly.express as px  \n",
    "\n",
    "from dash import dash_table\n",
    "\n",
    "app = JupyterDash(__name__)"
   ]
  },
  {
   "cell_type": "code",
   "execution_count": 2,
   "id": "cef1f1f7",
   "metadata": {},
   "outputs": [],
   "source": [
    "df = pd.read_csv('../Sentiment & Engagement Datasets/ready_data_score.csv')"
   ]
  },
  {
   "cell_type": "code",
   "execution_count": 3,
   "id": "07e62a92",
   "metadata": {},
   "outputs": [
    {
     "data": {
      "text/html": [
       "<div>\n",
       "<style scoped>\n",
       "    .dataframe tbody tr th:only-of-type {\n",
       "        vertical-align: middle;\n",
       "    }\n",
       "\n",
       "    .dataframe tbody tr th {\n",
       "        vertical-align: top;\n",
       "    }\n",
       "\n",
       "    .dataframe thead th {\n",
       "        text-align: right;\n",
       "    }\n",
       "</style>\n",
       "<table border=\"1\" class=\"dataframe\">\n",
       "  <thead>\n",
       "    <tr style=\"text-align: right;\">\n",
       "      <th></th>\n",
       "      <th>id</th>\n",
       "      <th>text</th>\n",
       "      <th>title</th>\n",
       "      <th>author</th>\n",
       "      <th>num_comments</th>\n",
       "      <th>post_id</th>\n",
       "      <th>upvote_ratio</th>\n",
       "      <th>score</th>\n",
       "      <th>url</th>\n",
       "      <th>subreddit</th>\n",
       "      <th>link_flair_text</th>\n",
       "      <th>link_flair_template_id</th>\n",
       "      <th>created_datetime</th>\n",
       "      <th>day_of_week</th>\n",
       "      <th>hour_of_day</th>\n",
       "      <th>month</th>\n",
       "      <th>year</th>\n",
       "      <th>sentiment_score</th>\n",
       "    </tr>\n",
       "  </thead>\n",
       "  <tbody>\n",
       "    <tr>\n",
       "      <th>0</th>\n",
       "      <td>41034.0</td>\n",
       "      <td>Hi context year old guy Amsterdam currently em...</td>\n",
       "      <td>Lazy job or Hard job?</td>\n",
       "      <td>Weak_Assumption_6889</td>\n",
       "      <td>8</td>\n",
       "      <td>1bfpxll</td>\n",
       "      <td>0.33</td>\n",
       "      <td>0</td>\n",
       "      <td>https://www.reddit.com/r/careeradvice/comments...</td>\n",
       "      <td>careeradvice</td>\n",
       "      <td>Unknown</td>\n",
       "      <td>Unknown</td>\n",
       "      <td>2024-03-15 22:07:22</td>\n",
       "      <td>Friday</td>\n",
       "      <td>22.0</td>\n",
       "      <td>March</td>\n",
       "      <td>2024</td>\n",
       "      <td>0.7579</td>\n",
       "    </tr>\n",
       "    <tr>\n",
       "      <th>1</th>\n",
       "      <td>43519.0</td>\n",
       "      <td>Looking new role havenut much traction Recentl...</td>\n",
       "      <td>Roast my Resume Pls</td>\n",
       "      <td>Neither_Trash</td>\n",
       "      <td>1</td>\n",
       "      <td>1bh8md2</td>\n",
       "      <td>0.99</td>\n",
       "      <td>1</td>\n",
       "      <td>https://i.redd.it/n918fjprlyoc1.jpeg</td>\n",
       "      <td>resumes</td>\n",
       "      <td>Review my resume • I'm in North America</td>\n",
       "      <td>c292b8e0-28b9-11ec-874c-325b17e851a3</td>\n",
       "      <td>2024-03-17 21:05:40</td>\n",
       "      <td>Sunday</td>\n",
       "      <td>21.0</td>\n",
       "      <td>March</td>\n",
       "      <td>2024</td>\n",
       "      <td>0.6369</td>\n",
       "    </tr>\n",
       "  </tbody>\n",
       "</table>\n",
       "</div>"
      ],
      "text/plain": [
       "        id                                               text  \\\n",
       "0  41034.0  Hi context year old guy Amsterdam currently em...   \n",
       "1  43519.0  Looking new role havenut much traction Recentl...   \n",
       "\n",
       "                   title                author  num_comments  post_id  \\\n",
       "0  Lazy job or Hard job?  Weak_Assumption_6889             8  1bfpxll   \n",
       "1    Roast my Resume Pls         Neither_Trash             1  1bh8md2   \n",
       "\n",
       "   upvote_ratio  score                                                url  \\\n",
       "0          0.33      0  https://www.reddit.com/r/careeradvice/comments...   \n",
       "1          0.99      1               https://i.redd.it/n918fjprlyoc1.jpeg   \n",
       "\n",
       "      subreddit                          link_flair_text  \\\n",
       "0  careeradvice                                  Unknown   \n",
       "1       resumes  Review my resume • I'm in North America   \n",
       "\n",
       "                 link_flair_template_id     created_datetime day_of_week  \\\n",
       "0                               Unknown  2024-03-15 22:07:22      Friday   \n",
       "1  c292b8e0-28b9-11ec-874c-325b17e851a3  2024-03-17 21:05:40      Sunday   \n",
       "\n",
       "   hour_of_day  month  year  sentiment_score  \n",
       "0         22.0  March  2024           0.7579  \n",
       "1         21.0  March  2024           0.6369  "
      ]
     },
     "execution_count": 3,
     "metadata": {},
     "output_type": "execute_result"
    }
   ],
   "source": [
    "df.head(2)"
   ]
  },
  {
   "cell_type": "markdown",
   "id": "299d19d6",
   "metadata": {},
   "source": [
    "Goal: to understand how different communities or topics drive user interaction. \n",
    "\n",
    "we'll focus on the following features: subreddit, link_flair_text (flairs), and engagement metrics (num_comments, score, upvote_ratio)."
   ]
  },
  {
   "cell_type": "markdown",
   "id": "fe80a744",
   "metadata": {},
   "source": [
    "### Getting Data Ready"
   ]
  },
  {
   "cell_type": "code",
   "execution_count": 6,
   "id": "d903a6af",
   "metadata": {},
   "outputs": [
    {
     "name": "stdout",
     "output_type": "stream",
     "text": [
      "       num_comments         score  upvote_ratio\n",
      "count   7862.000000   7862.000000   7862.000000\n",
      "mean      68.064360    324.232384      0.800085\n",
      "std      280.069188   1660.464623      0.227312\n",
      "min        0.000000      0.000000      0.050000\n",
      "25%        1.000000      1.000000      0.670000\n",
      "50%        4.000000      1.000000      0.900000\n",
      "75%       16.000000      8.000000      1.000000\n",
      "max     8325.000000  43206.000000      1.000000\n"
     ]
    }
   ],
   "source": [
    "### check the engagement metrics first\n",
    "\n",
    "engagement_summary = df[['num_comments', 'score', 'upvote_ratio']].describe()\n",
    "print(engagement_summary)"
   ]
  },
  {
   "cell_type": "code",
   "execution_count": 8,
   "id": "d22badf3",
   "metadata": {},
   "outputs": [
    {
     "data": {
      "image/png": "[encoded data removed]",
      "text/plain": [
       "<Figure size 1200x400 with 3 Axes>"
      ]
     },
     "metadata": {},
     "output_type": "display_data"
    }
   ],
   "source": [
    "plt.figure(figsize=(12, 4))\n",
    "\n",
    "plt.subplot(1, 3, 1)\n",
    "sns.boxplot(y=df['num_comments'])\n",
    "plt.title('Box Plot of Number of Comments')\n",
    "\n",
    "plt.subplot(1, 3, 2)\n",
    "sns.boxplot(y=df['score'])\n",
    "plt.title('Box Plot of Score')\n",
    "\n",
    "plt.subplot(1, 3, 3)\n",
    "sns.boxplot(y=df['upvote_ratio'])\n",
    "plt.title('Box Plot of Upvote Ratio')\n",
    "\n",
    "plt.tight_layout()\n",
    "plt.show()\n",
    "\n"
   ]
  },
  {
   "cell_type": "code",
   "execution_count": 11,
   "id": "76510271",
   "metadata": {},
   "outputs": [],
   "source": [
    "# Applying log transformation with an offset to avoid log(0)\n",
    "df['log_num_comments'] = np.log1p(df['num_comments'])  # log(x + 1)\n",
    "df['log_score'] = np.log1p(df['score'])\n"
   ]
  },
  {
   "cell_type": "code",
   "execution_count": 12,
   "id": "9c3390c1",
   "metadata": {},
   "outputs": [],
   "source": [
    "# Defining a function to detect outliers\n",
    "def detect_outliers(series):\n",
    "    Q1 = series.quantile(0.25)\n",
    "    Q3 = series.quantile(0.75)\n",
    "    IQR = Q3 - Q1\n",
    "    outlier_mask = ((series < (Q1 - 1.5 * IQR)) | (series > (Q3 + 1.5 * IQR)))\n",
    "    return outlier_mask\n",
    "\n",
    "# Apply the function to detect outliers for 'num_comments' and 'score'\n",
    "df['outlier_num_comments'] = detect_outliers(df['num_comments'])\n",
    "df['outlier_score'] = detect_outliers(df['score'])\n"
   ]
  },
  {
   "cell_type": "code",
   "execution_count": 14,
   "id": "db05706f",
   "metadata": {},
   "outputs": [
    {
     "name": "stdout",
     "output_type": "stream",
     "text": [
      "['careeradvice' 'resumes' 'ITCareerQuestions' 'FinancialCareers'\n",
      " 'LegalAdviceOffTopic' 'teachers' 'AskHR' 'sales' 'careerguidance' 'jobs'\n",
      " 'cscareerquestions' 'EngineeringCareers']\n"
     ]
    }
   ],
   "source": [
    "## check subreddit. \n",
    "unique_subreddits = df['subreddit'].unique()\n",
    "print(unique_subreddits)  # This will display all unique subreddit names\n"
   ]
  },
  {
   "cell_type": "code",
   "execution_count": 15,
   "id": "e52eb7f8",
   "metadata": {},
   "outputs": [
    {
     "name": "stdout",
     "output_type": "stream",
     "text": [
      "subreddit\n",
      "careeradvice           983\n",
      "teachers               905\n",
      "LegalAdviceOffTopic    903\n",
      "ITCareerQuestions      867\n",
      "FinancialCareers       776\n",
      "careerguidance         691\n",
      "jobs                   640\n",
      "cscareerquestions      542\n",
      "resumes                523\n",
      "sales                  501\n",
      "AskHR                  451\n",
      "EngineeringCareers      80\n",
      "Name: count, dtype: int64\n"
     ]
    }
   ],
   "source": [
    "subreddit_counts = df['subreddit'].value_counts()\n",
    "print(subreddit_counts)\n"
   ]
  },
  {
   "cell_type": "code",
   "execution_count": 16,
   "id": "88ad48a7",
   "metadata": {},
   "outputs": [],
   "source": [
    "# Filter out the 'EngineeringCareers' subreddit\n",
    "df = df[df['subreddit'] != 'EngineeringCareers']\n"
   ]
  },
  {
   "cell_type": "code",
   "execution_count": 20,
   "id": "322ed915",
   "metadata": {},
   "outputs": [
    {
     "data": {
      "text/plain": [
       "subreddit\n",
       "AskHR                  [Unknown, Policy & Procedures, Career Developm...\n",
       "FinancialCareers       [Unknown, Breaking In, Profession Insights, An...\n",
       "ITCareerQuestions      [Unknown, Seeking Advice, Early Career, Mid Ca...\n",
       "LegalAdviceOffTopic                       [Unknown, BestOf, Update, nan]\n",
       "careeradvice                                              [Unknown, nan]\n",
       "careerguidance         [Unknown, Advice, Education & Qualifications, ...\n",
       "cscareerquestions      [Unknown, New Grad, Experienced, Student, Meta...\n",
       "jobs                   [Applications, Weekly Megathread, Discipline, ...\n",
       "resumes                [Review my resume • I'm in North America, Revi...\n",
       "sales                  [Sales Topic General Discussion, Sales Careers...\n",
       "teachers               [Teacher Support &/or Advice, Student Teacher ...\n",
       "Name: link_flair_text, dtype: object"
      ]
     },
     "execution_count": 20,
     "metadata": {},
     "output_type": "execute_result"
    }
   ],
   "source": [
    "##check the link_flair_text\n",
    "\n",
    "# Group the flairs by subreddit and list unique flairs in each\n",
    "flairs_by_subreddit = df.groupby('subreddit')['link_flair_text'].unique()\n"
   ]
  },
  {
   "cell_type": "code",
   "execution_count": 21,
   "id": "ee4f0160",
   "metadata": {},
   "outputs": [
    {
     "name": "stdout",
     "output_type": "stream",
     "text": [
      "Subreddit: AskHR\n",
      "Unique Flairs: ['Unknown' 'Policy & Procedures' 'Career Development' 'Workplace Issues'\n",
      " 'Off Topic / Other' 'Employment Law' 'Compensation & Payroll'\n",
      " 'Recruitment & Talent Acquisition' 'Employee Relations' 'Leaves'\n",
      " 'California' 'Resignation/Termination' 'Performance Management'\n",
      " 'Learning & Development' 'United States Specific' 'Benefits'\n",
      " 'Unemployment' 'Canada' 'UK' 'Training' 'Risk Management'\n",
      " 'Diversity & Inclusion' nan 'Recruitment' 'ANSWERED/RESOLVED']\n",
      "\n",
      "Subreddit: FinancialCareers\n",
      "Unique Flairs: ['Unknown' 'Breaking In' 'Profession Insights' 'Announcement'\n",
      " 'Education & Certifications' 'Career Progression' 'Interview Advice'\n",
      " 'Off Topic / Other' 'Tools and Resources' 'Networking' 'Resume Feedback'\n",
      " 'Ask Me Anything' 'Skill Development' nan]\n",
      "\n",
      "Subreddit: ITCareerQuestions\n",
      "Unique Flairs: ['Unknown' 'Seeking Advice' 'Early Career' 'Mid Career' nan]\n",
      "\n",
      "Subreddit: LegalAdviceOffTopic\n",
      "Unique Flairs: ['Unknown' 'BestOf' 'Update' nan]\n",
      "\n",
      "Subreddit: careeradvice\n",
      "Unique Flairs: ['Unknown' nan]\n",
      "\n",
      "Subreddit: careerguidance\n",
      "Unique Flairs: ['Unknown' 'Advice' 'Education & Qualifications' 'Europe' 'India'\n",
      " 'United States' 'Resumes & CVs' 'Canada' 'Coworkers' 'The Netherlands'\n",
      " 'Edit with your location-Pakistan ' 'Netherlands' 'USA' 'Maryland'\n",
      " 'Australia' 'South Carolina' nan 'Germany' 'Detroit,Michigan'\n",
      " 'Edit with your location' 'USA remote']\n",
      "\n",
      "Subreddit: cscareerquestions\n",
      "Unique Flairs: ['Unknown' 'New Grad' 'Experienced' 'Student' 'Meta' 'Lead/Manager' nan\n",
      " 'Keep it civil!']\n",
      "\n",
      "Subreddit: jobs\n",
      "Unique Flairs: ['Applications' 'Weekly Megathread' 'Discipline' 'Post-interview'\n",
      " 'Job searching' 'Interviews' 'Onboarding' 'Leaving a job' 'Unemployment'\n",
      " 'Contract work' 'Promotions' 'Office relations' 'Career planning'\n",
      " 'Qualifications' 'Recruiters' 'Internships' 'Networking' 'Resumes/CVs'\n",
      " 'Rejections' 'Unknown' 'Career development' 'Work/Life balance' ' HR '\n",
      " 'Temp work' 'References' 'Training' 'Article' 'Layoffs' 'Compensation'\n",
      " 'Companies' 'Education' 'Evaluations' nan 'Job offers']\n",
      "\n",
      "Subreddit: resumes\n",
      "Unique Flairs: [\"Review my resume • I'm in North America\"\n",
      " \"Review my resume • I'm in Asia\" \"Review my resume • I'm in Europe\"\n",
      " 'I have a general question' 'Discussion' 'Mod Announcement '\n",
      " \"Review my resume • I'm in Australia\"\n",
      " \"Review my resume • I'm in the Middle East\" \"I'm sharing advice\"\n",
      " \"Review my resume • I'm in South America\" 'Other' 'Success Story'\n",
      " \"Review my resume • I'm in Africa\" nan 'I need feedback - Asia '\n",
      " 'I need feedback - Middle East ' 'I need feedback - North America '\n",
      " 'I have a question' 'I need feedback - Australia ']\n",
      "\n",
      "Subreddit: sales\n",
      "Unique Flairs: ['Sales Topic General Discussion' 'Sales Careers'\n",
      " 'Sales Leadership Focused' 'Fundamental Sales Skills'\n",
      " 'Advanced Sales Skills' 'Sales Tools and Resources' 'Discussion'\n",
      " 'Resource' 'Off-Topic' 'Best of r/Sales' 'Career' 'Advice' 'Shit Post'\n",
      " nan 'Shitpost' 'Question' 'Sales Career Q&A']\n",
      "\n",
      "Subreddit: teachers\n",
      "Unique Flairs: ['Teacher Support &/or Advice' 'Student Teacher Support &/or Advice'\n",
      " 'SUCCESS!' 'Student or Parent' 'Career & Interview Advice'\n",
      " 'Power of Positivity' 'Rant & Vent' 'Humor'\n",
      " 'Classroom Management & Strategies' \"Just Smile and Nod Y'all.  \"\n",
      " 'Policy & Politics' 'Another AI / ChatGPT Post 🤖' 'Curriculum'\n",
      " 'New Teacher' 'Pedagogy & Best Practices' 'Professional Dress & Wardrobe'\n",
      " 'Higher Ed / PD / Cert Exams' 'Charter or Private School' 'COVID-19'\n",
      " 'Substitute Teacher' 'Non-US Teacher' 'Retired Teacher'\n",
      " 'Bad Teacher, No Apple' nan 'RANT [Students/Parents]' 'Resignation']\n",
      "\n"
     ]
    }
   ],
   "source": [
    "for subreddit, flairs in flairs_by_subreddit.items():\n",
    "    print(f\"Subreddit: {subreddit}\")\n",
    "    print(f\"Unique Flairs: {flairs}\\n\")\n"
   ]
  },
  {
   "cell_type": "code",
   "execution_count": 22,
   "id": "01fef04a",
   "metadata": {},
   "outputs": [],
   "source": [
    "df.to_csv('../Sentiment & Engagement Datasets/subreddit_data.csv')"
   ]
  },
  {
   "cell_type": "code",
   "execution_count": 23,
   "id": "99eaf1dd",
   "metadata": {},
   "outputs": [],
   "source": [
    "# Exclude posts with \"Unknown\" flair\n",
    "df_filtered = df[df['link_flair_text'] != 'Unknown']\n",
    "\n",
    "# Optionally, also exclude posts where flair information is missing (NaN)\n",
    "df_filtered = df_filtered.dropna(subset=['link_flair_text'])\n"
   ]
  },
  {
   "cell_type": "code",
   "execution_count": 24,
   "id": "88ca40e5",
   "metadata": {},
   "outputs": [],
   "source": [
    "# Group the flairs by subreddit and list unique flairs in each\n",
    "flairs_by_subreddit = df_filtered.groupby('subreddit')['link_flair_text'].unique()"
   ]
  },
  {
   "cell_type": "code",
   "execution_count": 25,
   "id": "5347ce3d",
   "metadata": {},
   "outputs": [
    {
     "name": "stdout",
     "output_type": "stream",
     "text": [
      "Subreddit: AskHR\n",
      "Unique Flairs: ['Policy & Procedures' 'Career Development' 'Workplace Issues'\n",
      " 'Off Topic / Other' 'Employment Law' 'Compensation & Payroll'\n",
      " 'Recruitment & Talent Acquisition' 'Employee Relations' 'Leaves'\n",
      " 'California' 'Resignation/Termination' 'Performance Management'\n",
      " 'Learning & Development' 'United States Specific' 'Benefits'\n",
      " 'Unemployment' 'Canada' 'UK' 'Training' 'Risk Management'\n",
      " 'Diversity & Inclusion' 'Recruitment' 'ANSWERED/RESOLVED']\n",
      "\n",
      "Subreddit: FinancialCareers\n",
      "Unique Flairs: ['Breaking In' 'Profession Insights' 'Announcement'\n",
      " 'Education & Certifications' 'Career Progression' 'Interview Advice'\n",
      " 'Off Topic / Other' 'Tools and Resources' 'Networking' 'Resume Feedback'\n",
      " 'Ask Me Anything' 'Skill Development']\n",
      "\n",
      "Subreddit: ITCareerQuestions\n",
      "Unique Flairs: ['Seeking Advice' 'Early Career' 'Mid Career']\n",
      "\n",
      "Subreddit: LegalAdviceOffTopic\n",
      "Unique Flairs: ['BestOf' 'Update']\n",
      "\n",
      "Subreddit: careerguidance\n",
      "Unique Flairs: ['Advice' 'Education & Qualifications' 'Europe' 'India' 'United States'\n",
      " 'Resumes & CVs' 'Canada' 'Coworkers' 'The Netherlands'\n",
      " 'Edit with your location-Pakistan ' 'Netherlands' 'USA' 'Maryland'\n",
      " 'Australia' 'South Carolina' 'Germany' 'Detroit,Michigan'\n",
      " 'Edit with your location' 'USA remote']\n",
      "\n",
      "Subreddit: cscareerquestions\n",
      "Unique Flairs: ['New Grad' 'Experienced' 'Student' 'Meta' 'Lead/Manager' 'Keep it civil!']\n",
      "\n",
      "Subreddit: jobs\n",
      "Unique Flairs: ['Applications' 'Weekly Megathread' 'Discipline' 'Post-interview'\n",
      " 'Job searching' 'Interviews' 'Onboarding' 'Leaving a job' 'Unemployment'\n",
      " 'Contract work' 'Promotions' 'Office relations' 'Career planning'\n",
      " 'Qualifications' 'Recruiters' 'Internships' 'Networking' 'Resumes/CVs'\n",
      " 'Rejections' 'Career development' 'Work/Life balance' ' HR ' 'Temp work'\n",
      " 'References' 'Training' 'Article' 'Layoffs' 'Compensation' 'Companies'\n",
      " 'Education' 'Evaluations' 'Job offers']\n",
      "\n",
      "Subreddit: resumes\n",
      "Unique Flairs: [\"Review my resume • I'm in North America\"\n",
      " \"Review my resume • I'm in Asia\" \"Review my resume • I'm in Europe\"\n",
      " 'I have a general question' 'Discussion' 'Mod Announcement '\n",
      " \"Review my resume • I'm in Australia\"\n",
      " \"Review my resume • I'm in the Middle East\" \"I'm sharing advice\"\n",
      " \"Review my resume • I'm in South America\" 'Other' 'Success Story'\n",
      " \"Review my resume • I'm in Africa\" 'I need feedback - Asia '\n",
      " 'I need feedback - Middle East ' 'I need feedback - North America '\n",
      " 'I have a question' 'I need feedback - Australia ']\n",
      "\n",
      "Subreddit: sales\n",
      "Unique Flairs: ['Sales Topic General Discussion' 'Sales Careers'\n",
      " 'Sales Leadership Focused' 'Fundamental Sales Skills'\n",
      " 'Advanced Sales Skills' 'Sales Tools and Resources' 'Discussion'\n",
      " 'Resource' 'Off-Topic' 'Best of r/Sales' 'Career' 'Advice' 'Shit Post'\n",
      " 'Shitpost' 'Question' 'Sales Career Q&A']\n",
      "\n",
      "Subreddit: teachers\n",
      "Unique Flairs: ['Teacher Support &/or Advice' 'Student Teacher Support &/or Advice'\n",
      " 'SUCCESS!' 'Student or Parent' 'Career & Interview Advice'\n",
      " 'Power of Positivity' 'Rant & Vent' 'Humor'\n",
      " 'Classroom Management & Strategies' \"Just Smile and Nod Y'all.  \"\n",
      " 'Policy & Politics' 'Another AI / ChatGPT Post 🤖' 'Curriculum'\n",
      " 'New Teacher' 'Pedagogy & Best Practices' 'Professional Dress & Wardrobe'\n",
      " 'Higher Ed / PD / Cert Exams' 'Charter or Private School' 'COVID-19'\n",
      " 'Substitute Teacher' 'Non-US Teacher' 'Retired Teacher'\n",
      " 'Bad Teacher, No Apple' 'RANT [Students/Parents]' 'Resignation']\n",
      "\n"
     ]
    }
   ],
   "source": [
    "for subreddit, flairs in flairs_by_subreddit.items():\n",
    "    print(f\"Subreddit: {subreddit}\")\n",
    "    print(f\"Unique Flairs: {flairs}\\n\")"
   ]
  },
  {
   "cell_type": "code",
   "execution_count": 26,
   "id": "74b126c8",
   "metadata": {},
   "outputs": [],
   "source": [
    "# Define a mapping from original flairs to broader categories\n",
    "flair_mapping = {\n",
    "    'Employment Law': 'Legal and Compliance', 'Leaves': 'Legal and Compliance', \n",
    "    'California': 'Legal and Compliance', 'Resignation/Termination': 'Legal and Compliance', \n",
    "    'United States Specific': 'Legal and Compliance', 'Canada': 'Legal and Compliance', \n",
    "    'UK': 'Legal and Compliance', 'Recruitment & Talent Acquisition': 'Recruitment and Talent',\n",
    "    'Recruitment': 'Recruitment and Talent', 'Compensation & Payroll': 'Compensation and Benefits',\n",
    "    'Benefits': 'Compensation and Benefits', 'Unemployment': 'Compensation and Benefits',\n",
    "    'Career Development': 'Career and Development', 'Learning & Development': 'Career and Development',\n",
    "    'Training': 'Career and Development', 'Diversity & Inclusion': 'Career and Development',\n",
    "    'Workplace Issues': 'Workplace Issues', 'Employee Relations': 'Workplace Issues',\n",
    "    'Performance Management': 'Workplace Issues', 'Risk Management': 'Workplace Issues',\n",
    "    'Policy & Procedures': 'General HR', 'ANSWERED/RESOLVED': 'General HR', \n",
    "    'Off Topic / Other': 'General HR'\n",
    "}\n",
    "\n",
    "# Apply the mapping to the DataFrame\n",
    "df_filtered['flair_category'] = df_filtered['link_flair_text'].map(flair_mapping)\n"
   ]
  },
  {
   "cell_type": "code",
   "execution_count": null,
   "id": "64e8684a",
   "metadata": {},
   "outputs": [],
   "source": []
  }
 ],
 "metadata": {
  "kernelspec": {
   "display_name": "Python 3 (ipykernel)",
   "language": "python",
   "name": "python3"
  },
  "language_info": {
   "codemirror_mode": {
    "name": "ipython",
    "version": 3
   },
   "file_extension": ".py",
   "mimetype": "text/x-python",
   "name": "python",
   "nbconvert_exporter": "python",
   "pygments_lexer": "ipython3",
   "version": "3.8.13"
  },
  "toc": {
   "base_numbering": 1,
   "nav_menu": {},
   "number_sections": false,
   "sideBar": true,
   "skip_h1_title": false,
   "title_cell": "Table of Contents",
   "title_sidebar": "Contents",
   "toc_cell": false,
   "toc_position": {},
   "toc_section_display": true,
   "toc_window_display": false
  }
 },
 "nbformat": 4,
 "nbformat_minor": 5
}
