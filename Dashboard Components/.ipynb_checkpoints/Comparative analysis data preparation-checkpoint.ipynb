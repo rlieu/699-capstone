{
 "cells": [
  {
   "cell_type": "code",
   "execution_count": 1,
   "id": "0bdb61d1",
   "metadata": {},
   "outputs": [],
   "source": [
    "import pandas as pd\n",
    "import numpy as np\n",
    "import seaborn as sns\n",
    "\n",
    "import matplotlib.pyplot as plt\n"
   ]
  },
  {
   "cell_type": "code",
   "execution_count": 2,
   "id": "ee6e372e",
   "metadata": {},
   "outputs": [],
   "source": [
    "df = pd.read_csv('../Sentiment & Engagement Datasets/ready_data_score.csv')"
   ]
  },
  {
   "cell_type": "code",
   "execution_count": 3,
   "id": "c6221ef4",
   "metadata": {},
   "outputs": [
    {
     "data": {
      "text/html": [
       "<div>\n",
       "<style scoped>\n",
       "    .dataframe tbody tr th:only-of-type {\n",
       "        vertical-align: middle;\n",
       "    }\n",
       "\n",
       "    .dataframe tbody tr th {\n",
       "        vertical-align: top;\n",
       "    }\n",
       "\n",
       "    .dataframe thead th {\n",
       "        text-align: right;\n",
       "    }\n",
       "</style>\n",
       "<table border=\"1\" class=\"dataframe\">\n",
       "  <thead>\n",
       "    <tr style=\"text-align: right;\">\n",
       "      <th></th>\n",
       "      <th>id</th>\n",
       "      <th>text</th>\n",
       "      <th>title</th>\n",
       "      <th>author</th>\n",
       "      <th>num_comments</th>\n",
       "      <th>post_id</th>\n",
       "      <th>upvote_ratio</th>\n",
       "      <th>score</th>\n",
       "      <th>url</th>\n",
       "      <th>subreddit</th>\n",
       "      <th>link_flair_text</th>\n",
       "      <th>link_flair_template_id</th>\n",
       "      <th>created_datetime</th>\n",
       "      <th>day_of_week</th>\n",
       "      <th>hour_of_day</th>\n",
       "      <th>month</th>\n",
       "      <th>year</th>\n",
       "      <th>sentiment_score</th>\n",
       "    </tr>\n",
       "  </thead>\n",
       "  <tbody>\n",
       "    <tr>\n",
       "      <th>0</th>\n",
       "      <td>41034.0</td>\n",
       "      <td>Hi context year old guy Amsterdam currently em...</td>\n",
       "      <td>Lazy job or Hard job?</td>\n",
       "      <td>Weak_Assumption_6889</td>\n",
       "      <td>8</td>\n",
       "      <td>1bfpxll</td>\n",
       "      <td>0.33</td>\n",
       "      <td>0</td>\n",
       "      <td>https://www.reddit.com/r/careeradvice/comments...</td>\n",
       "      <td>careeradvice</td>\n",
       "      <td>Unknown</td>\n",
       "      <td>Unknown</td>\n",
       "      <td>2024-03-15 22:07:22</td>\n",
       "      <td>Friday</td>\n",
       "      <td>22.0</td>\n",
       "      <td>March</td>\n",
       "      <td>2024</td>\n",
       "      <td>0.7579</td>\n",
       "    </tr>\n",
       "    <tr>\n",
       "      <th>1</th>\n",
       "      <td>43519.0</td>\n",
       "      <td>Looking new role havenut much traction Recentl...</td>\n",
       "      <td>Roast my Resume Pls</td>\n",
       "      <td>Neither_Trash</td>\n",
       "      <td>1</td>\n",
       "      <td>1bh8md2</td>\n",
       "      <td>0.99</td>\n",
       "      <td>1</td>\n",
       "      <td>https://i.redd.it/n918fjprlyoc1.jpeg</td>\n",
       "      <td>resumes</td>\n",
       "      <td>Review my resume • I'm in North America</td>\n",
       "      <td>c292b8e0-28b9-11ec-874c-325b17e851a3</td>\n",
       "      <td>2024-03-17 21:05:40</td>\n",
       "      <td>Sunday</td>\n",
       "      <td>21.0</td>\n",
       "      <td>March</td>\n",
       "      <td>2024</td>\n",
       "      <td>0.6369</td>\n",
       "    </tr>\n",
       "  </tbody>\n",
       "</table>\n",
       "</div>"
      ],
      "text/plain": [
       "        id                                               text  \\\n",
       "0  41034.0  Hi context year old guy Amsterdam currently em...   \n",
       "1  43519.0  Looking new role havenut much traction Recentl...   \n",
       "\n",
       "                   title                author  num_comments  post_id  \\\n",
       "0  Lazy job or Hard job?  Weak_Assumption_6889             8  1bfpxll   \n",
       "1    Roast my Resume Pls         Neither_Trash             1  1bh8md2   \n",
       "\n",
       "   upvote_ratio  score                                                url  \\\n",
       "0          0.33      0  https://www.reddit.com/r/careeradvice/comments...   \n",
       "1          0.99      1               https://i.redd.it/n918fjprlyoc1.jpeg   \n",
       "\n",
       "      subreddit                          link_flair_text  \\\n",
       "0  careeradvice                                  Unknown   \n",
       "1       resumes  Review my resume • I'm in North America   \n",
       "\n",
       "                 link_flair_template_id     created_datetime day_of_week  \\\n",
       "0                               Unknown  2024-03-15 22:07:22      Friday   \n",
       "1  c292b8e0-28b9-11ec-874c-325b17e851a3  2024-03-17 21:05:40      Sunday   \n",
       "\n",
       "   hour_of_day  month  year  sentiment_score  \n",
       "0         22.0  March  2024           0.7579  \n",
       "1         21.0  March  2024           0.6369  "
      ]
     },
     "execution_count": 3,
     "metadata": {},
     "output_type": "execute_result"
    }
   ],
   "source": [
    "df.head(2)"
   ]
  },
  {
   "cell_type": "code",
   "execution_count": 5,
   "id": "ce05a668",
   "metadata": {},
   "outputs": [
    {
     "name": "stdout",
     "output_type": "stream",
     "text": [
      "<class 'pandas.core.frame.DataFrame'>\n",
      "RangeIndex: 7862 entries, 0 to 7861\n",
      "Data columns (total 18 columns):\n",
      " #   Column                  Non-Null Count  Dtype  \n",
      "---  ------                  --------------  -----  \n",
      " 0   id                      7107 non-null   float64\n",
      " 1   text                    7862 non-null   object \n",
      " 2   title                   7862 non-null   object \n",
      " 3   author                  7760 non-null   object \n",
      " 4   num_comments            7862 non-null   int64  \n",
      " 5   post_id                 7862 non-null   object \n",
      " 6   upvote_ratio            7862 non-null   float64\n",
      " 7   score                   7862 non-null   int64  \n",
      " 8   url                     7862 non-null   object \n",
      " 9   subreddit               7862 non-null   object \n",
      " 10  link_flair_text         7508 non-null   object \n",
      " 11  link_flair_template_id  7508 non-null   object \n",
      " 12  created_datetime        7862 non-null   object \n",
      " 13  day_of_week             7107 non-null   object \n",
      " 14  hour_of_day             7107 non-null   float64\n",
      " 15  month                   7862 non-null   object \n",
      " 16  year                    7862 non-null   int64  \n",
      " 17  sentiment_score         7862 non-null   float64\n",
      "dtypes: float64(4), int64(3), object(11)\n",
      "memory usage: 1.1+ MB\n"
     ]
    }
   ],
   "source": [
    "df.info()"
   ]
  },
  {
   "cell_type": "code",
   "execution_count": null,
   "id": "296dc5cc",
   "metadata": {},
   "outputs": [],
   "source": []
  }
 ],
 "metadata": {
  "kernelspec": {
   "display_name": "Python 3 (ipykernel)",
   "language": "python",
   "name": "python3"
  },
  "language_info": {
   "codemirror_mode": {
    "name": "ipython",
    "version": 3
   },
   "file_extension": ".py",
   "mimetype": "text/x-python",
   "name": "python",
   "nbconvert_exporter": "python",
   "pygments_lexer": "ipython3",
   "version": "3.8.13"
  },
  "toc": {
   "base_numbering": 1,
   "nav_menu": {},
   "number_sections": false,
   "sideBar": true,
   "skip_h1_title": false,
   "title_cell": "Table of Contents",
   "title_sidebar": "Contents",
   "toc_cell": false,
   "toc_position": {},
   "toc_section_display": true,
   "toc_window_display": false
  }
 },
 "nbformat": 4,
 "nbformat_minor": 5
}
