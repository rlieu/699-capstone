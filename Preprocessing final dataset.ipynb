{
 "cells": [
  {
   "cell_type": "code",
   "execution_count": 16,
   "id": "069ab571",
   "metadata": {},
   "outputs": [
    {
     "name": "stderr",
     "output_type": "stream",
     "text": [
      "[nltk_data] Downloading package punkt to /home/qianfu/nltk_data...\n",
      "[nltk_data]   Package punkt is already up-to-date!\n",
      "[nltk_data] Downloading package stopwords to /home/qianfu/nltk_data...\n",
      "[nltk_data]   Package stopwords is already up-to-date!\n",
      "[nltk_data] Downloading package wordnet to /home/qianfu/nltk_data...\n",
      "[nltk_data]   Package wordnet is already up-to-date!\n"
     ]
    },
    {
     "data": {
      "text/plain": [
       "True"
      ]
     },
     "execution_count": 16,
     "metadata": {},
     "output_type": "execute_result"
    }
   ],
   "source": [
    "import json\n",
    "import csv\n",
    "import pandas as pd\n",
    "import nltk\n",
    "from nltk.corpus import stopwords, wordnet\n",
    "from nltk.tokenize import word_tokenize\n",
    "from nltk.stem import WordNetLemmatizer\n",
    "import spacy\n",
    "import re\n",
    "from sklearn.feature_extraction.text import TfidfVectorizer\n",
    "from scipy import sparse\n",
    "from nltk.sentiment import SentimentIntensityAnalyzer\n",
    "\n",
    "\n",
    "nltk.download('punkt')\n",
    "nltk.download('stopwords')\n",
    "nltk.download('wordnet')"
   ]
  },
  {
   "cell_type": "markdown",
   "id": "63cdf0a7",
   "metadata": {},
   "source": [
    "### Preprocessing the data"
   ]
  },
  {
   "cell_type": "code",
   "execution_count": 3,
   "id": "30d397a6",
   "metadata": {},
   "outputs": [],
   "source": [
    "lemmatizer = WordNetLemmatizer()\n",
    "\n",
    "def preprocess_text(text):\n",
    "    # remove special characters, punctuation, and numbers\n",
    "    text = re.sub(r'[^a-zA-Z\\s]', '', text)\n",
    "    # tokenize the text\n",
    "    tokens = word_tokenize(text)\n",
    "    # lemmatize and remove stopwords\n",
    "    lemmatized_tokens = [lemmatizer.lemmatize(token) for token in tokens if token not in stopwords.words('english')]\n",
    "    # join the tokens back into a string\n",
    "    return ' '.join(lemmatized_tokens)\n"
   ]
  },
  {
   "cell_type": "code",
   "execution_count": 4,
   "id": "3ec726b4",
   "metadata": {},
   "outputs": [],
   "source": [
    "df = pd.read_csv('final_data.csv')"
   ]
  },
  {
   "cell_type": "code",
   "execution_count": null,
   "id": "f35b2ae9",
   "metadata": {},
   "outputs": [],
   "source": []
  },
  {
   "cell_type": "code",
   "execution_count": 5,
   "id": "639f1518",
   "metadata": {},
   "outputs": [],
   "source": [
    "df['text'] = df['text'].apply(preprocess_text)"
   ]
  },
  {
   "cell_type": "code",
   "execution_count": 6,
   "id": "2b7096c6",
   "metadata": {},
   "outputs": [
    {
     "data": {
      "text/plain": [
       "text\n",
       "xBnn                                                                                                                                                                                                                                                                                                                                                                                                                                                                                                                                                                                                                                                                                                                                                                                                                                                                                                                                                                                                                                                                                                                                                                                                                                                                                                                                                                                                                                                                                                                                                                                                                                                                                                                                                                                                                                                                                                                                                                                                                                                                                                                                                                                                                                                                                                                                                                                                                                                                                                                                                                                                                                                                                                                                                                                                                                46\n",
       "Title                                                                                                                                                                                                                                                                                                                                                                                                                                                                                                                                                                                                                                                                                                                                                                                                                                                                                                                                                                                                                                                                                                                                                                                                                                                                                                                                                                                                                                                                                                                                                                                                                                                                                                                                                                                                                                                                                                                                                                                                                                                                                                                                                                                                                                                                                                                                                                                                                                                                                                                                                                                                                                                                                                                                                                                                                               11\n",
       "Please use thread chat casual discussion ask casual question Moderation light dont jerknnThis thread posted every day midnight PST Previous Daily Chat Threads found                                                                                                                                                                                                                                                                                                                                                                                                                                                                                                                                                                                                                                                                                                                                                                                                                                                                                                                                                                                                                                                                                                                                                                                                                                                                                                                                                                                                                                                                                                                                                                                                                                                                                                                                                                                                                                                                                                                                                                                                                                                                                                                                                                                                                                                                                                                                                                                                                                                                                                                                                                                                                                                                 8\n",
       "So Ive considering transferring new group department company Id chance work something Ive felt passionate Its thing Id working course Id get put hand nnThe downside Id give half remote work come onsite mostall time Im sure much salary would get bumped I got yearly raise I dont knownnWhen I lay table new opportunity doesnt sound glamorous I really prioritize time I prioritize health working nearly every day meal prepping etc Id really make major adjustment fit new role But hey least Id working passion project right nnI feel like work isnt interesting nowadays I know there ups down every job I know I cant stay cushy situation forever I also value time mentioned I kinda hate going office stand Part feel like maybe I choice I get factnnAnyone similar experience And choose le work life balance passion vice versa Are even possible                                                                                                                                                                                                                                                                                                                                                                                                                                                                                                                                                                                                                                                                                                                                                                                                                                                                                                                                                                                                                                                                                                                                                                                                                                                                                                                                                                                                                                                                                                                                                                                                                                                                                                                                                                                                                                                                                                                                                                 3\n",
       "ReadOnly Friday day shouldnut make major u indeed u change Which mean use time share book podcasts blog help u grownnCouple rulesnn No Affiliate Linksn Try keep selfpromotion minimum It flirt No Solicitations rule focus value content yoursn Needs IT Career Growth related contentnnMOD NOTE This weekly post                                                                                                                                                                                                                                                                                                                                                                                                                                                                                                                                                                                                                                                                                                                                                                                                                                                                                                                                                                                                                                                                                                                                                                                                                                                                                                                                                                                                                                                                                                                                                                                                                                                                                                                                                                                                                                                                                                                                                                                                                                                                                                                                                                                                                                                                                                                                                                                                                                                                                                                   3\n",
       "                                                                                                                                                                                                                                                                                                                                                                                                                                                                                                                                                                                                                                                                                                                                                                                                                                                                                                                                                                                                                                                                                                                                                                                                                                                                                                                                                                                                                                                                                                                                                                                                                                                                                                                                                                                                                                                                                                                                                                                                                                                                                                                                                                                                                                                                                                                                                                                                                                                                                                                                                                                                                                                                                                                                                                                                                                    ..\n",
       "Seems redundant I mean Everyday I see post related subreddits cough cscarrerquestions cough How I gain experience IT How I break cybersecurity Had first IT interview Im depressed sorry callouts In general common theme misplaced expectation Whether mean gain IT experience cybersecurity role look like daytoday recent thread understanding baseline level understanding contribute entrylevel IT rolennEnough rambling I really mean IT information technology Well exactly Its nothing le information technology Its support information system technology purposennThe answer support business goal outcomesnnxBnnAlright let take another look How IT contribute busineess goal desired outcome Heres migrating user file deprecated platform another supported platform may introduce new capability drive support additional business goal outcome implementing new system related process start supporting business department previously outsourced operating business process inhouse either economical strategic business HRpayrollhostingetc perhaps automating business function process driving value organization value chain improving proceses return input output These far exhausting way IT contributesnnMaybe wasnt straightforward way answer question posed IT exists support business outcome managing system lifecycles reducing operational impact business enabling new business opoortunities outcome introducing andor enabling IT capability business improving efficiency existing business process drive better business outcome drive higher return investment busienss value chain implementation information technology Hopefully better descriptionnnThe takeaway information technology aspect describes domain technical knowledge achieve Its end become broad applicable become beast But area IT domain quite inclusive end day exists drive support business outcome Keep top mind looking job may interest youre stuck question interviewer sure answer Ask clarifying question may hint value contribution would ITrelated discussion bring business Is core business model support core Is something I supportnnAlright Ill leave see community responds message I go day topic point unless heard Im relatively frequent poster subreddits feel free check post dont come opinion lol itching make post similar time I hope land somwhere appreciated I started discord able provide direct feedback try foster community understand needful IT I dont want get banned though Ill refrain direct reference Feel free message Ill try share link interested blank discord clearnnCheersnnxBnnEdit Heres good litmus test subreddit reference post couple day ago I could polite Id consider great example poor expectation set subreddits general necessarily one specifically     1\n",
       "Im curious see everyones daytoday like one followingnn n Network Engineers Principal n Help Desk Tier nn nReason I asking I currently studying Sec want focus networking                                                                                                                                                                                                                                                                                                                                                                                                                                                                                                                                                                                                                                                                                                                                                                                                                                                                                                                                                                                                                                                                                                                                                                                                                                                                                                                                                                                                                                                                                                                                                                                                                                                                                                                                                                                                                                                                                                                                                                                                                                                                                                                                                                                                                                                                                                                                                                                                                                                                                                                                                                                                                                                             1\n",
       "Ium thinking dropping mechanic school hopping IT something General field get certification online CERTIA A google associate degree degree try find remote job I wondering hard career field get thereus enough job many people looking job anything help                                                                                                                                                                                                                                                                                                                                                                                                                                                                                                                                                                                                                                                                                                                                                                                                                                                                                                                                                                                                                                                                                                                                                                                                                                                                                                                                                                                                                                                                                                                                                                                                                                                                                                                                                                                                                                                                                                                                                                                                                                                                                                                                                                                                                                                                                                                                                                                                                                                                                                                                                                             1\n",
       "I work exclusively company user I support dont realize I contractor secret though There opening company pretty much job There contractor position also applying I want give best chance picked job would mean gigantic pay raise nnWould taboo reach people I recently helped encourage put good word manager nnOther idea welcome I already saving occasional unsolicited praise email I get clientsnnThanks                                                                                                                                                                                                                                                                                                                                                                                                                                                                                                                                                                                                                                                                                                                                                                                                                                                                                                                                                                                                                                                                                                                                                                                                                                                                                                                                                                                                                                                                                                                                                                                                                                                                                                                                                                                                                                                                                                                                                                                                                                                                                                                                                                                                                                                                                                                                                                                                                        1\n",
       "Ium currently self taught software engineer want go path cyber security Ium barely making k MCOL area Iuve done calculation I would need make around k feel comfortable mortgage bill Iuve decided go WGU route cybersecurity bachelor degree nnIum sure ignorant question question I finish degree would possible find position would start around least knnEveryone keep talking paying due starting bottom tier one help desk I would quite feasible rate hr Iuve seeing people post Ium still planning going wanting realistic answer I prepare fund Thank advance                                                                                                                                                                                                                                                                                                                                                                                                                                                                                                                                                                                                                                                                                                                                                                                                                                                                                                                                                                                                                                                                                                                                                                                                                                                                                                                                                                                                                                                                                                                                                                                                                                                                                                                                                                                                                                                                                                                                                                                                                                                                                                                                                                                                                                                               1\n",
       "Name: count, Length: 8590, dtype: int64"
      ]
     },
     "execution_count": 6,
     "metadata": {},
     "output_type": "execute_result"
    }
   ],
   "source": [
    "df['text'].value_counts()"
   ]
  },
  {
   "cell_type": "markdown",
   "id": "fe953ae6",
   "metadata": {},
   "source": [
    "### further cleaning "
   ]
  },
  {
   "cell_type": "code",
   "execution_count": 8,
   "id": "7b3bd60d",
   "metadata": {},
   "outputs": [],
   "source": [
    "df = df[~df['text'].str.contains('xBnn|Title|^Please use thread|^ReadOnly Friday', case=False, na=False)]"
   ]
  },
  {
   "cell_type": "code",
   "execution_count": 9,
   "id": "38d81d58",
   "metadata": {},
   "outputs": [
    {
     "data": {
      "text/plain": [
       "(7954, 17)"
      ]
     },
     "execution_count": 9,
     "metadata": {},
     "output_type": "execute_result"
    }
   ],
   "source": [
    "df.shape"
   ]
  },
  {
   "cell_type": "code",
   "execution_count": 10,
   "id": "853b8e8a",
   "metadata": {},
   "outputs": [],
   "source": [
    "df2 = pd.read_csv('final_data.csv')"
   ]
  },
  {
   "cell_type": "code",
   "execution_count": 11,
   "id": "fc6f9b79",
   "metadata": {},
   "outputs": [
    {
     "data": {
      "text/plain": [
       "(8758, 17)"
      ]
     },
     "execution_count": 11,
     "metadata": {},
     "output_type": "execute_result"
    }
   ],
   "source": [
    "df2.shape"
   ]
  },
  {
   "cell_type": "code",
   "execution_count": 12,
   "id": "aef0015b",
   "metadata": {
    "scrolled": true
   },
   "outputs": [
    {
     "data": {
      "text/plain": [
       "text\n",
       "CIS stand Computer information SystemsnnIve heard people I know I switch business different major within business school instead They told easier MISCIS expirencing mass layoff job market MISCIS extremely oversaturated They told tough job market MISCIS major even time I graduate itd better switch business MISCIS isnt good used What yall thinkn                                                                                                                                                                                                                                                                                                                                                                                                                                                                                                                                                                                                                                                                                                                                                                                                                                                                                                                                                                                                                                                                                                                                                                                                                                                                                                                                                                                                                                                                                                                                                                       3\n",
       "Background nIuve unable finish degree kicked sick fatherus house due crazy wife Taking account current circumstance Living grandparent house room mother living suitcase real feeling settled dog taken away grandparent donut allow dog home My mom constantly away work time I mean transportation real friend nnnI originally wanted company A itus big new project island constant opportunity fact I donut degree wonut put immediate high position Iuve contact employer weuve talking month first job mentioned knowing education background really good high paid position But week mentioned wasnut able hire right away due building fully functional said I could either wait till itus fully functional would hire position hire low position hostessreceptionist advance later itus fully functional There actual guarantee said one emailsudwe wait Im told sport club fully opening I hire problemud said ucI see top list Assistant managerud made doubt Company B wanted hire start hiring process taken opportunity coming Here pro con list Iuve written company nnnCompany A nnPros nn living dognn Potential increase potential job advance assistant manager nn Housing provided nn Transportation provided nn All food provided throughout day nn paid travel ticket visit home city nn Constantly growing innovative project environment nn Living island nn Relocating paid fornn Very western nnConsnn immediate job id getting lower company B nn Wonut able afford purchase car beginning nn Potential job fully guaranteed nn Moving new city going hassle nnnnnnnnCompany B nnPros nn immediate high salarynn Would able afford car soonernn Good established company nn They truly want work hiccup still waited mennConsnn Living grandparent room mother feeling settled nn I wouldnut dog nn Losing huge opportunity big project nn Iud provide transportation Ubern n Very conservative n    3\n",
       "Im rd year uni studying yr bachelor business managementnIve always liked corporate world I know lot career IT finance accounting technical skillsnnI know I incorrectly sound lazy person saying I dont really like dive detail also Im good I work something I avoid looking big picture I like lot thinking whole something could project companynnThis studying Im also trying launch project I mind obviously I face startup high probability failure reason also personal growth I decided go mainly career first working yearsnnIm dev I studied bit IT high school uni I would never able develop software I know basicintermediate stuff I know talk people ITnnBecause I thought career IT n Project managementn Consultingn Maybe even sale also I think there le entry barrier competition I could wrongnnIm Italian I know english excellent maybe high BC I havent trained year I would consider also moving usukany country I speak english get work experiencennSure thing Id love work something I like obviously also money factor saidnn What master degree would recommendnn Do think career IT pursued without engineerknowing codenn What career I could take look intonn If know Italian job market I consider moving And whynn Any tip mennI already see people mocking comment I say well laugh together ahahanI many uncertainty I ask someone                                                                                                                                                                                                                                                                                                                                                                                                                                                                                                                                                         3\n",
       "So Ive considering transferring new group department company Id chance work something Ive felt passionate Its thing Id working course Id get put hand nnThe downside Id give half remote work come onsite mostall time Im sure much salary would get bumped I got yearly raise I dont knownnWhen I lay table new opportunity doesnt sound glamorous I really prioritize time I prioritize health working nearly every day meal prepping etc Id really make major adjustment fit new role But hey least Id working passion project right nnI feel like work isnt interesting nowadays I know there ups down every job I know I cant stay cushy situation forever I also value time mentioned I kinda hate going office stand Part feel like maybe I choice I get factnnAnyone similar experience And choose le work life balance passion vice versa Are even possible                                                                                                                                                                                                                                                                                                                                                                                                                                                                                                                                                                                                                                                                                                                                                                                                                                                                                                                                                                                                                                                            3\n",
       "Ive always wanted go finance industry completely unsure itnnCurrently I YOE automotive sale M I feel I started achieving aspiration thus far time something itnnI ended getting business administration degree hope least escaping labor intensive entry level position As see I havent even begun use yet auto sale require In retrospect I wish wouldve gone finance economics isnnSo here I I thinking earning CPA accounting several year going finance industry I feel resume currently strong enough get finance related fieldsnnI hope attend higherranking MBA school l still management experience Just GPA seemingly useless degreennAre efficient path I take Is current plan horrible Am I getting old already something like IB I unsure I MLM                                                                                                                                                                                                                                                                                                                                                                                                                                                                                                                                                                                                                                                                                                                                                                                                                                                                                                                                                                                                                                                                                                                                                                     3\n",
       "                                                                                                                                                                                                                                                                                                                                                                                                                                                                                                                                                                                                                                                                                                                                                                                                                                                                                                                                                                                                                                                                                                                                                                                                                                                                                                                                                                                                                                                                                                                                                                                                                                                                                                                                                                                                                                                                                                                               ..\n",
       "I come telecom side working consulting year Have Masters Degree Signal Processing Communications Engineering Nokia Routing Specialist working toward CCNA Most experience installing IPMPLS router electric utility I lot experience physical design side lot theoretical knowledge configuration side lot configurationsupport experience bridge gapnnIm hoping fix gap move network focused role Im sure company view experience My job right giving opportunity I want somehow started give project incredibly boring incredibly stressful nnIm hoping leave current position ASAP affecting mental health Im worried leaving make even difficult make shift Im hoping make I would use time get many cert I CCNA Cloud Computing Security JNCIA etc I personally know would better growth Im company I dont know future employer see waynnAny advice Should I leave Try wait Anything else I make qualified shift network engineering rolennTIA                                                                                                                                                                                                                                                                                                                                                                                                                                                                                                                                                                                                                                                                                                                                                                                                                                                                                                                                                                             1\n",
       "I understand US government employee paid predetermined scale The job Im offered would k benefit I currently make k benefit contractor Is possible negotiate salary NavyGovernment pay based pay grade scale dont stray allnnEdit The position follows GS pay scale FTE civilian job enlistment                                                                                                                                                                                                                                                                                                                                                                                                                                                                                                                                                                                                                                                                                                                                                                                                                                                                                                                                                                                                                                                                                                                                                                                                                                                                                                                                                                                                                                                                                                                                                                                                                                  1\n",
       "My nd job IT im seeing reoccuring pattern Unmotivated lazy team member leaving scortched earth resign cleaning upnnWhat mean trash drawer cabinet turning whole room storage garbage knowledge base longer relevant messy wiring broken window installation broken speaker inventory list go onnnWhen im watching IT guy YouTube look sterile clean part lab laptop cart everything numbered serialized network cabin look like data centersnnIs area Share experience                                                                                                                                                                                                                                                                                                                                                                                                                                                                                                                                                                                                                                                                                                                                                                                                                                                                                                                                                                                                                                                                                                                                                                                                                                                                                                                                                                                                                                                          1\n",
       "Today got told Im risk redundancy well bit kick assnnCompany deal proprietary software Im bloody good developingdebuggingmergingtraining etc well skill useless pointnnSo I need learn upskill I idea startnnIve done online training C React year job never really touched area Im certain knowledge I learnt long gonennI know I still principle methodology software development cycle But language would dear redditors suggest I look intonnProprietary software xmljava script based occasional SQL stored procsviewsfunctions thrown mix good measure                                                                                                                                                                                                                                                                                                                                                                                                                                                                                                                                                                                                                                                                                                                                                                                                                                                                                                                                                                                                                                                                                                                                                                                                                                                                                                                                                                    1\n",
       "This NOC Network Engineer position Research Education ISP Position work remotely support premother ISPvendor variousNetwork engineer Supporting LAN WAN Uses Ansible Python Perl Git Majority Cisco Juniper equipmentnnnEXTRA BACKGROUND INFOnAlso searching old post Reddit searching online useful article also studying CCNA cert lurk rccna I brushing CompTIA Network material Also I asked Engineers team since I frequently speak I internalwork service desk mostly ITIL capacity I definitely ask Eng lot question listen call troubleshoot Some Python experience coursework towards unfinished BS CompSci degree Previously worked MSP got touch lot thing never allowed deep dive complex issue                                                                                                                                                                                                                                                                                                                                                                                                                                                                                                                                                                                                                                                                                                                                                                                                                                                                                                                                                                                                                                                                                                                                                                                                                     1\n",
       "Name: count, Length: 7863, dtype: int64"
      ]
     },
     "execution_count": 12,
     "metadata": {},
     "output_type": "execute_result"
    }
   ],
   "source": [
    "df['text'].value_counts()"
   ]
  },
  {
   "cell_type": "code",
   "execution_count": 13,
   "id": "a58ee0fd",
   "metadata": {},
   "outputs": [],
   "source": [
    "df.drop_duplicates(subset='text', keep='first', inplace=True)\n"
   ]
  },
  {
   "cell_type": "code",
   "execution_count": 14,
   "id": "a126017a",
   "metadata": {},
   "outputs": [
    {
     "data": {
      "text/plain": [
       "(7863, 17)"
      ]
     },
     "execution_count": 14,
     "metadata": {},
     "output_type": "execute_result"
    }
   ],
   "source": [
    "df.shape"
   ]
  },
  {
   "cell_type": "code",
   "execution_count": 15,
   "id": "0a516bb4",
   "metadata": {},
   "outputs": [],
   "source": [
    "df.to_csv('ready_data.csv', index=False)"
   ]
  },
  {
   "cell_type": "markdown",
   "id": "20a1a1ff",
   "metadata": {},
   "source": [
    "### Performing Sentiment Analysis with VADER"
   ]
  },
  {
   "cell_type": "code",
   "execution_count": null,
   "id": "abdb5fb6",
   "metadata": {},
   "outputs": [],
   "source": []
  }
 ],
 "metadata": {
  "kernelspec": {
   "display_name": "Python 3 (ipykernel)",
   "language": "python",
   "name": "python3"
  },
  "language_info": {
   "codemirror_mode": {
    "name": "ipython",
    "version": 3
   },
   "file_extension": ".py",
   "mimetype": "text/x-python",
   "name": "python",
   "nbconvert_exporter": "python",
   "pygments_lexer": "ipython3",
   "version": "3.10.9"
  }
 },
 "nbformat": 4,
 "nbformat_minor": 5
}
